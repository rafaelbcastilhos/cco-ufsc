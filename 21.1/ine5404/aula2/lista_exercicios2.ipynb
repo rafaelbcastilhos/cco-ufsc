{
 "cells": [
  {
   "cell_type": "markdown",
   "metadata": {},
   "source": [
    "Exercício 1. Faça um Programa que leia um vetor de 5 números inteiros e mostre-os."
   ]
  },
  {
   "cell_type": "code",
   "execution_count": null,
   "metadata": {},
   "outputs": [],
   "source": [
    "def main():\n",
    "    vetor = []\n",
    "    for i in range(5):\n",
    "        vetor.append(int(input(f\"Entre com valor para indice {i}: \")))\n",
    "        \n",
    "    print(vetor)\n",
    "        \n",
    "main()"
   ]
  },
  {
   "cell_type": "markdown",
   "metadata": {},
   "source": [
    "Exercício 2. Faça um Programa que leia um vetor de 10 números reais e mostre-os na ordem inversa."
   ]
  },
  {
   "cell_type": "code",
   "execution_count": null,
   "metadata": {},
   "outputs": [],
   "source": [
    "def main():\n",
    "    vetor = []\n",
    "    for i in range(10):\n",
    "        vetor.append(int(input(f\"Entre com valor para indice {i}: \")))\n",
    "        \n",
    "    print(vetor[::-1])\n",
    "        \n",
    "main()"
   ]
  },
  {
   "cell_type": "markdown",
   "metadata": {},
   "source": [
    "Exercício 3. Faça um Programa que leia 4 notas, mostre as notas e a média na tela."
   ]
  },
  {
   "cell_type": "code",
   "execution_count": null,
   "metadata": {},
   "outputs": [],
   "source": [
    "def main():\n",
    "    notas = []\n",
    "    soma = 0\n",
    "    for i in range(4):\n",
    "        notas.append(float(input(f\"Entre com nota {i + 1}: \")))\n",
    "\n",
    "    for j in range(len(notas)):\n",
    "        soma += notas[j]\n",
    "        print(f\"Nota {j+1}: {notas[j]}\")\n",
    "\n",
    "    print(f\"Media: {soma / len(notas)}\")\n",
    "        \n",
    "main()"
   ]
  },
  {
   "cell_type": "markdown",
   "metadata": {},
   "source": [
    "Exercício 4. Faça um Programa que leia um vetor de 10 caracteres, e diga quantas consoantes foram lidas. Imprima as consoantes"
   ]
  },
  {
   "cell_type": "code",
   "execution_count": null,
   "metadata": {},
   "outputs": [],
   "source": [
    "def main():\n",
    "    consoantes = []\n",
    "    for i in range(10):\n",
    "        letra = input(f\"Entre com letra {i + 1}: \").lower()\n",
    "        if(letra != 'a' and letra != 'e' and letra != 'i' and letra != 'o' and letra != 'u'):\n",
    "            consoantes.append(letra)\n",
    "\n",
    "    print(f\"Consoantes: {consoantes}, quantidade total: {len(consoantes)}\")\n",
    "\n",
    "main()"
   ]
  },
  {
   "cell_type": "markdown",
   "metadata": {},
   "source": [
    "Exercício 5. Faça um Programa que leia 20 números inteiros e armazene-os num vetor. Armazene os números pares no vetor PAR e os números IMPARES no vetor impar. Imprima os três vetores."
   ]
  },
  {
   "cell_type": "code",
   "execution_count": null,
   "metadata": {},
   "outputs": [],
   "source": [
    "def main():\n",
    "    vetor = []\n",
    "    par = []\n",
    "    impar = []\n",
    "    for i in range(20):\n",
    "        num = int(input(f\"Entre com numero {i + 1}: \"))\n",
    "        if(num %2 == 0):\n",
    "            par.append(num)\n",
    "        else:\n",
    "            impar.append(num)\n",
    "        vetor.append(num)\n",
    "\n",
    "\n",
    "    print(f\"Completo: {vetor}\")\n",
    "    print(f\"Par: {par}\")\n",
    "    print(f\"Impar: {impar}\")\n",
    "\n",
    "main()"
   ]
  },
  {
   "cell_type": "markdown",
   "metadata": {},
   "source": [
    "Exercício 6. Faça um Programa que peça as quatro notas de 10 alunos, calcule e armazene num vetor a média de cada aluno, imprima o número de alunos com média maior ou igual a 7.0."
   ]
  },
  {
   "cell_type": "code",
   "execution_count": null,
   "metadata": {},
   "outputs": [],
   "source": [
    "def main():\n",
    "    medias = []\n",
    "    aprovados = 0\n",
    "    nota = 0\n",
    "\n",
    "    for i in range(10):\n",
    "        print(f\"Aluno {i + 1}:\")\n",
    "        for j in range(4):\n",
    "            nota += float(input(f\"Entre com nota {i + 1}: \"))\n",
    "        medias.append(nota / 4)\n",
    "\n",
    "    for j in range(len(medias)):\n",
    "        if(medias[j] >= 7):\n",
    "            aprovados += 1\n",
    "    print(f\"Aprovados: {aprovados}\")\n",
    "        \n",
    "main()"
   ]
  },
  {
   "cell_type": "markdown",
   "metadata": {},
   "source": [
    "Exercício 7. Faça um Programa que leia um vetor de 5 números inteiros, mostre a soma, a multiplicação e os números."
   ]
  },
  {
   "cell_type": "code",
   "execution_count": null,
   "metadata": {},
   "outputs": [],
   "source": [
    "def main():\n",
    "    vetor = []\n",
    "    soma = 0\n",
    "    multiplicacao = 1.0\n",
    "\n",
    "    for i in range(5):\n",
    "        valor = float(input(f\"Entre com valor para indice {i}: \"))\n",
    "        vetor.append(valor)\n",
    "        soma += valor\n",
    "        multiplicacao *= valor\n",
    "\n",
    "    print(f\"Soma: {soma}\")\n",
    "    print(f\"Multiplicacao: {multiplicacao}\")\n",
    "    print(f\"Vetor: {vetor}\")\n",
    "\n",
    "main()"
   ]
  },
  {
   "cell_type": "raw",
   "metadata": {},
   "source": [
    "Exercício 8. Faça um Programa que peça a idade e a altura de 5 pessoas, armazene cada informação no seu respectivo vetor. Imprima a idade e a altura na ordem inversa a ordem lida"
   ]
  },
  {
   "cell_type": "code",
   "execution_count": null,
   "metadata": {},
   "outputs": [],
   "source": [
    "def main():\n",
    "    matriz = []\n",
    "    for _ in range(5):\n",
    "        linha = []\n",
    "        linha.append(int(input(f\"Informe idade: \")))\n",
    "        linha.append(float(input(f\"Informe altura: \")))\n",
    "        matriz.append(linha)\n",
    "        \n",
    "\n",
    "    print(\"Ordem inversa da linha: \")\n",
    "    for j in range(len(matriz)):\n",
    "        print(matriz[j][::-1])\n",
    "\n",
    "    \n",
    "    print(\"Ordem inversa da matriz: \")\n",
    "    print(matriz[::-1])\n",
    "\n",
    "main()"
   ]
  },
  {
   "cell_type": "markdown",
   "metadata": {},
   "source": [
    "Exercício 9. Faça um Programa que leia um vetor A com 10 números inteiros, calcule e mostre a soma dos quadrados dos elementos do vetor."
   ]
  },
  {
   "cell_type": "code",
   "execution_count": null,
   "metadata": {},
   "outputs": [],
   "source": [
    "def main():\n",
    "    vetor = []\n",
    "    soma = 0\n",
    "\n",
    "    for i in range(10):\n",
    "        valor = int(input(f\"Entre com valor para indice {i}: \"))\n",
    "        vetor.append(valor)\n",
    "        soma += valor ** 2\n",
    "\n",
    "    print(f\"Vetor: {vetor}\")\n",
    "    print(f\"Soma dos quadrados: {soma}\")\n",
    "\n",
    "main()"
   ]
  },
  {
   "cell_type": "markdown",
   "metadata": {},
   "source": [
    "Exercício 10. Faça um Programa que leia dois vetores com 10 elementos cada. Gere um terceiro vetor de 20 elementos, cujos valores deverão ser compostos pelos elementos intercalados dos dois outros vetores."
   ]
  },
  {
   "cell_type": "code",
   "execution_count": null,
   "metadata": {},
   "outputs": [],
   "source": [
    "def le_entrada(vetor, i, nome):\n",
    "    valor = int(input(f\"Entre com valor para indice {i} para o vetor {nome}: \"))\n",
    "    vetor.append(valor)\n",
    "\n",
    "def juncao_intercalada(vetor_a, vetor_b, vetor_c):\n",
    "    for i in range(10):\n",
    "        vetor_c.append(vetor_a[i])\n",
    "        vetor_c.append(vetor_b[i])\n",
    "\n",
    "    return vetor_c\n",
    "    \n",
    "def main():\n",
    "    vetor_a, vetor_b, vetor_c = [],[],[]\n",
    "\n",
    "    for i in range(10):\n",
    "        le_entrada(vetor_a, i, \"A\")\n",
    "        le_entrada(vetor_b, i, \"B\")\n",
    "\n",
    "    print(f\"Juncao intercalada: {juncao_intercalada(vetor_a, vetor_b, vetor_c)}\")\n",
    "\n",
    "main()"
   ]
  },
  {
   "cell_type": "markdown",
   "metadata": {},
   "source": [
    "Exercício 11. Altere o programa anterior, intercalando 3 vetores de 10 elementos cada."
   ]
  },
  {
   "cell_type": "code",
   "execution_count": null,
   "metadata": {},
   "outputs": [],
   "source": [
    "def le_entrada(vetor, i, nome):\n",
    "    valor = int(input(f\"Entre com valor para indice {i} para o vetor {nome}: \"))\n",
    "    vetor.append(valor)\n",
    "\n",
    "def juncao_intercalada(vetor_a, vetor_b, vetor_c, vetor_d):\n",
    "    for i in range(10):\n",
    "        vetor_d.append(vetor_a[i])\n",
    "        vetor_d.append(vetor_b[i])\n",
    "        vetor_d.append(vetor_c[i])\n",
    "\n",
    "    return vetor_d\n",
    "    \n",
    "def main():\n",
    "    vetor_a, vetor_b, vetor_c, vetor_d = [],[],[],[]\n",
    "\n",
    "    for i in range(10):\n",
    "        le_entrada(vetor_a, i, \"A\")\n",
    "        le_entrada(vetor_b, i, \"B\")\n",
    "        le_entrada(vetor_c, i, \"C\")\n",
    "\n",
    "    print(f\"Juncao intercalada: {juncao_intercalada(vetor_a, vetor_b, vetor_c, vetor_d)}\")\n",
    "\n",
    "main()"
   ]
  },
  {
   "cell_type": "markdown",
   "metadata": {},
   "source": [
    "Exercício 12. Foram anotadas as idades e alturas de 30 alunos. Faça um Programa que determine quantos alunos com mais de 13 anos possuem altura inferior à média de altura desses alunos."
   ]
  },
  {
   "cell_type": "code",
   "execution_count": null,
   "metadata": {},
   "outputs": [],
   "source": [
    "class Aluno:\n",
    "    def __init__(self, idade: int, altura: float):\n",
    "        self.__idade = idade\n",
    "        self.__altura = altura\n",
    "        \n",
    "    @property\n",
    "    def idade(self):\n",
    "        return self.__idade\n",
    "    \n",
    "    @property\n",
    "    def altura(self):\n",
    "        return self.__altura\n",
    "    \n",
    "def main():\n",
    "    alunos = []\n",
    "    media_altura = 0\n",
    "    quantidade_saida = 0\n",
    "\n",
    "    for i in range(30):\n",
    "        idade = int(input(f\"Entre com idade do aluno {i+1}: \"))\n",
    "        altura = float(input(f\"Entre com altura do aluno {i+1}: \"))\n",
    "        media_altura += altura\n",
    "        aluno = Aluno(idade, altura)\n",
    "        alunos.append(aluno)\n",
    "\n",
    "    media_altura /= len(alunos)\n",
    "    print(media_altura)\n",
    "    for aluno in alunos:\n",
    "        if aluno.idade > 13 and aluno.altura < media_altura:\n",
    "            quantidade_saida+=1\n",
    "            \n",
    "    print(f\"Quantidade de alunos com mais de 13 anos possuem altura inferior à média de altura é {quantidade_saida}\")\n",
    "    \n",
    "main()"
   ]
  },
  {
   "cell_type": "markdown",
   "metadata": {},
   "source": [
    "Exercício 13. Faça um programa que receba a temperatura média de cada mês do ano e armazene-as em uma lista. Após isto, calcule a média anual das temperaturas e mostre todas as temperaturas acima da média anual, e em que mês elas ocorreram (mostrar o mês por extenso: 1 – Janeiro, 2 – Fevereiro, . . . )"
   ]
  },
  {
   "cell_type": "code",
   "execution_count": null,
   "metadata": {},
   "outputs": [],
   "source": [
    "def main():\n",
    "    meses = [\"Janeiro\", \"Fevereiro\", \"Março\", \"Abril\", \"Maio\", \"Junho\", \"Julho\", \"Agosto\", \"Setembro\", \"Outubro\", \"Novembro\", \"Dezembro\"]\n",
    "    temperaturas = []\n",
    "    media_temperatura = 0\n",
    "\n",
    "    for mes in meses:\n",
    "        temperatura = float(input(f\"Entre com temperatura media de {mes}: \"))\n",
    "        temperaturas.append(temperatura)\n",
    "        media_temperatura += temperatura\n",
    "\n",
    "    media_temperatura /= len(temperaturas)\n",
    "    print(f\"Média da temperatura: {media_temperatura}\")\n",
    "\n",
    "    for i in range(len(meses)):\n",
    "        if temperaturas[i] > media_temperatura:\n",
    "            print(f\"{meses[i]} - {temperaturas[i]}\")\n",
    "\n",
    "    \n",
    "main()"
   ]
  },
  {
   "cell_type": "markdown",
   "metadata": {},
   "source": [
    "Exercício 14. Utilizando listas faça um programa que faça 5 perguntas para uma pessoa sobre um crime. As perguntas são:\n",
    "○ \"Telefonou para a vítima?\"\n",
    "○ \"Esteve no local do crime?\"\n",
    "○ \"Mora perto da vítima?\"\n",
    "○ \"Devia para a vítima?\"\n",
    "○ \"Já trabalhou com a vítima?\"\n",
    "O programa deve no final emitir uma classificação sobre a participação da pessoa no crime. Se a pessoa responder positivamente a 2 questões ela deve ser classificada como \"Suspeita\", entre 3 e 4 como \"Cúmplice\" e 5 como \"Assassino\". Caso contrário, ele será classificado como \"Inocente\"."
   ]
  },
  {
   "cell_type": "code",
   "execution_count": null,
   "metadata": {},
   "outputs": [],
   "source": [
    "def main():\n",
    "    questionario = [\n",
    "        \"Telefonou para a vítima?\",\n",
    "        \"Esteve no local do crime?\",\n",
    "        \"Mora perto da vítima?\",\n",
    "        \"Devia para a vítima?\",\n",
    "        \"Já trabalhou com a vítima?\"\n",
    "    ]\n",
    "    positivamente = 0\n",
    "\n",
    "    print(\"Responda com 's' ou 'n':\")\n",
    "    for pergunta in questionario:\n",
    "        resposta = str(input(pergunta))\n",
    "        if(resposta == 's'):\n",
    "            positivamente+=1\n",
    "\n",
    "    if positivamente == 2:\n",
    "        print(\"Suspeita\")\n",
    "\n",
    "    elif positivamente >= 3 and positivamente <= 4:\n",
    "        print(\"Cúmplice\")\n",
    "        \n",
    "    elif positivamente == 5:\n",
    "        print(\"Assassino\")\n",
    "        \n",
    "    else:\n",
    "        print(\"Inocente\")\n",
    "main()"
   ]
  },
  {
   "cell_type": "markdown",
   "metadata": {},
   "source": [
    "Exercício 15. Faça um programa que leia um número indeterminado de valores, correspondentes a notas, encerrando a entrada de dados quando for informado um valor igual a -1 (que não deve ser armazenado). Após esta entrada de dados, faça:\n",
    "○ Mostre a quantidade de valores que foram lidos;\n",
    "○ Exiba todos os valores na ordem em que foram informados, um ao lado do outro;\n",
    "○ Exiba todos os valores na ordem inversa à que foram informados, um abaixo do\n",
    "outro;\n",
    "○ Calcule e mostre a soma dos valores;\n",
    "○ Calcule e mostre a média dos valores;\n",
    "○ Calcule e mostre a quantidade de valores acima da média calculada;\n",
    "○ Calcule e mostre a quantidade de valores abaixo de sete;\n",
    "○ Encerre o programa com uma mensagem;"
   ]
  },
  {
   "cell_type": "code",
   "execution_count": null,
   "metadata": {},
   "outputs": [],
   "source": [
    "def main():\n",
    "    entrada, soma, media, acima_media, abaixo_sete = 0, 0, 0, 0, 0\n",
    "    vetor = []\n",
    "\n",
    "    while True:\n",
    "        entrada = float(input(\"Entre com valor: \"))\n",
    "        if entrada == -1:\n",
    "            break\n",
    "\n",
    "        vetor.append(entrada)\n",
    "        soma += entrada\n",
    "        if(entrada < 7):\n",
    "            abaixo_sete+=1\n",
    "\n",
    "    media = soma / len(vetor)\n",
    "    for valor in vetor:\n",
    "        if valor >= media:\n",
    "            acima_media+=1\n",
    "\n",
    "    print(f\"Quantidade: {len(vetor)}\")\n",
    "    print(f\"Ordem: {vetor}\")\n",
    "    print(f\"Ordem inversa, um abaixo de outro:\")\n",
    "    \n",
    "    for valor in vetor[::-1]:\n",
    "        print(valor)        \n",
    "\n",
    "    print(f\"Soma: {soma}\")\n",
    "    print(f\"Média: {media}\")\n",
    "    print(f\"Quantidade acima da média: {acima_media}\")\n",
    "    print(f\"Quantidade abaixo de sete: {abaixo_sete}\")\n",
    "    print(\"Thats all folks!\")\n",
    "\n",
    "    \n",
    "main()"
   ]
  }
 ],
 "metadata": {
  "kernelspec": {
   "display_name": "Python 3",
   "language": "python",
   "name": "python3"
  },
  "language_info": {
   "codemirror_mode": {
    "name": "ipython",
    "version": 3
   },
   "file_extension": ".py",
   "mimetype": "text/x-python",
   "name": "python",
   "nbconvert_exporter": "python",
   "pygments_lexer": "ipython3",
   "version": "3.6.7"
  }
 },
 "nbformat": 4,
 "nbformat_minor": 2
}
