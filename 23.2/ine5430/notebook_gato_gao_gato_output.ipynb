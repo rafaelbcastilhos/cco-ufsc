{
  "cells": [
    {
      "cell_type": "markdown",
      "source": [
        "Gato vs Não-Gato\n",
        "\n",
        "Aluno: Rafael Begnini de Castilhos (20205642)\n",
        "    \n",
        "Neste trabalho, será abordado o reconhecimento de padrões por meio do treinamento de uma rede neural. O objetivo é desenvolver um sistema capaz de identificar e classificar imagens de gatinhos como \"gatos\" ou \"não-gatos\".\n",
        "\n",
        "O objetivo é atribuir um valor de classificação correto para cada imagem, sendo que o valor 0 corresponderá a \"não-gato\" e o valor 1 corresponderá a \"gato\".\n",
        "\n",
        "Para resolver esse problema, serão explorados três modelos diferentes: um perceptron simples (regressão logística), uma rede neural de camada rasa e uma rede neural convolucional.\n",
        "\n",
        "Cada modelo terá seu próprio processo de treinamento e teste, para encontrar a abordagem mais adequada para a classificação das imagens."
      ],
      "metadata": {
        "id": "66IzD-TV7bVw"
      }
    },
    {
      "cell_type": "markdown",
      "source": [
        "### Regressão Logística\n",
        "Inicialmente, abordarei o problema utilizando apenas um perceptron, por meio de regressão logística."
      ],
      "metadata": {
        "id": "mgzzMHIk7OPT"
      }
    },
    {
      "cell_type": "markdown",
      "source": [
        "Importando as bibliotecas e lendo os dados"
      ],
      "metadata": {
        "id": "KBIXtp7U7L61"
      }
    },
    {
      "cell_type": "code",
      "execution_count": 1,
      "metadata": {
        "id": "kdJ0ZgqInKtY",
        "tags": []
      },
      "outputs": [],
      "source": [
        "# Importando bibliotecas\n",
        "import numpy as np\n",
        "import h5py\n",
        "import matplotlib.pyplot as plt\n",
        "\n",
        "# Carregando os dados\n",
        "train_dataset = h5py.File('./train_catvnoncat.h5', \"r\")\n",
        "train_set_x_orig = np.array(train_dataset[\"train_set_x\"][:]) # train set features\n",
        "train_set_y_orig = np.array(train_dataset[\"train_set_y\"][:]) # train set labels\n",
        "\n",
        "test_dataset = h5py.File('./test_catvnoncat.h5', \"r\")\n",
        "test_set_x_orig = np.array(test_dataset[\"test_set_x\"][:]) # test set features\n",
        "test_set_y_orig = np.array(test_dataset[\"test_set_y\"][:]) # test set labels"
      ]
    },
    {
      "cell_type": "code",
      "execution_count": 2,
      "metadata": {
        "colab": {
          "base_uri": "https://localhost:8080/",
          "height": 501
        },
        "id": "E5nLJM9e8Wr5",
        "outputId": "20761e53-c31a-4155-d70f-351f11a6d223",
        "tags": []
      },
      "outputs": [
        {
          "output_type": "stream",
          "name": "stdout",
          "text": [
            "Tamanho de treinamento: 209\n",
            "train set shape: (209, 64, 64, 3)\n"
          ]
        },
        {
          "output_type": "execute_result",
          "data": {
            "text/plain": [
              "Text(0, 0.5, 'Classe')"
            ]
          },
          "metadata": {},
          "execution_count": 2
        },
        {
          "output_type": "display_data",
          "data": {
            "text/plain": [
              "<Figure size 640x480 with 1 Axes>"
            ],
            "image/png": "[encoded data removed]"
          },
          "metadata": {}
        }
      ],
      "source": [
        "n = len(train_set_x_orig) # quantidade de imagens\n",
        "print('Tamanho de treinamento:', n)\n",
        "print('train set shape:', train_set_x_orig.shape)\n",
        "\n",
        "plt.scatter(range(n),train_set_y_orig,c='red')\n",
        "plt.xlabel('Imagem')\n",
        "plt.ylabel('Classe')"
      ]
    },
    {
      "cell_type": "markdown",
      "source": [
        "O conjunto de dados consiste em 209 imagens de tamanho 64x64x3, classificadas como gatos (classe 1) ou não-gatos (classe 0)."
      ],
      "metadata": {
        "id": "O8Un0C8n7Gex"
      }
    },
    {
      "cell_type": "markdown",
      "source": [
        "### Manipulando os dados\n",
        "\n",
        "Será realizado um achatamento (flatten) nos vetores de teste e treinamento, além de normalizar os dados de entrada."
      ],
      "metadata": {
        "id": "HMbzhJB07EOe"
      }
    },
    {
      "cell_type": "code",
      "execution_count": 3,
      "metadata": {
        "id": "IRIjgjh0BOpy",
        "tags": []
      },
      "outputs": [],
      "source": [
        "from sklearn.preprocessing import MinMaxScaler\n",
        "\n",
        "# Transformando os arrays em arrays de 209 x 12288 (209 x (64 . 64 . 3))\n",
        "train_set_x = np.array([array.flatten() for array in train_set_x_orig])\n",
        "test_set_x = np.array([array.flatten() for array in test_set_x_orig])\n",
        "\n",
        "# Normalizando o array de treino\n",
        "norm_train_set_x = MinMaxScaler()\n",
        "norm_train_set_x = norm_train_set_x.fit_transform(train_set_x)"
      ]
    },
    {
      "cell_type": "markdown",
      "source": [
        "### Modelando a regressão e realizando testes\n",
        "Modelagem da regressão logística e realização de testes."
      ],
      "metadata": {
        "id": "RS2xPPPx7BKv"
      }
    },
    {
      "cell_type": "code",
      "execution_count": 4,
      "metadata": {
        "colab": {
          "base_uri": "https://localhost:8080/"
        },
        "id": "Rn4d_uoc6Dhz",
        "outputId": "81411f46-9e6c-4b7e-c9cf-d5115cefbdd0",
        "tags": []
      },
      "outputs": [
        {
          "output_type": "stream",
          "name": "stdout",
          "text": [
            "Acurácia sobre o arquivo de treino = 100.0%\n",
            "Acurácia sobre o arquivo de testes = 72.0%\n",
            "\n",
            "Resultados esperados do arquivo de teste: 1 1 1 1 1 0 1 1 1 1 1 1 1 0 0 1 0 1 1 1 1 0 0 1 1 1 1 0 1 0 1 1 1 1 0 0 0 1 0 0 1 1 1 0 0 0 1 1 1 0\n",
            "Resultados obtidos do arquivo de teste:   1 1 1 1 1 0 0 1 1 1 0 0 1 1 0 1 0 1 0 0 1 0 0 1 0 1 1 0 0 1 0 1 1 1 0 0 0 1 0 0 1 0 1 0 1 1 0 1 1 0\n"
          ]
        }
      ],
      "source": [
        "from sklearn.linear_model import LogisticRegression\n",
        "\n",
        "clf = LogisticRegression(random_state=0, max_iter=10000).fit(norm_train_set_x, train_set_y_orig)\n",
        "\n",
        "print(f'Acurácia sobre o arquivo de treino = {clf.score(train_set_x, train_set_y_orig) * 100}%')\n",
        "print(f'Acurácia sobre o arquivo de testes = {clf.score(test_set_x, test_set_y_orig) * 100}%')\n",
        "\n",
        "print('\\nResultados esperados do arquivo de teste:', *test_set_y_orig)\n",
        "print('Resultados obtidos do arquivo de teste:  ', *clf.predict(test_set_x))"
      ]
    },
    {
      "cell_type": "markdown",
      "source": [
        "O modelo criado obteve resultados medianos, sendo capaz de identificar com precisão se uma determinada imagem é de um gato ou não em 72% das vezes."
      ],
      "metadata": {
        "id": "M_BZDRuj68gh"
      }
    },
    {
      "cell_type": "markdown",
      "source": [
        "### Matriz de confusão\n",
        "Com base nos resultados obtidos, foi elaborado uma matriz de confusão para avaliar o desempenho do modelo em relação aos dados de teste."
      ],
      "metadata": {
        "id": "aP0BVl_167Cj"
      }
    },
    {
      "cell_type": "code",
      "execution_count": 5,
      "metadata": {
        "colab": {
          "base_uri": "https://localhost:8080/",
          "height": 466
        },
        "id": "TCTX2F0iJg9D",
        "outputId": "c2fab80a-757a-42e6-c1b9-48a14a87251c",
        "tags": []
      },
      "outputs": [
        {
          "output_type": "execute_result",
          "data": {
            "text/plain": [
              "<sklearn.metrics._plot.confusion_matrix.ConfusionMatrixDisplay at 0x7a9a968a8340>"
            ]
          },
          "metadata": {},
          "execution_count": 5
        },
        {
          "output_type": "display_data",
          "data": {
            "text/plain": [
              "<Figure size 640x480 with 2 Axes>"
            ],
            "image/png": "[encoded data removed]"
          },
          "metadata": {}
        }
      ],
      "source": [
        "from sklearn.metrics import ConfusionMatrixDisplay\n",
        "\n",
        "ConfusionMatrixDisplay.from_estimator(clf, test_set_x, test_set_y_orig)"
      ]
    },
    {
      "cell_type": "markdown",
      "source": [
        "### Rede de camada rasa\n",
        "\n",
        "Visando obter um desempenho ainda melhor e resultados mais confiáveis, foi desenvolvido a classificação de imagens em um modelo mais robusto, com a expectativa de obter maior precisão.\n"
      ],
      "metadata": {
        "id": "PtEr7n5N62aV"
      }
    },
    {
      "cell_type": "markdown",
      "source": [
        "Importando as bibliotecas Keras e Tensorflow"
      ],
      "metadata": {
        "id": "8fIzNO896zo9"
      }
    },
    {
      "cell_type": "code",
      "execution_count": 6,
      "metadata": {
        "id": "8kouFEra2UuI",
        "tags": []
      },
      "outputs": [],
      "source": [
        "from tensorflow import keras\n",
        "from tensorflow.keras import layers\n",
        "from keras.layers import Dense\n",
        "from keras.models import Sequential\n",
        "from tensorflow.keras.utils import to_categorical"
      ]
    },
    {
      "cell_type": "markdown",
      "source": [
        "Definindo as classes de classificação\n",
        "Vamos utilizar duas classes:\n",
        "\n",
        "*   0 - não-gato\n",
        "*   1 - gato"
      ],
      "metadata": {
        "id": "En17qTc66wBU"
      }
    },
    {
      "cell_type": "code",
      "execution_count": 7,
      "metadata": {
        "id": "kXtKFR0E7iPf",
        "tags": []
      },
      "outputs": [],
      "source": [
        "train_set_y = to_categorical(train_set_y_orig, 2)\n",
        "test_set_y = to_categorical(test_set_y_orig, 2)"
      ]
    },
    {
      "cell_type": "markdown",
      "source": [
        "### Definindo um novo modelo\n",
        "Para esta abordagem, será utilizado uma rede neural com apenas 3 camadas:\n",
        "*   uma camada de entrada (*flatten*);\n",
        "*   uma camada intermediária, composta por 1000 neurônios (com função de ativação sigmóide)\n",
        "*   uma camada de saída, composta por 2 neurônios (com função de ativação *softmax*).\n",
        "\n",
        "\n",
        "A rede utilizará o decaimento exponencial da taxa de aprendizado, além de pesos e *bias* aleatórios."
      ],
      "metadata": {
        "id": "Z47dCfx56s9P"
      }
    },
    {
      "cell_type": "code",
      "execution_count": 8,
      "metadata": {
        "colab": {
          "base_uri": "https://localhost:8080/"
        },
        "id": "nq8QBLwm7rKe",
        "outputId": "47bf2179-4f5f-4696-8cef-0bb129eb957a",
        "tags": []
      },
      "outputs": [
        {
          "output_type": "stream",
          "name": "stdout",
          "text": [
            "Model: \"sequential\"\n",
            "_________________________________________________________________\n",
            " Layer (type)                Output Shape              Param #   \n",
            "=================================================================\n",
            " flatten (Flatten)           (209, 12288)              0         \n",
            "                                                                 \n",
            " dense (Dense)               (209, 1000)               12289000  \n",
            "                                                                 \n",
            " dense_1 (Dense)             (209, 2)                  2002      \n",
            "                                                                 \n",
            "=================================================================\n",
            "Total params: 12291002 (46.89 MB)\n",
            "Trainable params: 12291002 (46.89 MB)\n",
            "Non-trainable params: 0 (0.00 Byte)\n",
            "_________________________________________________________________\n"
          ]
        }
      ],
      "source": [
        "def expo(epoch):\n",
        "   initial = 1.0\n",
        "   k = 0.05\n",
        "   lrate = initial * np.exp(-k*epoch)\n",
        "   return lrate\n",
        "\n",
        "lrate = keras.callbacks.LearningRateScheduler(expo)\n",
        "callback = keras.callbacks.EarlyStopping(monitor='val_loss', mode='min', verbose=1, patience=50)\n",
        "\n",
        "model = keras.Sequential()\n",
        "model.add(layers.Flatten())\n",
        "model.add(layers.Dense(1000, kernel_initializer=\"random_uniform\", bias_initializer=\"random_uniform\", activation=\"sigmoid\"))\n",
        "model.add(layers.Dense(2, kernel_initializer=\"random_uniform\", bias_initializer=\"random_uniform\", activation=\"softmax\"))\n",
        "\n",
        "opt = keras.optimizers.SGD()\n",
        "model.compile(optimizer=opt, loss=\"categorical_crossentropy\", metrics=[\"accuracy\"])\n",
        "\n",
        "input_shape = train_set_x.shape\n",
        "model.build(input_shape)\n",
        "\n",
        "model.summary()"
      ]
    },
    {
      "cell_type": "markdown",
      "source": [
        "###Criando um conjunto de validação\n",
        "\n",
        "A fim de acompanhar o progresso da rede, será usado um conjunto de validação composto por 63 fotos."
      ],
      "metadata": {
        "id": "RwOnep9u6qOy"
      }
    },
    {
      "cell_type": "code",
      "execution_count": 9,
      "metadata": {
        "colab": {
          "base_uri": "https://localhost:8080/"
        },
        "id": "wd_ec_Fk7xw0",
        "outputId": "464102af-feff-45b4-e4cf-172375e1a0e6",
        "tags": []
      },
      "outputs": [
        {
          "output_type": "stream",
          "name": "stdout",
          "text": [
            "146\n"
          ]
        }
      ],
      "source": [
        "from sklearn.model_selection import train_test_split\n",
        "\n",
        "x_tr,x_val,y_tr,y_val = train_test_split(norm_train_set_x,train_set_y,test_size = 0.3)\n",
        "num_train = np.size(x_tr,0)\n",
        "print(num_train)"
      ]
    },
    {
      "cell_type": "markdown",
      "source": [
        "### Treinando o modelo\n",
        "\n",
        "Treinamento do modelo, utilizando um tamanho de lote (batch size) de 30 e realizando 2000 épocas."
      ],
      "metadata": {
        "id": "YgcOhLWf6nne"
      }
    },
    {
      "cell_type": "code",
      "execution_count": 10,
      "metadata": {
        "colab": {
          "base_uri": "https://localhost:8080/"
        },
        "id": "0Wgq8d_472c4",
        "outputId": "940342b3-f3fa-4cf9-f81c-5dd4ec4ff412",
        "tags": []
      },
      "outputs": [
        {
          "output_type": "stream",
          "name": "stdout",
          "text": [
            "Epoch 1/2000\n",
            "5/5 - 1s - loss: 8.3743 - accuracy: 0.5959 - val_loss: 0.6364 - val_accuracy: 0.6667 - lr: 1.0000 - 1s/epoch - 272ms/step\n",
            "Epoch 2/2000\n",
            "5/5 - 0s - loss: 0.7261 - accuracy: 0.6507 - val_loss: 0.6413 - val_accuracy: 0.6508 - lr: 0.9512 - 468ms/epoch - 94ms/step\n",
            "Epoch 3/2000\n",
            "5/5 - 0s - loss: 0.6689 - accuracy: 0.6575 - val_loss: 0.6392 - val_accuracy: 0.6508 - lr: 0.9048 - 464ms/epoch - 93ms/step\n",
            "Epoch 4/2000\n",
            "5/5 - 0s - loss: 0.6282 - accuracy: 0.6575 - val_loss: 0.6267 - val_accuracy: 0.6508 - lr: 0.8607 - 470ms/epoch - 94ms/step\n",
            "Epoch 5/2000\n",
            "5/5 - 0s - loss: 0.6169 - accuracy: 0.6507 - val_loss: 0.6655 - val_accuracy: 0.5556 - lr: 0.8187 - 440ms/epoch - 88ms/step\n",
            "Epoch 6/2000\n",
            "5/5 - 0s - loss: 0.6864 - accuracy: 0.6644 - val_loss: 0.6184 - val_accuracy: 0.6508 - lr: 0.7788 - 449ms/epoch - 90ms/step\n",
            "Epoch 7/2000\n",
            "5/5 - 1s - loss: 0.6820 - accuracy: 0.5685 - val_loss: 0.6424 - val_accuracy: 0.6984 - lr: 0.7408 - 521ms/epoch - 104ms/step\n",
            "Epoch 8/2000\n",
            "5/5 - 0s - loss: 0.6147 - accuracy: 0.6575 - val_loss: 1.0227 - val_accuracy: 0.6508 - lr: 0.7047 - 465ms/epoch - 93ms/step\n",
            "Epoch 9/2000\n",
            "5/5 - 1s - loss: 0.7541 - accuracy: 0.6233 - val_loss: 0.9036 - val_accuracy: 0.6508 - lr: 0.6703 - 619ms/epoch - 124ms/step\n",
            "Epoch 10/2000\n",
            "5/5 - 1s - loss: 0.7503 - accuracy: 0.6027 - val_loss: 0.6342 - val_accuracy: 0.6508 - lr: 0.6376 - 742ms/epoch - 148ms/step\n",
            "Epoch 11/2000\n",
            "5/5 - 1s - loss: 0.6653 - accuracy: 0.5890 - val_loss: 0.6268 - val_accuracy: 0.6825 - lr: 0.6065 - 755ms/epoch - 151ms/step\n",
            "Epoch 12/2000\n",
            "5/5 - 1s - loss: 0.6605 - accuracy: 0.6712 - val_loss: 0.6156 - val_accuracy: 0.6508 - lr: 0.5769 - 733ms/epoch - 147ms/step\n",
            "Epoch 13/2000\n",
            "5/5 - 1s - loss: 0.6107 - accuracy: 0.6644 - val_loss: 1.0556 - val_accuracy: 0.6508 - lr: 0.5488 - 782ms/epoch - 156ms/step\n",
            "Epoch 14/2000\n",
            "5/5 - 1s - loss: 0.5931 - accuracy: 0.6712 - val_loss: 0.6103 - val_accuracy: 0.6667 - lr: 0.5220 - 765ms/epoch - 153ms/step\n",
            "Epoch 15/2000\n",
            "5/5 - 1s - loss: 0.6931 - accuracy: 0.6438 - val_loss: 0.6637 - val_accuracy: 0.6508 - lr: 0.4966 - 752ms/epoch - 150ms/step\n",
            "Epoch 16/2000\n",
            "5/5 - 1s - loss: 0.6174 - accuracy: 0.6781 - val_loss: 0.6188 - val_accuracy: 0.6508 - lr: 0.4724 - 550ms/epoch - 110ms/step\n",
            "Epoch 17/2000\n",
            "5/5 - 1s - loss: 0.6522 - accuracy: 0.6507 - val_loss: 0.7181 - val_accuracy: 0.4603 - lr: 0.4493 - 615ms/epoch - 123ms/step\n",
            "Epoch 18/2000\n",
            "5/5 - 0s - loss: 0.6118 - accuracy: 0.6096 - val_loss: 0.6541 - val_accuracy: 0.5238 - lr: 0.4274 - 450ms/epoch - 90ms/step\n",
            "Epoch 19/2000\n",
            "5/5 - 0s - loss: 0.5798 - accuracy: 0.6986 - val_loss: 0.6107 - val_accuracy: 0.6508 - lr: 0.4066 - 440ms/epoch - 88ms/step\n",
            "Epoch 20/2000\n",
            "5/5 - 0s - loss: 0.5715 - accuracy: 0.6644 - val_loss: 0.6197 - val_accuracy: 0.6825 - lr: 0.3867 - 442ms/epoch - 88ms/step\n",
            "Epoch 21/2000\n",
            "5/5 - 0s - loss: 0.5116 - accuracy: 0.7671 - val_loss: 0.6242 - val_accuracy: 0.5873 - lr: 0.3679 - 444ms/epoch - 89ms/step\n",
            "Epoch 22/2000\n",
            "5/5 - 0s - loss: 0.7324 - accuracy: 0.6575 - val_loss: 0.6072 - val_accuracy: 0.6825 - lr: 0.3499 - 455ms/epoch - 91ms/step\n",
            "Epoch 23/2000\n",
            "5/5 - 0s - loss: 0.5113 - accuracy: 0.7397 - val_loss: 0.6342 - val_accuracy: 0.6032 - lr: 0.3329 - 445ms/epoch - 89ms/step\n",
            "Epoch 24/2000\n",
            "5/5 - 0s - loss: 0.5506 - accuracy: 0.6986 - val_loss: 0.6128 - val_accuracy: 0.6667 - lr: 0.3166 - 470ms/epoch - 94ms/step\n",
            "Epoch 25/2000\n",
            "5/5 - 1s - loss: 0.5422 - accuracy: 0.6575 - val_loss: 0.6257 - val_accuracy: 0.6667 - lr: 0.3012 - 530ms/epoch - 106ms/step\n",
            "Epoch 26/2000\n",
            "5/5 - 0s - loss: 0.4789 - accuracy: 0.7260 - val_loss: 0.7245 - val_accuracy: 0.6508 - lr: 0.2865 - 473ms/epoch - 95ms/step\n",
            "Epoch 27/2000\n",
            "5/5 - 0s - loss: 0.5835 - accuracy: 0.6712 - val_loss: 0.6941 - val_accuracy: 0.6508 - lr: 0.2725 - 449ms/epoch - 90ms/step\n",
            "Epoch 28/2000\n",
            "5/5 - 0s - loss: 0.4860 - accuracy: 0.7603 - val_loss: 0.6260 - val_accuracy: 0.6032 - lr: 0.2592 - 444ms/epoch - 89ms/step\n",
            "Epoch 29/2000\n",
            "5/5 - 0s - loss: 0.5906 - accuracy: 0.6918 - val_loss: 0.6678 - val_accuracy: 0.6508 - lr: 0.2466 - 452ms/epoch - 90ms/step\n",
            "Epoch 30/2000\n",
            "5/5 - 0s - loss: 0.5147 - accuracy: 0.7192 - val_loss: 0.6183 - val_accuracy: 0.6508 - lr: 0.2346 - 438ms/epoch - 88ms/step\n",
            "Epoch 31/2000\n",
            "5/5 - 0s - loss: 0.5017 - accuracy: 0.7192 - val_loss: 0.8121 - val_accuracy: 0.6508 - lr: 0.2231 - 455ms/epoch - 91ms/step\n",
            "Epoch 32/2000\n",
            "5/5 - 0s - loss: 0.4870 - accuracy: 0.7329 - val_loss: 0.6333 - val_accuracy: 0.6032 - lr: 0.2122 - 433ms/epoch - 87ms/step\n",
            "Epoch 33/2000\n",
            "5/5 - 0s - loss: 0.4713 - accuracy: 0.7466 - val_loss: 0.6428 - val_accuracy: 0.6667 - lr: 0.2019 - 460ms/epoch - 92ms/step\n",
            "Epoch 34/2000\n",
            "5/5 - 0s - loss: 0.4493 - accuracy: 0.7192 - val_loss: 0.6080 - val_accuracy: 0.6667 - lr: 0.1920 - 441ms/epoch - 88ms/step\n",
            "Epoch 35/2000\n",
            "5/5 - 0s - loss: 0.3886 - accuracy: 0.8082 - val_loss: 0.9267 - val_accuracy: 0.6508 - lr: 0.1827 - 467ms/epoch - 93ms/step\n",
            "Epoch 36/2000\n",
            "5/5 - 1s - loss: 0.4700 - accuracy: 0.7534 - val_loss: 0.6191 - val_accuracy: 0.6667 - lr: 0.1738 - 645ms/epoch - 129ms/step\n",
            "Epoch 37/2000\n",
            "5/5 - 1s - loss: 0.3978 - accuracy: 0.7740 - val_loss: 0.7267 - val_accuracy: 0.6667 - lr: 0.1653 - 764ms/epoch - 153ms/step\n",
            "Epoch 38/2000\n",
            "5/5 - 1s - loss: 0.4094 - accuracy: 0.7671 - val_loss: 0.6606 - val_accuracy: 0.5873 - lr: 0.1572 - 763ms/epoch - 153ms/step\n",
            "Epoch 39/2000\n",
            "5/5 - 1s - loss: 0.3731 - accuracy: 0.8356 - val_loss: 0.6613 - val_accuracy: 0.6667 - lr: 0.1496 - 738ms/epoch - 148ms/step\n",
            "Epoch 40/2000\n",
            "5/5 - 1s - loss: 0.3727 - accuracy: 0.7945 - val_loss: 0.7625 - val_accuracy: 0.6825 - lr: 0.1423 - 788ms/epoch - 158ms/step\n",
            "Epoch 41/2000\n",
            "5/5 - 1s - loss: 0.3491 - accuracy: 0.8767 - val_loss: 0.6561 - val_accuracy: 0.6508 - lr: 0.1353 - 754ms/epoch - 151ms/step\n",
            "Epoch 42/2000\n",
            "5/5 - 1s - loss: 0.3198 - accuracy: 0.8288 - val_loss: 0.6557 - val_accuracy: 0.6508 - lr: 0.1287 - 607ms/epoch - 121ms/step\n",
            "Epoch 43/2000\n",
            "5/5 - 1s - loss: 0.3500 - accuracy: 0.8425 - val_loss: 0.6402 - val_accuracy: 0.6349 - lr: 0.1225 - 563ms/epoch - 113ms/step\n",
            "Epoch 44/2000\n",
            "5/5 - 1s - loss: 0.2855 - accuracy: 0.8904 - val_loss: 0.6732 - val_accuracy: 0.6032 - lr: 0.1165 - 520ms/epoch - 104ms/step\n",
            "Epoch 45/2000\n",
            "5/5 - 0s - loss: 0.2807 - accuracy: 0.8699 - val_loss: 0.6627 - val_accuracy: 0.6508 - lr: 0.1108 - 454ms/epoch - 91ms/step\n",
            "Epoch 46/2000\n",
            "5/5 - 0s - loss: 0.2780 - accuracy: 0.8836 - val_loss: 0.6782 - val_accuracy: 0.5873 - lr: 0.1054 - 436ms/epoch - 87ms/step\n",
            "Epoch 47/2000\n",
            "5/5 - 0s - loss: 0.3352 - accuracy: 0.8288 - val_loss: 0.6927 - val_accuracy: 0.6825 - lr: 0.1003 - 450ms/epoch - 90ms/step\n",
            "Epoch 48/2000\n",
            "5/5 - 1s - loss: 0.2862 - accuracy: 0.8699 - val_loss: 0.6740 - val_accuracy: 0.6825 - lr: 0.0954 - 538ms/epoch - 108ms/step\n",
            "Epoch 49/2000\n",
            "5/5 - 1s - loss: 0.2722 - accuracy: 0.8630 - val_loss: 0.7203 - val_accuracy: 0.6349 - lr: 0.0907 - 635ms/epoch - 127ms/step\n",
            "Epoch 50/2000\n",
            "5/5 - 1s - loss: 0.2875 - accuracy: 0.8562 - val_loss: 0.6362 - val_accuracy: 0.6825 - lr: 0.0863 - 543ms/epoch - 109ms/step\n",
            "Epoch 51/2000\n",
            "5/5 - 1s - loss: 0.2638 - accuracy: 0.8973 - val_loss: 0.6820 - val_accuracy: 0.6032 - lr: 0.0821 - 622ms/epoch - 124ms/step\n",
            "Epoch 52/2000\n",
            "5/5 - 1s - loss: 0.2285 - accuracy: 0.9178 - val_loss: 0.6752 - val_accuracy: 0.5873 - lr: 0.0781 - 619ms/epoch - 124ms/step\n",
            "Epoch 53/2000\n",
            "5/5 - 1s - loss: 0.2442 - accuracy: 0.9178 - val_loss: 0.7040 - val_accuracy: 0.5873 - lr: 0.0743 - 618ms/epoch - 124ms/step\n",
            "Epoch 54/2000\n",
            "5/5 - 1s - loss: 0.2133 - accuracy: 0.9315 - val_loss: 0.7073 - val_accuracy: 0.5714 - lr: 0.0707 - 564ms/epoch - 113ms/step\n",
            "Epoch 55/2000\n",
            "5/5 - 0s - loss: 0.2176 - accuracy: 0.9041 - val_loss: 0.7195 - val_accuracy: 0.5714 - lr: 0.0672 - 460ms/epoch - 92ms/step\n",
            "Epoch 56/2000\n",
            "5/5 - 1s - loss: 0.2037 - accuracy: 0.9315 - val_loss: 0.7755 - val_accuracy: 0.5714 - lr: 0.0639 - 536ms/epoch - 107ms/step\n",
            "Epoch 57/2000\n",
            "5/5 - 0s - loss: 0.2045 - accuracy: 0.9384 - val_loss: 0.7143 - val_accuracy: 0.6032 - lr: 0.0608 - 467ms/epoch - 93ms/step\n",
            "Epoch 58/2000\n",
            "5/5 - 1s - loss: 0.1887 - accuracy: 0.9384 - val_loss: 0.7661 - val_accuracy: 0.5714 - lr: 0.0578 - 640ms/epoch - 128ms/step\n",
            "Epoch 59/2000\n",
            "5/5 - 1s - loss: 0.2021 - accuracy: 0.9247 - val_loss: 0.7739 - val_accuracy: 0.5556 - lr: 0.0550 - 509ms/epoch - 102ms/step\n",
            "Epoch 60/2000\n",
            "5/5 - 0s - loss: 0.1848 - accuracy: 0.9521 - val_loss: 0.7290 - val_accuracy: 0.6190 - lr: 0.0523 - 473ms/epoch - 95ms/step\n",
            "Epoch 61/2000\n",
            "5/5 - 1s - loss: 0.1749 - accuracy: 0.9384 - val_loss: 0.7544 - val_accuracy: 0.6508 - lr: 0.0498 - 763ms/epoch - 153ms/step\n",
            "Epoch 62/2000\n",
            "5/5 - 1s - loss: 0.1929 - accuracy: 0.9384 - val_loss: 0.7462 - val_accuracy: 0.5714 - lr: 0.0474 - 795ms/epoch - 159ms/step\n",
            "Epoch 63/2000\n",
            "5/5 - 1s - loss: 0.1668 - accuracy: 0.9521 - val_loss: 0.7374 - val_accuracy: 0.5873 - lr: 0.0450 - 759ms/epoch - 152ms/step\n",
            "Epoch 64/2000\n",
            "5/5 - 1s - loss: 0.1740 - accuracy: 0.9384 - val_loss: 0.7307 - val_accuracy: 0.6349 - lr: 0.0429 - 793ms/epoch - 159ms/step\n",
            "Epoch 65/2000\n",
            "5/5 - 1s - loss: 0.1731 - accuracy: 0.9521 - val_loss: 0.7332 - val_accuracy: 0.6349 - lr: 0.0408 - 723ms/epoch - 145ms/step\n",
            "Epoch 66/2000\n",
            "5/5 - 1s - loss: 0.1604 - accuracy: 0.9589 - val_loss: 0.7371 - val_accuracy: 0.6190 - lr: 0.0388 - 692ms/epoch - 138ms/step\n",
            "Epoch 67/2000\n",
            "5/5 - 0s - loss: 0.1584 - accuracy: 0.9589 - val_loss: 0.7407 - val_accuracy: 0.6190 - lr: 0.0369 - 463ms/epoch - 93ms/step\n",
            "Epoch 68/2000\n",
            "5/5 - 0s - loss: 0.1557 - accuracy: 0.9589 - val_loss: 0.7450 - val_accuracy: 0.6032 - lr: 0.0351 - 449ms/epoch - 90ms/step\n",
            "Epoch 69/2000\n",
            "5/5 - 0s - loss: 0.1601 - accuracy: 0.9589 - val_loss: 0.7412 - val_accuracy: 0.6032 - lr: 0.0334 - 448ms/epoch - 90ms/step\n",
            "Epoch 70/2000\n",
            "5/5 - 0s - loss: 0.1512 - accuracy: 0.9589 - val_loss: 0.7403 - val_accuracy: 0.6190 - lr: 0.0317 - 427ms/epoch - 85ms/step\n",
            "Epoch 71/2000\n",
            "5/5 - 1s - loss: 0.1557 - accuracy: 0.9521 - val_loss: 0.7405 - val_accuracy: 0.6349 - lr: 0.0302 - 516ms/epoch - 103ms/step\n",
            "Epoch 72/2000\n",
            "5/5 - 0s - loss: 0.1458 - accuracy: 0.9658 - val_loss: 0.7422 - val_accuracy: 0.6349 - lr: 0.0287 - 452ms/epoch - 90ms/step\n",
            "Epoch 72: early stopping\n"
          ]
        }
      ],
      "source": [
        "results = model.fit(x_tr, y_tr, validation_data = (x_val, y_val), batch_size = 30, epochs=2000, callbacks=[callback, lrate], verbose=2)"
      ]
    },
    {
      "cell_type": "markdown",
      "source": [
        "### Desempenho do aprendizado\n",
        "\n",
        "É possível visualizar o desempenho do aprendizado ao longo das épocas, representando a acurácia do modelo para os conjuntos de treinamento e validação, bem como o valor da função de custo."
      ],
      "metadata": {
        "id": "mVP8HcLs6ktc"
      }
    },
    {
      "cell_type": "code",
      "execution_count": 11,
      "metadata": {
        "colab": {
          "base_uri": "https://localhost:8080/",
          "height": 887
        },
        "id": "B_poW5KS74j_",
        "outputId": "dc7c84c6-fe25-4bd5-950c-3282def437ad",
        "tags": []
      },
      "outputs": [
        {
          "output_type": "display_data",
          "data": {
            "text/plain": [
              "<Figure size 640x480 with 1 Axes>"
            ],
            "image/png": "[encoded data removed]"
          },
          "metadata": {}
        },
        {
          "output_type": "display_data",
          "data": {
            "text/plain": [
              "<Figure size 640x480 with 1 Axes>"
            ],
            "image/png": "[encoded data removed]"
          },
          "metadata": {}
        }
      ],
      "source": [
        "acc = results.history['accuracy']\n",
        "val_acc = results.history['val_accuracy']\n",
        "loss = results.history['loss']\n",
        "val_loss = results.history['val_loss']\n",
        "epochs = range(1, len(acc) + 1)\n",
        "\n",
        "plt.plot(epochs, acc, 'b', label= 'Training accuracy')\n",
        "plt.plot(epochs, val_acc, 'r', label= 'Validation accuracy')\n",
        "plt.title('Training and Validation accuracy')\n",
        "plt.legend()\n",
        "\n",
        "plt.figure()\n",
        "plt.plot(epochs, loss, 'b', label= 'Training loss')\n",
        "plt.plot(epochs, val_loss, 'r', label= 'Validation loss')\n",
        "plt.title('Training and Validation loss')\n",
        "plt.legend()\n",
        "\n",
        "plt.show()"
      ]
    },
    {
      "cell_type": "markdown",
      "source": [
        "###Desempenho da rede\n",
        "\n",
        "Após configurar e treinar a rede, será testado o desempenho para avaliar o funcionamento do modelo."
      ],
      "metadata": {
        "id": "wgrLwFEh6h4D"
      }
    },
    {
      "cell_type": "code",
      "execution_count": 13,
      "metadata": {
        "colab": {
          "base_uri": "https://localhost:8080/"
        },
        "id": "YwqXV5JX765b",
        "outputId": "744df3a2-0167-43d7-eb22-138881d533da",
        "tags": []
      },
      "outputs": [
        {
          "output_type": "stream",
          "name": "stdout",
          "text": [
            "7/7 [==============================] - 1s 82ms/step\n",
            "2/2 [==============================] - 0s 54ms/step\n",
            "Acurácia sobre o arquivo de treino = 85.6%\n",
            "Acurácia sobre o arquivo de testes = 78.0%\n",
            "\n",
            "Resultados esperados do arquivo de teste: 1 1 1 1 1 0 1 1 1 1 1 1 1 0 0 1 0 1 1 1 1 0 0 1 1 1 1 0 1 0 1 1 1 1 0 0 0 1 0 0 1 1 1 0 0 0 1 1 1 0\n",
            "Resultados obtidos do arquivo de teste:   0 1 1 1 1 0 0 1 1 1 1 1 1 0 0 1 0 1 0 0 1 0 0 0 1 1 1 0 1 1 1 1 1 0 1 0 0 1 1 0 0 1 1 0 0 0 0 1 1 0\n"
          ]
        }
      ],
      "source": [
        "from sklearn.metrics import accuracy_score\n",
        "\n",
        "y_train_pred = model.predict(train_set_x)\n",
        "y_test_pred = model.predict(test_set_x)\n",
        "\n",
        "print('Acurácia sobre o arquivo de treino = {:.1f}%'.format(accuracy_score(train_set_y.argmax(axis=1), y_train_pred.argmax(axis=1)) * 100))\n",
        "print('Acurácia sobre o arquivo de testes = {:.1f}%'.format(accuracy_score(test_set_y.argmax(axis=1), y_test_pred.argmax(axis=1)) * 100))\n",
        "\n",
        "print('\\nResultados esperados do arquivo de teste:', *test_set_y_orig)\n",
        "print('Resultados obtidos do arquivo de teste:  ', *[y_test_pred[x].argmax() for x in range(len(y_test_pred))])"
      ]
    },
    {
      "cell_type": "markdown",
      "source": [
        "###Matriz de confusão\n",
        "\n",
        "Será possível construir uma matriz de confusão, que mostrará o desempenho do modelo em relação à base de dados de teste."
      ],
      "metadata": {
        "id": "BdxM1gSn6en6"
      }
    },
    {
      "cell_type": "code",
      "execution_count": 14,
      "metadata": {
        "colab": {
          "base_uri": "https://localhost:8080/",
          "height": 472
        },
        "id": "G7mo-MaKW-ac",
        "outputId": "f0e54b22-4aab-4627-b513-98e0c670bdb8",
        "tags": []
      },
      "outputs": [
        {
          "output_type": "execute_result",
          "data": {
            "text/plain": [
              "<sklearn.metrics._plot.confusion_matrix.ConfusionMatrixDisplay at 0x7a9a3e887e50>"
            ]
          },
          "metadata": {},
          "execution_count": 14
        },
        {
          "output_type": "display_data",
          "data": {
            "text/plain": [
              "<Figure size 640x480 with 2 Axes>"
            ],
            "image/png": "[encoded data removed]"
          },
          "metadata": {}
        }
      ],
      "source": [
        "ConfusionMatrixDisplay.from_predictions(test_set_y.argmax(axis=1), y_test_pred.argmax(axis=1))"
      ]
    },
    {
      "cell_type": "markdown",
      "source": [
        "###Rede Convolucional\n",
        "\n",
        "Será utilizado um modelo mais robusto para identificação de imagens."
      ],
      "metadata": {
        "id": "4WSmJOnM6asJ"
      }
    },
    {
      "cell_type": "markdown",
      "source": [
        "###Criando um conjunto de validação\n",
        "Será utilizado de um conjunto de validação, desta vez com 21 fotos."
      ],
      "metadata": {
        "id": "oJGRN6do6XdJ"
      }
    },
    {
      "cell_type": "code",
      "execution_count": 15,
      "metadata": {
        "colab": {
          "base_uri": "https://localhost:8080/"
        },
        "id": "5BG_V7aHbU3q",
        "outputId": "b852fd0c-f509-41cc-874f-438553114ac1",
        "tags": []
      },
      "outputs": [
        {
          "output_type": "stream",
          "name": "stdout",
          "text": [
            "188\n"
          ]
        }
      ],
      "source": [
        "x_tr,x_val,ytr,y_val = train_test_split(train_set_x_orig,train_set_y,test_size = 0.1)\n",
        "num_train = np.size(x_tr,0)\n",
        "print(num_train)"
      ]
    },
    {
      "cell_type": "markdown",
      "source": [
        "\n",
        "###Definindo um novo modelo\n",
        "\n",
        "Para esta abordagem, a rede neural com 21 camadas terá:\n",
        "*   4 camadas de convolução, com ativação *relu*;\n",
        "*   9 camadas de normalização do *batch*\n",
        "*   4 camadas de *pooling*;\n",
        "*   1 camada *flatten*\n",
        "*   1 camada de *dropout*;\n",
        "*   2 camadas NN densas."
      ],
      "metadata": {
        "id": "8opwjiXY6P9s"
      }
    },
    {
      "cell_type": "code",
      "execution_count": 16,
      "metadata": {
        "colab": {
          "base_uri": "https://localhost:8080/"
        },
        "id": "-TZOCrTSdfoU",
        "outputId": "f5b5dc15-5801-4ae2-dd70-9d18142d22eb",
        "tags": []
      },
      "outputs": [
        {
          "output_type": "stream",
          "name": "stdout",
          "text": [
            "Model: \"sequential_1\"\n",
            "_________________________________________________________________\n",
            " Layer (type)                Output Shape              Param #   \n",
            "=================================================================\n",
            " conv2d (Conv2D)             (None, 62, 62, 32)        896       \n",
            "                                                                 \n",
            " batch_normalization (Batch  (None, 62, 62, 32)        128       \n",
            " Normalization)                                                  \n",
            "                                                                 \n",
            " max_pooling2d (MaxPooling2  (None, 31, 31, 32)        0         \n",
            " D)                                                              \n",
            "                                                                 \n",
            " batch_normalization_1 (Bat  (None, 31, 31, 32)        128       \n",
            " chNormalization)                                                \n",
            "                                                                 \n",
            " conv2d_1 (Conv2D)           (None, 29, 29, 64)        18496     \n",
            "                                                                 \n",
            " batch_normalization_2 (Bat  (None, 29, 29, 64)        256       \n",
            " chNormalization)                                                \n",
            "                                                                 \n",
            " max_pooling2d_1 (MaxPoolin  (None, 14, 14, 64)        0         \n",
            " g2D)                                                            \n",
            "                                                                 \n",
            " batch_normalization_3 (Bat  (None, 14, 14, 64)        256       \n",
            " chNormalization)                                                \n",
            "                                                                 \n",
            " conv2d_2 (Conv2D)           (None, 12, 12, 128)       73856     \n",
            "                                                                 \n",
            " batch_normalization_4 (Bat  (None, 12, 12, 128)       512       \n",
            " chNormalization)                                                \n",
            "                                                                 \n",
            " max_pooling2d_2 (MaxPoolin  (None, 6, 6, 128)         0         \n",
            " g2D)                                                            \n",
            "                                                                 \n",
            " batch_normalization_5 (Bat  (None, 6, 6, 128)         512       \n",
            " chNormalization)                                                \n",
            "                                                                 \n",
            " conv2d_3 (Conv2D)           (None, 4, 4, 128)         147584    \n",
            "                                                                 \n",
            " batch_normalization_6 (Bat  (None, 4, 4, 128)         512       \n",
            " chNormalization)                                                \n",
            "                                                                 \n",
            " max_pooling2d_3 (MaxPoolin  (None, 2, 2, 128)         0         \n",
            " g2D)                                                            \n",
            "                                                                 \n",
            " batch_normalization_7 (Bat  (None, 2, 2, 128)         512       \n",
            " chNormalization)                                                \n",
            "                                                                 \n",
            " flatten_1 (Flatten)         (None, 512)               0         \n",
            "                                                                 \n",
            " dropout (Dropout)           (None, 512)               0         \n",
            "                                                                 \n",
            " dense_2 (Dense)             (None, 512)               262656    \n",
            "                                                                 \n",
            " batch_normalization_8 (Bat  (None, 512)               2048      \n",
            " chNormalization)                                                \n",
            "                                                                 \n",
            " dense_3 (Dense)             (None, 2)                 1026      \n",
            "                                                                 \n",
            "=================================================================\n",
            "Total params: 509378 (1.94 MB)\n",
            "Trainable params: 506946 (1.93 MB)\n",
            "Non-trainable params: 2432 (9.50 KB)\n",
            "_________________________________________________________________\n"
          ]
        }
      ],
      "source": [
        "model_cnn = keras.Sequential(\n",
        "    [\n",
        "        keras.Input(shape=(64,64,3)),\n",
        "        layers.Conv2D(32, (3,3), activation = 'relu'),\n",
        "        layers.BatchNormalization(),\n",
        "        layers.MaxPooling2D((2,2)),\n",
        "        layers.BatchNormalization(),\n",
        "        layers.Conv2D(64, (3,3), activation = 'relu'),\n",
        "        layers.BatchNormalization(),\n",
        "        layers.MaxPooling2D((2,2)),\n",
        "        layers.BatchNormalization(),\n",
        "        layers.Conv2D(128, (3,3), activation = 'relu'),\n",
        "        layers.BatchNormalization(),\n",
        "        layers.MaxPooling2D((2,2)),\n",
        "        layers.BatchNormalization(),\n",
        "        layers.Conv2D(128, (3,3), activation = 'relu'),\n",
        "        layers.BatchNormalization(),\n",
        "        layers.MaxPooling2D((2,2)),\n",
        "        layers.BatchNormalization(),\n",
        "        layers.Flatten(),\n",
        "        layers.Dropout(0.5),\n",
        "        layers.Dense(512,activation='relu'),\n",
        "        layers.BatchNormalization(),\n",
        "        layers.Dense(2,activation='softmax'),\n",
        "    ]\n",
        ")\n",
        "\n",
        "model_cnn.compile(\n",
        "  loss='categorical_crossentropy',\n",
        "  optimizer='adagrad',\n",
        "  metrics=['accuracy'],\n",
        ")\n",
        "model_cnn.summary()"
      ]
    },
    {
      "cell_type": "markdown",
      "source": [
        "###Treinando o modelo\n",
        "\n",
        "Treinando o modelo criado, utilizando um *batch_size* de tamanho 16 e 100 épocas."
      ],
      "metadata": {
        "id": "caenwKxm6L50"
      }
    },
    {
      "cell_type": "code",
      "execution_count": 17,
      "metadata": {
        "colab": {
          "base_uri": "https://localhost:8080/"
        },
        "id": "HXeQBDgxdnpU",
        "outputId": "fc0537b8-5ce3-434e-c327-be867607b61a",
        "tags": []
      },
      "outputs": [
        {
          "output_type": "stream",
          "name": "stdout",
          "text": [
            "Epoch 1/100\n",
            "12/12 - 4s - loss: 0.9134 - accuracy: 0.5585 - val_loss: 0.7732 - val_accuracy: 0.7619 - 4s/epoch - 322ms/step\n",
            "Epoch 2/100\n",
            "12/12 - 2s - loss: 0.6178 - accuracy: 0.7553 - val_loss: 0.5775 - val_accuracy: 0.7619 - 2s/epoch - 156ms/step\n",
            "Epoch 3/100\n",
            "12/12 - 3s - loss: 0.4287 - accuracy: 0.7872 - val_loss: 0.4726 - val_accuracy: 0.7619 - 3s/epoch - 252ms/step\n",
            "Epoch 4/100\n",
            "12/12 - 2s - loss: 0.4571 - accuracy: 0.7979 - val_loss: 0.4497 - val_accuracy: 0.7619 - 2s/epoch - 194ms/step\n",
            "Epoch 5/100\n",
            "12/12 - 2s - loss: 0.4020 - accuracy: 0.7979 - val_loss: 0.4311 - val_accuracy: 0.7619 - 2s/epoch - 143ms/step\n",
            "Epoch 6/100\n",
            "12/12 - 2s - loss: 0.4420 - accuracy: 0.8085 - val_loss: 0.4012 - val_accuracy: 0.7619 - 2s/epoch - 147ms/step\n",
            "Epoch 7/100\n",
            "12/12 - 2s - loss: 0.3383 - accuracy: 0.8457 - val_loss: 0.3930 - val_accuracy: 0.7143 - 2s/epoch - 146ms/step\n",
            "Epoch 8/100\n",
            "12/12 - 2s - loss: 0.3870 - accuracy: 0.8298 - val_loss: 0.3866 - val_accuracy: 0.8095 - 2s/epoch - 144ms/step\n",
            "Epoch 9/100\n",
            "12/12 - 2s - loss: 0.3321 - accuracy: 0.8511 - val_loss: 0.3813 - val_accuracy: 0.7619 - 2s/epoch - 151ms/step\n",
            "Epoch 10/100\n",
            "12/12 - 3s - loss: 0.3364 - accuracy: 0.8670 - val_loss: 0.3668 - val_accuracy: 0.8095 - 3s/epoch - 244ms/step\n",
            "Epoch 11/100\n",
            "12/12 - 3s - loss: 0.2515 - accuracy: 0.9043 - val_loss: 0.3646 - val_accuracy: 0.8095 - 3s/epoch - 224ms/step\n",
            "Epoch 12/100\n",
            "12/12 - 2s - loss: 0.2120 - accuracy: 0.9096 - val_loss: 0.3558 - val_accuracy: 0.8571 - 2s/epoch - 142ms/step\n",
            "Epoch 13/100\n",
            "12/12 - 2s - loss: 0.2368 - accuracy: 0.9043 - val_loss: 0.3443 - val_accuracy: 0.8095 - 2s/epoch - 147ms/step\n",
            "Epoch 14/100\n",
            "12/12 - 2s - loss: 0.2434 - accuracy: 0.8883 - val_loss: 0.3671 - val_accuracy: 0.8571 - 2s/epoch - 141ms/step\n",
            "Epoch 15/100\n",
            "12/12 - 2s - loss: 0.2724 - accuracy: 0.8777 - val_loss: 0.3448 - val_accuracy: 0.8095 - 2s/epoch - 140ms/step\n",
            "Epoch 16/100\n",
            "12/12 - 2s - loss: 0.2652 - accuracy: 0.8617 - val_loss: 0.3314 - val_accuracy: 0.8095 - 2s/epoch - 150ms/step\n",
            "Epoch 17/100\n",
            "12/12 - 2s - loss: 0.2065 - accuracy: 0.8936 - val_loss: 0.3109 - val_accuracy: 0.8095 - 2s/epoch - 199ms/step\n",
            "Epoch 18/100\n",
            "12/12 - 3s - loss: 0.1959 - accuracy: 0.9309 - val_loss: 0.3433 - val_accuracy: 0.8095 - 3s/epoch - 242ms/step\n",
            "Epoch 19/100\n",
            "12/12 - 2s - loss: 0.1549 - accuracy: 0.9521 - val_loss: 0.3080 - val_accuracy: 0.8095 - 2s/epoch - 158ms/step\n",
            "Epoch 20/100\n",
            "12/12 - 2s - loss: 0.1473 - accuracy: 0.9574 - val_loss: 0.2859 - val_accuracy: 0.8571 - 2s/epoch - 142ms/step\n",
            "Epoch 21/100\n",
            "12/12 - 2s - loss: 0.2308 - accuracy: 0.9043 - val_loss: 0.3249 - val_accuracy: 0.8095 - 2s/epoch - 153ms/step\n",
            "Epoch 22/100\n",
            "12/12 - 2s - loss: 0.1492 - accuracy: 0.9255 - val_loss: 0.3067 - val_accuracy: 0.9048 - 2s/epoch - 143ms/step\n",
            "Epoch 23/100\n",
            "12/12 - 2s - loss: 0.1266 - accuracy: 0.9681 - val_loss: 0.3133 - val_accuracy: 0.9048 - 2s/epoch - 142ms/step\n",
            "Epoch 24/100\n",
            "12/12 - 4s - loss: 0.1341 - accuracy: 0.9415 - val_loss: 0.3102 - val_accuracy: 0.9048 - 4s/epoch - 297ms/step\n",
            "Epoch 25/100\n",
            "12/12 - 3s - loss: 0.1639 - accuracy: 0.9309 - val_loss: 0.3086 - val_accuracy: 0.9048 - 3s/epoch - 285ms/step\n",
            "Epoch 26/100\n",
            "12/12 - 2s - loss: 0.0970 - accuracy: 0.9787 - val_loss: 0.3100 - val_accuracy: 0.9048 - 2s/epoch - 139ms/step\n",
            "Epoch 27/100\n",
            "12/12 - 2s - loss: 0.1489 - accuracy: 0.9415 - val_loss: 0.3316 - val_accuracy: 0.9048 - 2s/epoch - 140ms/step\n",
            "Epoch 28/100\n",
            "12/12 - 2s - loss: 0.1327 - accuracy: 0.9468 - val_loss: 0.3135 - val_accuracy: 0.9048 - 2s/epoch - 142ms/step\n",
            "Epoch 29/100\n",
            "12/12 - 2s - loss: 0.1096 - accuracy: 0.9574 - val_loss: 0.3387 - val_accuracy: 0.9048 - 2s/epoch - 142ms/step\n",
            "Epoch 30/100\n",
            "12/12 - 2s - loss: 0.1268 - accuracy: 0.9574 - val_loss: 0.3338 - val_accuracy: 0.8571 - 2s/epoch - 141ms/step\n",
            "Epoch 31/100\n",
            "12/12 - 2s - loss: 0.0685 - accuracy: 1.0000 - val_loss: 0.3365 - val_accuracy: 0.8095 - 2s/epoch - 162ms/step\n",
            "Epoch 32/100\n",
            "12/12 - 3s - loss: 0.0928 - accuracy: 0.9787 - val_loss: 0.3499 - val_accuracy: 0.8095 - 3s/epoch - 245ms/step\n",
            "Epoch 33/100\n",
            "12/12 - 2s - loss: 0.1317 - accuracy: 0.9415 - val_loss: 0.3518 - val_accuracy: 0.8095 - 2s/epoch - 180ms/step\n",
            "Epoch 34/100\n",
            "12/12 - 2s - loss: 0.0971 - accuracy: 0.9787 - val_loss: 0.3483 - val_accuracy: 0.8095 - 2s/epoch - 161ms/step\n",
            "Epoch 35/100\n",
            "12/12 - 2s - loss: 0.1191 - accuracy: 0.9521 - val_loss: 0.3550 - val_accuracy: 0.8095 - 2s/epoch - 179ms/step\n",
            "Epoch 36/100\n",
            "12/12 - 2s - loss: 0.1226 - accuracy: 0.9628 - val_loss: 0.3835 - val_accuracy: 0.8095 - 2s/epoch - 141ms/step\n",
            "Epoch 37/100\n",
            "12/12 - 2s - loss: 0.1558 - accuracy: 0.9202 - val_loss: 0.3810 - val_accuracy: 0.8095 - 2s/epoch - 142ms/step\n",
            "Epoch 38/100\n",
            "12/12 - 2s - loss: 0.1226 - accuracy: 0.9415 - val_loss: 0.3863 - val_accuracy: 0.8095 - 2s/epoch - 148ms/step\n",
            "Epoch 39/100\n",
            "12/12 - 3s - loss: 0.0993 - accuracy: 0.9681 - val_loss: 0.3673 - val_accuracy: 0.8095 - 3s/epoch - 247ms/step\n",
            "Epoch 40/100\n",
            "12/12 - 2s - loss: 0.0994 - accuracy: 0.9574 - val_loss: 0.4270 - val_accuracy: 0.8095 - 2s/epoch - 196ms/step\n",
            "Epoch 41/100\n",
            "12/12 - 2s - loss: 0.0741 - accuracy: 0.9840 - val_loss: 0.3875 - val_accuracy: 0.8095 - 2s/epoch - 144ms/step\n",
            "Epoch 42/100\n",
            "12/12 - 2s - loss: 0.1182 - accuracy: 0.9521 - val_loss: 0.4182 - val_accuracy: 0.8095 - 2s/epoch - 143ms/step\n",
            "Epoch 43/100\n",
            "12/12 - 2s - loss: 0.0738 - accuracy: 0.9840 - val_loss: 0.3836 - val_accuracy: 0.8095 - 2s/epoch - 145ms/step\n",
            "Epoch 44/100\n",
            "12/12 - 2s - loss: 0.1070 - accuracy: 0.9521 - val_loss: 0.3795 - val_accuracy: 0.8095 - 2s/epoch - 143ms/step\n",
            "Epoch 45/100\n",
            "12/12 - 2s - loss: 0.0866 - accuracy: 0.9734 - val_loss: 0.4033 - val_accuracy: 0.8095 - 2s/epoch - 145ms/step\n",
            "Epoch 46/100\n",
            "12/12 - 2s - loss: 0.0782 - accuracy: 0.9734 - val_loss: 0.3842 - val_accuracy: 0.8095 - 2s/epoch - 206ms/step\n",
            "Epoch 47/100\n",
            "12/12 - 3s - loss: 0.1262 - accuracy: 0.9574 - val_loss: 0.3867 - val_accuracy: 0.8095 - 3s/epoch - 249ms/step\n",
            "Epoch 48/100\n",
            "12/12 - 2s - loss: 0.0799 - accuracy: 0.9734 - val_loss: 0.3611 - val_accuracy: 0.8095 - 2s/epoch - 144ms/step\n",
            "Epoch 49/100\n",
            "12/12 - 2s - loss: 0.0764 - accuracy: 0.9787 - val_loss: 0.3619 - val_accuracy: 0.8095 - 2s/epoch - 143ms/step\n",
            "Epoch 50/100\n",
            "12/12 - 2s - loss: 0.0849 - accuracy: 0.9787 - val_loss: 0.3376 - val_accuracy: 0.8095 - 2s/epoch - 145ms/step\n",
            "Epoch 51/100\n",
            "12/12 - 2s - loss: 0.1356 - accuracy: 0.9415 - val_loss: 0.3672 - val_accuracy: 0.8095 - 2s/epoch - 144ms/step\n",
            "Epoch 52/100\n",
            "12/12 - 2s - loss: 0.0588 - accuracy: 0.9894 - val_loss: 0.4082 - val_accuracy: 0.8095 - 2s/epoch - 142ms/step\n",
            "Epoch 53/100\n",
            "12/12 - 2s - loss: 0.0832 - accuracy: 0.9734 - val_loss: 0.4456 - val_accuracy: 0.8095 - 2s/epoch - 163ms/step\n",
            "Epoch 54/100\n",
            "12/12 - 3s - loss: 0.0685 - accuracy: 0.9840 - val_loss: 0.4257 - val_accuracy: 0.8095 - 3s/epoch - 251ms/step\n",
            "Epoch 55/100\n",
            "12/12 - 2s - loss: 0.1129 - accuracy: 0.9574 - val_loss: 0.3910 - val_accuracy: 0.8095 - 2s/epoch - 179ms/step\n",
            "Epoch 56/100\n",
            "12/12 - 2s - loss: 0.0919 - accuracy: 0.9628 - val_loss: 0.4289 - val_accuracy: 0.8095 - 2s/epoch - 138ms/step\n",
            "Epoch 57/100\n",
            "12/12 - 2s - loss: 0.0686 - accuracy: 0.9894 - val_loss: 0.3852 - val_accuracy: 0.8571 - 2s/epoch - 140ms/step\n",
            "Epoch 58/100\n",
            "12/12 - 2s - loss: 0.0929 - accuracy: 0.9628 - val_loss: 0.3923 - val_accuracy: 0.8095 - 2s/epoch - 141ms/step\n",
            "Epoch 59/100\n",
            "12/12 - 2s - loss: 0.0864 - accuracy: 0.9787 - val_loss: 0.4009 - val_accuracy: 0.8571 - 2s/epoch - 140ms/step\n",
            "Epoch 60/100\n",
            "12/12 - 2s - loss: 0.0462 - accuracy: 0.9947 - val_loss: 0.3844 - val_accuracy: 0.8571 - 2s/epoch - 187ms/step\n",
            "Epoch 61/100\n",
            "12/12 - 3s - loss: 0.0561 - accuracy: 0.9734 - val_loss: 0.3549 - val_accuracy: 0.9048 - 3s/epoch - 239ms/step\n",
            "Epoch 62/100\n",
            "12/12 - 2s - loss: 0.0495 - accuracy: 0.9947 - val_loss: 0.3348 - val_accuracy: 0.8571 - 2s/epoch - 206ms/step\n",
            "Epoch 63/100\n",
            "12/12 - 2s - loss: 0.0690 - accuracy: 0.9840 - val_loss: 0.3457 - val_accuracy: 0.9048 - 2s/epoch - 139ms/step\n",
            "Epoch 64/100\n",
            "12/12 - 2s - loss: 0.0683 - accuracy: 0.9787 - val_loss: 0.3521 - val_accuracy: 0.9048 - 2s/epoch - 139ms/step\n",
            "Epoch 65/100\n",
            "12/12 - 2s - loss: 0.0571 - accuracy: 0.9840 - val_loss: 0.3424 - val_accuracy: 0.8571 - 2s/epoch - 142ms/step\n",
            "Epoch 66/100\n",
            "12/12 - 2s - loss: 0.0573 - accuracy: 0.9840 - val_loss: 0.3581 - val_accuracy: 0.8571 - 2s/epoch - 143ms/step\n",
            "Epoch 67/100\n",
            "12/12 - 2s - loss: 0.0783 - accuracy: 0.9734 - val_loss: 0.3821 - val_accuracy: 0.9048 - 2s/epoch - 145ms/step\n",
            "Epoch 68/100\n",
            "12/12 - 2s - loss: 0.0763 - accuracy: 0.9787 - val_loss: 0.4093 - val_accuracy: 0.8095 - 2s/epoch - 198ms/step\n",
            "Epoch 69/100\n",
            "12/12 - 3s - loss: 0.0463 - accuracy: 0.9840 - val_loss: 0.3599 - val_accuracy: 0.9048 - 3s/epoch - 245ms/step\n",
            "Epoch 70/100\n",
            "12/12 - 2s - loss: 0.0691 - accuracy: 0.9787 - val_loss: 0.3769 - val_accuracy: 0.8095 - 2s/epoch - 160ms/step\n",
            "Epoch 71/100\n",
            "12/12 - 2s - loss: 0.0445 - accuracy: 0.9947 - val_loss: 0.3789 - val_accuracy: 0.8095 - 2s/epoch - 148ms/step\n",
            "Epoch 72/100\n",
            "12/12 - 2s - loss: 0.0351 - accuracy: 0.9947 - val_loss: 0.3825 - val_accuracy: 0.8571 - 2s/epoch - 150ms/step\n",
            "Epoch 73/100\n",
            "12/12 - 2s - loss: 0.0294 - accuracy: 0.9947 - val_loss: 0.3970 - val_accuracy: 0.9048 - 2s/epoch - 144ms/step\n",
            "Epoch 74/100\n",
            "12/12 - 2s - loss: 0.0905 - accuracy: 0.9787 - val_loss: 0.3240 - val_accuracy: 0.9048 - 2s/epoch - 143ms/step\n",
            "Epoch 75/100\n",
            "12/12 - 2s - loss: 0.0480 - accuracy: 0.9894 - val_loss: 0.3203 - val_accuracy: 0.9048 - 2s/epoch - 173ms/step\n",
            "Epoch 76/100\n",
            "12/12 - 3s - loss: 0.0459 - accuracy: 0.9840 - val_loss: 0.3529 - val_accuracy: 0.8571 - 3s/epoch - 253ms/step\n",
            "Epoch 77/100\n",
            "12/12 - 2s - loss: 0.0779 - accuracy: 0.9787 - val_loss: 0.3623 - val_accuracy: 0.9048 - 2s/epoch - 182ms/step\n",
            "Epoch 78/100\n",
            "12/12 - 2s - loss: 0.0424 - accuracy: 0.9894 - val_loss: 0.3759 - val_accuracy: 0.9048 - 2s/epoch - 150ms/step\n",
            "Epoch 79/100\n",
            "12/12 - 2s - loss: 0.0491 - accuracy: 0.9787 - val_loss: 0.3908 - val_accuracy: 0.9048 - 2s/epoch - 145ms/step\n",
            "Epoch 80/100\n",
            "12/12 - 2s - loss: 0.0330 - accuracy: 0.9947 - val_loss: 0.3918 - val_accuracy: 0.9048 - 2s/epoch - 152ms/step\n",
            "Epoch 81/100\n",
            "12/12 - 2s - loss: 0.0295 - accuracy: 0.9947 - val_loss: 0.4182 - val_accuracy: 0.9048 - 2s/epoch - 155ms/step\n",
            "Epoch 82/100\n",
            "12/12 - 2s - loss: 0.0298 - accuracy: 0.9894 - val_loss: 0.4027 - val_accuracy: 0.9048 - 2s/epoch - 140ms/step\n",
            "Epoch 83/100\n",
            "12/12 - 3s - loss: 0.0769 - accuracy: 0.9734 - val_loss: 0.3922 - val_accuracy: 0.9048 - 3s/epoch - 229ms/step\n",
            "Epoch 84/100\n",
            "12/12 - 3s - loss: 0.0880 - accuracy: 0.9681 - val_loss: 0.3833 - val_accuracy: 0.8095 - 3s/epoch - 223ms/step\n",
            "Epoch 85/100\n",
            "12/12 - 2s - loss: 0.0425 - accuracy: 0.9894 - val_loss: 0.3734 - val_accuracy: 0.8095 - 2s/epoch - 142ms/step\n",
            "Epoch 86/100\n",
            "12/12 - 2s - loss: 0.0758 - accuracy: 0.9628 - val_loss: 0.3994 - val_accuracy: 0.8095 - 2s/epoch - 142ms/step\n",
            "Epoch 87/100\n",
            "12/12 - 2s - loss: 0.0260 - accuracy: 1.0000 - val_loss: 0.3937 - val_accuracy: 0.9048 - 2s/epoch - 139ms/step\n",
            "Epoch 88/100\n",
            "12/12 - 2s - loss: 0.0672 - accuracy: 0.9734 - val_loss: 0.3712 - val_accuracy: 0.9048 - 2s/epoch - 144ms/step\n",
            "Epoch 89/100\n",
            "12/12 - 2s - loss: 0.0431 - accuracy: 0.9840 - val_loss: 0.3492 - val_accuracy: 0.9048 - 2s/epoch - 155ms/step\n",
            "Epoch 90/100\n",
            "12/12 - 2s - loss: 0.0539 - accuracy: 0.9894 - val_loss: 0.3768 - val_accuracy: 0.9048 - 2s/epoch - 188ms/step\n",
            "Epoch 91/100\n",
            "12/12 - 3s - loss: 0.0968 - accuracy: 0.9521 - val_loss: 0.4052 - val_accuracy: 0.9048 - 3s/epoch - 241ms/step\n",
            "Epoch 92/100\n",
            "12/12 - 2s - loss: 0.0369 - accuracy: 0.9894 - val_loss: 0.3809 - val_accuracy: 0.9048 - 2s/epoch - 168ms/step\n",
            "Epoch 93/100\n",
            "12/12 - 2s - loss: 0.0371 - accuracy: 0.9947 - val_loss: 0.4003 - val_accuracy: 0.8571 - 2s/epoch - 142ms/step\n",
            "Epoch 94/100\n",
            "12/12 - 2s - loss: 0.0574 - accuracy: 0.9894 - val_loss: 0.3911 - val_accuracy: 0.8571 - 2s/epoch - 141ms/step\n",
            "Epoch 95/100\n",
            "12/12 - 2s - loss: 0.0647 - accuracy: 0.9681 - val_loss: 0.3748 - val_accuracy: 0.9048 - 2s/epoch - 144ms/step\n",
            "Epoch 96/100\n",
            "12/12 - 2s - loss: 0.0683 - accuracy: 0.9681 - val_loss: 0.3913 - val_accuracy: 0.8095 - 2s/epoch - 145ms/step\n",
            "Epoch 97/100\n",
            "12/12 - 2s - loss: 0.0746 - accuracy: 0.9734 - val_loss: 0.3268 - val_accuracy: 0.8571 - 2s/epoch - 145ms/step\n",
            "Epoch 98/100\n",
            "12/12 - 3s - loss: 0.0308 - accuracy: 0.9947 - val_loss: 0.3222 - val_accuracy: 0.8571 - 3s/epoch - 237ms/step\n",
            "Epoch 99/100\n",
            "12/12 - 3s - loss: 0.0632 - accuracy: 0.9734 - val_loss: 0.3451 - val_accuracy: 0.9048 - 3s/epoch - 215ms/step\n",
            "Epoch 100/100\n",
            "12/12 - 2s - loss: 0.0269 - accuracy: 1.0000 - val_loss: 0.3561 - val_accuracy: 0.9048 - 2s/epoch - 142ms/step\n"
          ]
        }
      ],
      "source": [
        "# Callback\n",
        "early_stop = keras.callbacks.EarlyStopping(monitor='val_loss', patience=100)\n",
        "\n",
        "history = model_cnn.fit(\n",
        "  x_tr,\n",
        "  ytr,\n",
        "  epochs=100,\n",
        "  batch_size=16,\n",
        "  validation_data=(x_val, y_val),\n",
        "  verbose = 2,\n",
        "  callbacks=[early_stop]\n",
        ")"
      ]
    },
    {
      "cell_type": "markdown",
      "source": [
        "### Desempenho do aprendizado\n",
        "\n",
        "É possível visualizar o desempenho do aprendizado ao longo das épocas por meio de um gráfico."
      ],
      "metadata": {
        "id": "M0hZVVp-6BEi"
      }
    },
    {
      "cell_type": "code",
      "execution_count": 18,
      "metadata": {
        "colab": {
          "base_uri": "https://localhost:8080/",
          "height": 447
        },
        "id": "T3xOTFtENaEy",
        "outputId": "8f6c8c24-2396-4773-e876-6e6cb4b4512e",
        "tags": []
      },
      "outputs": [
        {
          "output_type": "execute_result",
          "data": {
            "text/plain": [
              "[<matplotlib.lines.Line2D at 0x7a9a3e25e380>]"
            ]
          },
          "metadata": {},
          "execution_count": 18
        },
        {
          "output_type": "display_data",
          "data": {
            "text/plain": [
              "<Figure size 640x480 with 1 Axes>"
            ],
            "image/png": "[encoded data removed]"
          },
          "metadata": {}
        }
      ],
      "source": [
        "plt.plot(history.history['loss'], label='train')\n",
        "plt.plot(history.history['val_loss'], label='test')"
      ]
    },
    {
      "cell_type": "markdown",
      "source": [
        "### Desempenho da rede\n",
        "Será realizado testes de desempenho para avaliar o funcionamento do modelo."
      ],
      "metadata": {
        "id": "ay-sRNwE7hlf"
      }
    },
    {
      "cell_type": "code",
      "execution_count": 19,
      "metadata": {
        "colab": {
          "base_uri": "https://localhost:8080/"
        },
        "id": "hQkIorpnNm1m",
        "outputId": "8ece736f-008a-425a-df47-ad4014b08909",
        "tags": []
      },
      "outputs": [
        {
          "output_type": "stream",
          "name": "stdout",
          "text": [
            "7/7 [==============================] - 1s 74ms/step\n",
            "2/2 [==============================] - 0s 44ms/step\n",
            "Acurácia sobre o arquivo de treino = 99.0%\n",
            "Acurácia sobre o arquivo de testes = 90.0%\n",
            "\n",
            "Resultados esperados do arquivo de teste: 1 1 1 1 1 0 1 1 1 1 1 1 1 0 0 1 0 1 1 1 1 0 0 1 1 1 1 0 1 0 1 1 1 1 0 0 0 1 0 0 1 1 1 0 0 0 1 1 1 0\n",
            "Resultados obtidos do arquivo de teste:   1 1 1 1 1 0 1 1 1 1 1 1 1 1 0 0 1 1 1 1 1 1 0 1 1 1 1 0 1 0 1 1 1 1 0 0 0 1 0 1 1 1 1 0 0 0 1 1 1 0\n"
          ]
        }
      ],
      "source": [
        "y_train_pred = model_cnn.predict(train_set_x_orig)\n",
        "y_test_pred = model_cnn.predict(test_set_x_orig)\n",
        "\n",
        "print('Acurácia sobre o arquivo de treino = {:.1f}%'.format(accuracy_score(train_set_y.argmax(axis=1), y_train_pred.argmax(axis=1)) * 100))\n",
        "print('Acurácia sobre o arquivo de testes = {:.1f}%'.format(accuracy_score(test_set_y.argmax(axis=1), y_test_pred.argmax(axis=1)) * 100))\n",
        "\n",
        "print('\\nResultados esperados do arquivo de teste:', *test_set_y_orig)\n",
        "print('Resultados obtidos do arquivo de teste:  ', *[y_test_pred[x].argmax() for x in range(len(y_test_pred))])"
      ]
    },
    {
      "cell_type": "markdown",
      "source": [
        "### Matriz de confusão\n",
        "\n",
        "Construção de uma matriz de confusão para analisar o desempenho do modelo em relação aos dados de teste.\n"
      ],
      "metadata": {
        "id": "xLNG_DHz7lpm"
      }
    },
    {
      "cell_type": "code",
      "execution_count": 20,
      "metadata": {
        "colab": {
          "base_uri": "https://localhost:8080/",
          "height": 466
        },
        "id": "pdOBVuJFOKmc",
        "outputId": "826e622f-55dc-4290-bff8-991c71fd88dc",
        "tags": []
      },
      "outputs": [
        {
          "output_type": "execute_result",
          "data": {
            "text/plain": [
              "<sklearn.metrics._plot.confusion_matrix.ConfusionMatrixDisplay at 0x7a9a3e28f910>"
            ]
          },
          "metadata": {},
          "execution_count": 20
        },
        {
          "output_type": "display_data",
          "data": {
            "text/plain": [
              "<Figure size 640x480 with 2 Axes>"
            ],
            "image/png": "[encoded data removed]"
          },
          "metadata": {}
        }
      ],
      "source": [
        "ConfusionMatrixDisplay.from_predictions(test_set_y.argmax(axis=1), y_test_pred.argmax(axis=1))"
      ]
    }
  ],
  "metadata": {
    "colab": {
      "provenance": []
    },
    "kernelspec": {
      "display_name": "Python 3 (ipykernel)",
      "language": "python",
      "name": "python3"
    },
    "language_info": {
      "codemirror_mode": {
        "name": "ipython",
        "version": 3
      },
      "file_extension": ".py",
      "mimetype": "text/x-python",
      "name": "python",
      "nbconvert_exporter": "python",
      "pygments_lexer": "ipython3",
      "version": "3.9.7"
    }
  },
  "nbformat": 4,
  "nbformat_minor": 0
}