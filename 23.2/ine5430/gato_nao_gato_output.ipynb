{
  "cells": [
    {
      "cell_type": "markdown",
      "source": [
        "Gato vs Não-Gato\n",
        "\n",
        "Aluno: Rafael Begnini de Castilhos (20205642)\n",
        "    \n",
        "Neste trabalho, será abordado o reconhecimento de padrões por meio do treinamento de uma rede neural. O objetivo é desenvolver um sistema capaz de identificar e classificar imagens de gatinhos como \"gatos\" ou \"não-gatos\".\n",
        "\n",
        "Para isso, utilizaremos um conjunto de dados contendo imagens RGB, representadas por matrizes de 64x64x3 (4096 pixels coloridos). Essas imagens serão usadas como parâmetros de entrada para a rede neural.\n",
        "\n",
        "O objetivo da rede é atribuir um valor de classificação correto para cada imagem, sendo que o valor 0 corresponderá a \"não-gato\" e o valor 1 corresponderá a \"gato\".\n",
        "\n",
        "Para resolver esse problema, serão explorados três modelos diferentes: um perceptron simples (regressão logística), uma rede neural de camada rasa e uma rede neural convolucional.\n",
        "Cada modelo terá seu próprio processo de treinamento e teste, visando encontrar a melhor abordagem para a classificação precisa das imagens."
      ],
      "metadata": {
        "id": "66IzD-TV7bVw"
      }
    },
    {
      "cell_type": "markdown",
      "source": [
        "Regressão Logística\n",
        "Inicialmente, abordaremos o problema utilizando apenas um perceptron, por meio de regressão logística."
      ],
      "metadata": {
        "id": "mgzzMHIk7OPT"
      }
    },
    {
      "cell_type": "markdown",
      "source": [
        "Importando as bibliotecas e lendo os dados"
      ],
      "metadata": {
        "id": "KBIXtp7U7L61"
      }
    },
    {
      "cell_type": "code",
      "execution_count": 1,
      "metadata": {
        "id": "kdJ0ZgqInKtY",
        "tags": []
      },
      "outputs": [],
      "source": [
        "# Importando bibliotecas\n",
        "import numpy as np\n",
        "import h5py\n",
        "import matplotlib.pyplot as plt\n",
        "\n",
        "# Carregando os dados\n",
        "train_dataset = h5py.File('./train_catvnoncat.h5', \"r\")\n",
        "train_set_x_orig = np.array(train_dataset[\"train_set_x\"][:]) # train set features\n",
        "train_set_y_orig = np.array(train_dataset[\"train_set_y\"][:]) # train set labels\n",
        "\n",
        "test_dataset = h5py.File('./test_catvnoncat.h5', \"r\")\n",
        "test_set_x_orig = np.array(test_dataset[\"test_set_x\"][:]) # test set features\n",
        "test_set_y_orig = np.array(test_dataset[\"test_set_y\"][:]) # test set labels"
      ]
    },
    {
      "cell_type": "markdown",
      "source": [
        "Para facilitar a visualização dos dados de treinamento, iremos representá-los em um gráfico."
      ],
      "metadata": {
        "id": "fA4smhM17J_z"
      }
    },
    {
      "cell_type": "code",
      "execution_count": 2,
      "metadata": {
        "colab": {
          "base_uri": "https://localhost:8080/",
          "height": 501
        },
        "id": "E5nLJM9e8Wr5",
        "outputId": "218f889c-fde3-4fca-ee1d-8e374e243467",
        "tags": []
      },
      "outputs": [
        {
          "output_type": "stream",
          "name": "stdout",
          "text": [
            "Tamanho da base de dados de treinamento: 209\n",
            "train set shape: (209, 64, 64, 3)\n"
          ]
        },
        {
          "output_type": "execute_result",
          "data": {
            "text/plain": [
              "Text(0, 0.5, 'Classe')"
            ]
          },
          "metadata": {},
          "execution_count": 2
        },
        {
          "output_type": "display_data",
          "data": {
            "text/plain": [
              "<Figure size 640x480 with 1 Axes>"
            ],
            "image/png": "[encoded data removed]"
          },
          "metadata": {}
        }
      ],
      "source": [
        "n = len(train_set_x_orig) # número de imagens\n",
        "print('Tamanho da base de dados de treinamento:', n)\n",
        "print('train set shape:', train_set_x_orig.shape)\n",
        "\n",
        "plt.scatter(range(n),train_set_y_orig,c='red')\n",
        "plt.xlabel('Imagem')\n",
        "plt.ylabel('Classe')"
      ]
    },
    {
      "cell_type": "markdown",
      "source": [
        "Nosso conjunto de dados consiste em 209 imagens de tamanho 64x64x3, classificadas como gatos (classe 1) ou não-gatos (classe 0)."
      ],
      "metadata": {
        "id": "O8Un0C8n7Gex"
      }
    },
    {
      "cell_type": "markdown",
      "source": [
        "Manipulando os dados\n",
        "Antes de prosseguirmos, faremos um achatamento (flatten) nos vetores de teste e treinamento, além de normalizar os dados de entrada."
      ],
      "metadata": {
        "id": "HMbzhJB07EOe"
      }
    },
    {
      "cell_type": "code",
      "execution_count": 3,
      "metadata": {
        "id": "IRIjgjh0BOpy",
        "tags": []
      },
      "outputs": [],
      "source": [
        "from sklearn.preprocessing import MinMaxScaler\n",
        "\n",
        "# Transformando os arrays em arrays de 209 x 12288 (209 x (64 . 64 . 3))\n",
        "train_set_x = np.array([array.flatten() for array in train_set_x_orig])\n",
        "test_set_x = np.array([array.flatten() for array in test_set_x_orig])\n",
        "\n",
        "# Normalizando o array de treino\n",
        "norm_train_set_x = MinMaxScaler()\n",
        "norm_train_set_x = norm_train_set_x.fit_transform(train_set_x)"
      ]
    },
    {
      "cell_type": "markdown",
      "source": [
        "Modelando a regressão e realizando testes\n",
        "Com as preparações feitas, iremos modelar a regressão logística e realizar alguns testes."
      ],
      "metadata": {
        "id": "RS2xPPPx7BKv"
      }
    },
    {
      "cell_type": "code",
      "execution_count": 4,
      "metadata": {
        "colab": {
          "base_uri": "https://localhost:8080/"
        },
        "id": "Rn4d_uoc6Dhz",
        "outputId": "9fade7e9-916d-44de-fbea-2ec0ca71586d",
        "tags": []
      },
      "outputs": [
        {
          "output_type": "stream",
          "name": "stdout",
          "text": [
            "Acurácia sobre o arquivo de treino = 100.0%\n",
            "Acurácia sobre o arquivo de testes = 72.0%\n",
            "\n",
            "Resultados esperados do arquivo de teste: 1 1 1 1 1 0 1 1 1 1 1 1 1 0 0 1 0 1 1 1 1 0 0 1 1 1 1 0 1 0 1 1 1 1 0 0 0 1 0 0 1 1 1 0 0 0 1 1 1 0\n",
            "Resultados obtidos do arquivo de teste:   1 1 1 1 1 0 0 1 1 1 0 0 1 1 0 1 0 1 0 0 1 0 0 1 0 1 1 0 0 1 0 1 1 1 0 0 0 1 0 0 1 0 1 0 1 1 0 1 1 0\n"
          ]
        }
      ],
      "source": [
        "from sklearn.linear_model import LogisticRegression\n",
        "\n",
        "# Treinando o modelo de regressão logística\n",
        "clf = LogisticRegression(random_state=0, max_iter=10000).fit(norm_train_set_x, train_set_y_orig)\n",
        "\n",
        "print(f'Acurácia sobre o arquivo de treino = {clf.score(train_set_x, train_set_y_orig) * 100}%')\n",
        "print(f'Acurácia sobre o arquivo de testes = {clf.score(test_set_x, test_set_y_orig) * 100}%')\n",
        "\n",
        "print('\\nResultados esperados do arquivo de teste:', *test_set_y_orig)\n",
        "print('Resultados obtidos do arquivo de teste:  ', *clf.predict(test_set_x))"
      ]
    },
    {
      "cell_type": "markdown",
      "source": [
        "Verificamos que o modelo criado obteve resultados satisfatórios, sendo capaz de identificar com precisão se uma determinada imagem é de um gato ou não em 72% das vezes."
      ],
      "metadata": {
        "id": "M_BZDRuj68gh"
      }
    },
    {
      "cell_type": "markdown",
      "source": [
        "Matriz de confusão\n",
        "Com base nos resultados obtidos, construímos uma matriz de confusão para avaliar o desempenho do modelo em relação aos dados de teste."
      ],
      "metadata": {
        "id": "aP0BVl_167Cj"
      }
    },
    {
      "cell_type": "code",
      "execution_count": 6,
      "metadata": {
        "colab": {
          "base_uri": "https://localhost:8080/",
          "height": 466
        },
        "id": "TCTX2F0iJg9D",
        "outputId": "1b5c4ed9-5893-46ee-ea0b-0d499e5b1c8f",
        "tags": []
      },
      "outputs": [
        {
          "output_type": "execute_result",
          "data": {
            "text/plain": [
              "<sklearn.metrics._plot.confusion_matrix.ConfusionMatrixDisplay at 0x7b4898134bb0>"
            ]
          },
          "metadata": {},
          "execution_count": 6
        },
        {
          "output_type": "display_data",
          "data": {
            "text/plain": [
              "<Figure size 640x480 with 2 Axes>"
            ],
            "image/png": "[encoded data removed]"
          },
          "metadata": {}
        }
      ],
      "source": [
        "from sklearn.metrics import ConfusionMatrixDisplay\n",
        "\n",
        "ConfusionMatrixDisplay.from_estimator(clf, test_set_x, test_set_y_orig)"
      ]
    },
    {
      "cell_type": "markdown",
      "source": [
        "Rede de Camada Rasa\n",
        "Visando obter um desempenho ainda melhor e resultados mais confiáveis, iremos implementar a classificação de imagens de gatinhos em um modelo mais robusto, com a expectativa de obter respostas mais precisas.\n"
      ],
      "metadata": {
        "id": "PtEr7n5N62aV"
      }
    },
    {
      "cell_type": "markdown",
      "source": [
        "Importando as bibliotecas Keras e Tensorflow"
      ],
      "metadata": {
        "id": "8fIzNO896zo9"
      }
    },
    {
      "cell_type": "code",
      "execution_count": 7,
      "metadata": {
        "id": "8kouFEra2UuI",
        "tags": []
      },
      "outputs": [],
      "source": [
        "from tensorflow import keras         # Importa Keras\n",
        "from tensorflow.keras import layers  # Ferramentes do Keras mais usadas para acesso mais rápido\n",
        "from keras.layers import Dense\n",
        "from keras.models import Sequential\n",
        "from tensorflow.keras.utils import to_categorical"
      ]
    },
    {
      "cell_type": "markdown",
      "source": [
        "Definindo as classes de classificação\n",
        "Vamos utilizar duas classes:\n",
        "\n",
        "*   0 - não-gatos\n",
        "*   1 - gatos"
      ],
      "metadata": {
        "id": "En17qTc66wBU"
      }
    },
    {
      "cell_type": "code",
      "execution_count": 8,
      "metadata": {
        "id": "kXtKFR0E7iPf",
        "tags": []
      },
      "outputs": [],
      "source": [
        "train_set_y = to_categorical(train_set_y_orig, 2)\n",
        "test_set_y = to_categorical(test_set_y_orig, 2)"
      ]
    },
    {
      "cell_type": "markdown",
      "source": [
        "Definindo um novo modelo\n",
        "Para esta abordagem, vamos utilizar uma rede neural com apenas 3 camadas:\n",
        "*   uma camada de entrada (*flatten*);\n",
        "*   uma camada intermediária, composta por 1000 neurônios (com função de ativação sigmóide)\n",
        "*   uma camada de saída, composta por 2 neurônios (com função de ativação *softmax*).\n",
        "\n",
        "\n",
        "A rede utilizará o decaimento exponencial da taxa de aprendizado, além de pesos e *bias* aleatórios."
      ],
      "metadata": {
        "id": "Z47dCfx56s9P"
      }
    },
    {
      "cell_type": "code",
      "execution_count": 9,
      "metadata": {
        "colab": {
          "base_uri": "https://localhost:8080/"
        },
        "id": "nq8QBLwm7rKe",
        "outputId": "e0f440f1-56a0-4e50-cdd6-95a032fd3a7a",
        "tags": []
      },
      "outputs": [
        {
          "output_type": "stream",
          "name": "stdout",
          "text": [
            "Model: \"sequential\"\n",
            "_________________________________________________________________\n",
            " Layer (type)                Output Shape              Param #   \n",
            "=================================================================\n",
            " flatten (Flatten)           (209, 12288)              0         \n",
            "                                                                 \n",
            " dense (Dense)               (209, 1000)               12289000  \n",
            "                                                                 \n",
            " dense_1 (Dense)             (209, 2)                  2002      \n",
            "                                                                 \n",
            "=================================================================\n",
            "Total params: 12291002 (46.89 MB)\n",
            "Trainable params: 12291002 (46.89 MB)\n",
            "Non-trainable params: 0 (0.00 Byte)\n",
            "_________________________________________________________________\n"
          ]
        }
      ],
      "source": [
        "# Decaimento exponencial da taxa de aprendizado\n",
        "def exp_decay(epoch):\n",
        "   initial_lrate = 1.0\n",
        "   k = 0.05\n",
        "   lrate = initial_lrate * np.exp(-k*epoch)\n",
        "   return lrate\n",
        "\n",
        "lrate = keras.callbacks.LearningRateScheduler(exp_decay)\n",
        "callback = keras.callbacks.EarlyStopping(monitor='val_loss', mode='min', verbose=1, patience=50)\n",
        "\n",
        "# Definindo a rede\n",
        "modelo = keras.Sequential()\n",
        "modelo.add(layers.Flatten())\n",
        "modelo.add(layers.Dense(1000, kernel_initializer=\"random_uniform\", bias_initializer=\"random_uniform\", activation=\"sigmoid\"))\n",
        "modelo.add(layers.Dense(2, kernel_initializer=\"random_uniform\", bias_initializer=\"random_uniform\", activation=\"softmax\"))\n",
        "\n",
        "opt = keras.optimizers.SGD()\n",
        "modelo.compile(optimizer=opt, loss=\"categorical_crossentropy\", metrics=[\"accuracy\"])\n",
        "\n",
        "input_shape = train_set_x.shape\n",
        "modelo.build(input_shape)\n",
        "\n",
        "modelo.summary()"
      ]
    },
    {
      "cell_type": "markdown",
      "source": [
        "Criando um conjunto de validação\n",
        "A fim de acompanhar o progresso da rede, faremos uso de um conjunto de validação composto por 63 fotos."
      ],
      "metadata": {
        "id": "RwOnep9u6qOy"
      }
    },
    {
      "cell_type": "code",
      "execution_count": 10,
      "metadata": {
        "colab": {
          "base_uri": "https://localhost:8080/"
        },
        "id": "wd_ec_Fk7xw0",
        "outputId": "c459ebe4-5af8-49ff-a3f3-5146e391f615",
        "tags": []
      },
      "outputs": [
        {
          "output_type": "stream",
          "name": "stdout",
          "text": [
            "146\n"
          ]
        }
      ],
      "source": [
        "from sklearn.model_selection import train_test_split\n",
        "\n",
        "x_tr,x_val,y_tr,y_val = train_test_split(norm_train_set_x,train_set_y,test_size = 0.3)\n",
        "num_train = np.size(x_tr,0)\n",
        "print(num_train)"
      ]
    },
    {
      "cell_type": "markdown",
      "source": [
        "Treinando o modelo\n",
        "Agora, iremos treinar o modelo que foi criado, utilizando um tamanho de lote (batch size) de 30 e realizando 2000 épocas."
      ],
      "metadata": {
        "id": "YgcOhLWf6nne"
      }
    },
    {
      "cell_type": "code",
      "execution_count": 12,
      "metadata": {
        "colab": {
          "base_uri": "https://localhost:8080/"
        },
        "id": "0Wgq8d_472c4",
        "outputId": "e744765c-8cbe-475d-b067-0486cab418c2",
        "tags": []
      },
      "outputs": [
        {
          "output_type": "stream",
          "name": "stdout",
          "text": [
            "Epoch 1/2000\n",
            "5/5 - 3s - loss: 38.0977 - accuracy: 0.4932 - val_loss: 32.5975 - val_accuracy: 0.3492 - lr: 1.0000 - 3s/epoch - 550ms/step\n",
            "Epoch 2/2000\n",
            "5/5 - 1s - loss: 19.5476 - accuracy: 0.5342 - val_loss: 3.4130 - val_accuracy: 0.3492 - lr: 0.9512 - 1s/epoch - 259ms/step\n",
            "Epoch 3/2000\n",
            "5/5 - 2s - loss: 14.5681 - accuracy: 0.4795 - val_loss: 7.2350 - val_accuracy: 0.6508 - lr: 0.9048 - 2s/epoch - 307ms/step\n",
            "Epoch 4/2000\n",
            "5/5 - 1s - loss: 7.3997 - accuracy: 0.5685 - val_loss: 13.4205 - val_accuracy: 0.6508 - lr: 0.8607 - 1s/epoch - 228ms/step\n",
            "Epoch 5/2000\n",
            "5/5 - 1s - loss: 7.4735 - accuracy: 0.5959 - val_loss: 8.5216 - val_accuracy: 0.3651 - lr: 0.8187 - 1s/epoch - 200ms/step\n",
            "Epoch 6/2000\n",
            "5/5 - 1s - loss: 7.9068 - accuracy: 0.4932 - val_loss: 1.1228 - val_accuracy: 0.6508 - lr: 0.7788 - 939ms/epoch - 188ms/step\n",
            "Epoch 7/2000\n",
            "5/5 - 1s - loss: 4.0559 - accuracy: 0.5479 - val_loss: 6.3922 - val_accuracy: 0.6508 - lr: 0.7408 - 1s/epoch - 211ms/step\n",
            "Epoch 8/2000\n",
            "5/5 - 1s - loss: 4.1918 - accuracy: 0.5753 - val_loss: 5.0378 - val_accuracy: 0.3492 - lr: 0.7047 - 784ms/epoch - 157ms/step\n",
            "Epoch 9/2000\n",
            "5/5 - 1s - loss: 4.2658 - accuracy: 0.5342 - val_loss: 1.2458 - val_accuracy: 0.6508 - lr: 0.6703 - 838ms/epoch - 168ms/step\n",
            "Epoch 10/2000\n",
            "5/5 - 1s - loss: 2.0783 - accuracy: 0.5890 - val_loss: 4.7956 - val_accuracy: 0.6508 - lr: 0.6376 - 772ms/epoch - 154ms/step\n",
            "Epoch 11/2000\n",
            "5/5 - 1s - loss: 3.0227 - accuracy: 0.5616 - val_loss: 1.8497 - val_accuracy: 0.6508 - lr: 0.6065 - 908ms/epoch - 182ms/step\n",
            "Epoch 12/2000\n",
            "5/5 - 1s - loss: 2.7400 - accuracy: 0.5616 - val_loss: 0.8695 - val_accuracy: 0.4762 - lr: 0.5769 - 1s/epoch - 226ms/step\n",
            "Epoch 13/2000\n",
            "5/5 - 1s - loss: 2.5246 - accuracy: 0.5616 - val_loss: 1.5395 - val_accuracy: 0.3175 - lr: 0.5488 - 972ms/epoch - 194ms/step\n",
            "Epoch 14/2000\n",
            "5/5 - 0s - loss: 1.4516 - accuracy: 0.6027 - val_loss: 0.9079 - val_accuracy: 0.6508 - lr: 0.5220 - 427ms/epoch - 85ms/step\n",
            "Epoch 15/2000\n",
            "5/5 - 0s - loss: 1.0876 - accuracy: 0.5890 - val_loss: 1.4225 - val_accuracy: 0.3175 - lr: 0.4966 - 449ms/epoch - 90ms/step\n",
            "Epoch 16/2000\n",
            "5/5 - 0s - loss: 1.7177 - accuracy: 0.5479 - val_loss: 2.7781 - val_accuracy: 0.3492 - lr: 0.4724 - 433ms/epoch - 87ms/step\n",
            "Epoch 17/2000\n",
            "5/5 - 0s - loss: 2.4493 - accuracy: 0.4932 - val_loss: 1.0178 - val_accuracy: 0.3492 - lr: 0.4493 - 457ms/epoch - 91ms/step\n",
            "Epoch 18/2000\n",
            "5/5 - 1s - loss: 1.0457 - accuracy: 0.5890 - val_loss: 0.9271 - val_accuracy: 0.6508 - lr: 0.4274 - 649ms/epoch - 130ms/step\n",
            "Epoch 19/2000\n",
            "5/5 - 1s - loss: 0.5653 - accuracy: 0.6712 - val_loss: 1.2149 - val_accuracy: 0.3492 - lr: 0.4066 - 749ms/epoch - 150ms/step\n",
            "Epoch 20/2000\n",
            "5/5 - 1s - loss: 1.3351 - accuracy: 0.5685 - val_loss: 0.9028 - val_accuracy: 0.5397 - lr: 0.3867 - 773ms/epoch - 155ms/step\n",
            "Epoch 21/2000\n",
            "5/5 - 1s - loss: 0.6441 - accuracy: 0.6986 - val_loss: 1.1534 - val_accuracy: 0.6508 - lr: 0.3679 - 763ms/epoch - 153ms/step\n",
            "Epoch 22/2000\n",
            "5/5 - 1s - loss: 0.9125 - accuracy: 0.6164 - val_loss: 0.9005 - val_accuracy: 0.6508 - lr: 0.3499 - 748ms/epoch - 150ms/step\n",
            "Epoch 23/2000\n",
            "5/5 - 1s - loss: 0.7947 - accuracy: 0.6096 - val_loss: 1.6732 - val_accuracy: 0.6508 - lr: 0.3329 - 716ms/epoch - 143ms/step\n",
            "Epoch 24/2000\n",
            "5/5 - 0s - loss: 1.3460 - accuracy: 0.5822 - val_loss: 1.4015 - val_accuracy: 0.3492 - lr: 0.3166 - 483ms/epoch - 97ms/step\n",
            "Epoch 25/2000\n",
            "5/5 - 0s - loss: 1.0233 - accuracy: 0.5479 - val_loss: 1.9090 - val_accuracy: 0.6508 - lr: 0.3012 - 449ms/epoch - 90ms/step\n",
            "Epoch 26/2000\n",
            "5/5 - 0s - loss: 0.6836 - accuracy: 0.6644 - val_loss: 1.0604 - val_accuracy: 0.6508 - lr: 0.2865 - 434ms/epoch - 87ms/step\n",
            "Epoch 27/2000\n",
            "5/5 - 0s - loss: 0.8586 - accuracy: 0.6370 - val_loss: 1.0538 - val_accuracy: 0.3492 - lr: 0.2725 - 449ms/epoch - 90ms/step\n",
            "Epoch 28/2000\n",
            "5/5 - 0s - loss: 0.6213 - accuracy: 0.6781 - val_loss: 0.9073 - val_accuracy: 0.6667 - lr: 0.2592 - 437ms/epoch - 87ms/step\n",
            "Epoch 29/2000\n",
            "5/5 - 0s - loss: 0.6249 - accuracy: 0.6164 - val_loss: 0.9063 - val_accuracy: 0.6190 - lr: 0.2466 - 454ms/epoch - 91ms/step\n",
            "Epoch 30/2000\n",
            "5/5 - 0s - loss: 0.6806 - accuracy: 0.6575 - val_loss: 0.9748 - val_accuracy: 0.4762 - lr: 0.2346 - 424ms/epoch - 85ms/step\n",
            "Epoch 31/2000\n",
            "5/5 - 0s - loss: 0.6090 - accuracy: 0.6644 - val_loss: 0.9426 - val_accuracy: 0.6667 - lr: 0.2231 - 432ms/epoch - 86ms/step\n",
            "Epoch 32/2000\n",
            "5/5 - 0s - loss: 0.5852 - accuracy: 0.6507 - val_loss: 1.3021 - val_accuracy: 0.6508 - lr: 0.2122 - 440ms/epoch - 88ms/step\n",
            "Epoch 33/2000\n",
            "5/5 - 0s - loss: 0.6857 - accuracy: 0.6301 - val_loss: 0.9815 - val_accuracy: 0.4921 - lr: 0.2019 - 444ms/epoch - 89ms/step\n",
            "Epoch 34/2000\n",
            "5/5 - 0s - loss: 0.4760 - accuracy: 0.7192 - val_loss: 1.0402 - val_accuracy: 0.5714 - lr: 0.1920 - 449ms/epoch - 90ms/step\n",
            "Epoch 35/2000\n",
            "5/5 - 0s - loss: 0.5899 - accuracy: 0.7329 - val_loss: 2.1528 - val_accuracy: 0.6508 - lr: 0.1827 - 429ms/epoch - 86ms/step\n",
            "Epoch 36/2000\n",
            "5/5 - 0s - loss: 0.6714 - accuracy: 0.7192 - val_loss: 0.9920 - val_accuracy: 0.4921 - lr: 0.1738 - 446ms/epoch - 89ms/step\n",
            "Epoch 37/2000\n",
            "5/5 - 0s - loss: 0.5698 - accuracy: 0.6370 - val_loss: 1.1823 - val_accuracy: 0.6508 - lr: 0.1653 - 442ms/epoch - 88ms/step\n",
            "Epoch 38/2000\n",
            "5/5 - 1s - loss: 0.5535 - accuracy: 0.6712 - val_loss: 1.0499 - val_accuracy: 0.5397 - lr: 0.1572 - 518ms/epoch - 104ms/step\n",
            "Epoch 39/2000\n",
            "5/5 - 0s - loss: 0.5239 - accuracy: 0.7260 - val_loss: 1.0650 - val_accuracy: 0.6508 - lr: 0.1496 - 432ms/epoch - 86ms/step\n",
            "Epoch 40/2000\n",
            "5/5 - 0s - loss: 0.4153 - accuracy: 0.7877 - val_loss: 1.1547 - val_accuracy: 0.5556 - lr: 0.1423 - 433ms/epoch - 87ms/step\n",
            "Epoch 41/2000\n",
            "5/5 - 0s - loss: 0.4017 - accuracy: 0.8151 - val_loss: 1.1296 - val_accuracy: 0.5079 - lr: 0.1353 - 446ms/epoch - 89ms/step\n",
            "Epoch 42/2000\n",
            "5/5 - 0s - loss: 0.4661 - accuracy: 0.7466 - val_loss: 1.2245 - val_accuracy: 0.4762 - lr: 0.1287 - 433ms/epoch - 87ms/step\n",
            "Epoch 43/2000\n",
            "5/5 - 0s - loss: 0.5481 - accuracy: 0.7055 - val_loss: 1.1373 - val_accuracy: 0.5873 - lr: 0.1225 - 437ms/epoch - 87ms/step\n",
            "Epoch 44/2000\n",
            "5/5 - 0s - loss: 0.3708 - accuracy: 0.8630 - val_loss: 1.2072 - val_accuracy: 0.5079 - lr: 0.1165 - 433ms/epoch - 87ms/step\n",
            "Epoch 45/2000\n",
            "5/5 - 0s - loss: 0.4509 - accuracy: 0.7192 - val_loss: 1.3325 - val_accuracy: 0.6349 - lr: 0.1108 - 446ms/epoch - 89ms/step\n",
            "Epoch 46/2000\n",
            "5/5 - 1s - loss: 0.4045 - accuracy: 0.8082 - val_loss: 1.3173 - val_accuracy: 0.6032 - lr: 0.1054 - 597ms/epoch - 119ms/step\n",
            "Epoch 47/2000\n",
            "5/5 - 1s - loss: 0.3423 - accuracy: 0.8493 - val_loss: 1.2166 - val_accuracy: 0.5714 - lr: 0.1003 - 730ms/epoch - 146ms/step\n",
            "Epoch 48/2000\n",
            "5/5 - 1s - loss: 0.3126 - accuracy: 0.8836 - val_loss: 1.2675 - val_accuracy: 0.5397 - lr: 0.0954 - 765ms/epoch - 153ms/step\n",
            "Epoch 49/2000\n",
            "5/5 - 1s - loss: 0.3325 - accuracy: 0.8425 - val_loss: 1.3134 - val_accuracy: 0.5873 - lr: 0.0907 - 734ms/epoch - 147ms/step\n",
            "Epoch 50/2000\n",
            "5/5 - 1s - loss: 0.3597 - accuracy: 0.7740 - val_loss: 1.2801 - val_accuracy: 0.6032 - lr: 0.0863 - 789ms/epoch - 158ms/step\n",
            "Epoch 51/2000\n",
            "5/5 - 1s - loss: 0.3178 - accuracy: 0.8699 - val_loss: 1.3141 - val_accuracy: 0.5556 - lr: 0.0821 - 755ms/epoch - 151ms/step\n",
            "Epoch 52/2000\n",
            "5/5 - 1s - loss: 0.2789 - accuracy: 0.9178 - val_loss: 1.3202 - val_accuracy: 0.5556 - lr: 0.0781 - 526ms/epoch - 105ms/step\n",
            "Epoch 53/2000\n",
            "5/5 - 1s - loss: 0.2687 - accuracy: 0.8767 - val_loss: 1.3120 - val_accuracy: 0.5397 - lr: 0.0743 - 524ms/epoch - 105ms/step\n",
            "Epoch 54/2000\n",
            "5/5 - 0s - loss: 0.2619 - accuracy: 0.9041 - val_loss: 1.2924 - val_accuracy: 0.5238 - lr: 0.0707 - 439ms/epoch - 88ms/step\n",
            "Epoch 55/2000\n",
            "5/5 - 0s - loss: 0.2498 - accuracy: 0.9110 - val_loss: 1.3142 - val_accuracy: 0.5556 - lr: 0.0672 - 446ms/epoch - 89ms/step\n",
            "Epoch 56/2000\n",
            "5/5 - 0s - loss: 0.2498 - accuracy: 0.9247 - val_loss: 1.4574 - val_accuracy: 0.6190 - lr: 0.0639 - 431ms/epoch - 86ms/step\n",
            "Epoch 57/2000\n",
            "5/5 - 1s - loss: 0.2899 - accuracy: 0.8699 - val_loss: 1.3033 - val_accuracy: 0.5397 - lr: 0.0608 - 523ms/epoch - 105ms/step\n",
            "Epoch 58/2000\n",
            "5/5 - 0s - loss: 0.2982 - accuracy: 0.8699 - val_loss: 1.2870 - val_accuracy: 0.5397 - lr: 0.0578 - 434ms/epoch - 87ms/step\n",
            "Epoch 59/2000\n",
            "5/5 - 0s - loss: 0.2594 - accuracy: 0.9110 - val_loss: 1.3233 - val_accuracy: 0.5238 - lr: 0.0550 - 437ms/epoch - 87ms/step\n",
            "Epoch 60/2000\n",
            "5/5 - 0s - loss: 0.2293 - accuracy: 0.9384 - val_loss: 1.3760 - val_accuracy: 0.5556 - lr: 0.0523 - 438ms/epoch - 88ms/step\n",
            "Epoch 61/2000\n",
            "5/5 - 0s - loss: 0.2410 - accuracy: 0.9110 - val_loss: 1.3400 - val_accuracy: 0.5556 - lr: 0.0498 - 429ms/epoch - 86ms/step\n",
            "Epoch 62/2000\n",
            "5/5 - 0s - loss: 0.2200 - accuracy: 0.9178 - val_loss: 1.3389 - val_accuracy: 0.4921 - lr: 0.0474 - 440ms/epoch - 88ms/step\n",
            "Epoch 62: early stopping\n"
          ]
        }
      ],
      "source": [
        "results = modelo.fit(x_tr, y_tr, validation_data = (x_val, y_val), batch_size = 30, epochs=2000, callbacks=[callback, lrate], verbose=2)"
      ]
    },
    {
      "cell_type": "markdown",
      "source": [
        "Desempenho do aprendizado\n",
        "Podemos observar, por meio de um gráfico, o desempenho do aprendizado ao longo das épocas, representando a acurácia do modelo para os conjuntos de treinamento e validação, bem como o valor da função de custo."
      ],
      "metadata": {
        "id": "mVP8HcLs6ktc"
      }
    },
    {
      "cell_type": "code",
      "execution_count": 13,
      "metadata": {
        "colab": {
          "base_uri": "https://localhost:8080/",
          "height": 887
        },
        "id": "B_poW5KS74j_",
        "outputId": "b576864e-00e2-473c-b9d4-e073ab5ad5b2",
        "tags": []
      },
      "outputs": [
        {
          "output_type": "display_data",
          "data": {
            "text/plain": [
              "<Figure size 640x480 with 1 Axes>"
            ],
            "image/png": "[encoded data removed]"
          },
          "metadata": {}
        },
        {
          "output_type": "display_data",
          "data": {
            "text/plain": [
              "<Figure size 640x480 with 1 Axes>"
            ],
            "image/png": "[encoded data removed]"
          },
          "metadata": {}
        }
      ],
      "source": [
        "acc = results.history['accuracy']\n",
        "val_acc = results.history['val_accuracy']\n",
        "loss = results.history['loss']\n",
        "val_loss = results.history['val_loss']\n",
        "epochs = range(1, len(acc) + 1)\n",
        "\n",
        "plt.plot(epochs, acc, 'b', label= 'Training accuracy')\n",
        "plt.plot(epochs, val_acc, 'r', label= 'Validation accuracy')\n",
        "plt.title('Training and Validation accuracy')\n",
        "plt.legend()\n",
        "\n",
        "plt.figure()\n",
        "plt.plot(epochs, loss, 'b', label= 'Training loss')\n",
        "plt.plot(epochs, val_loss, 'r', label= 'Validation loss')\n",
        "plt.title('Training and Validation loss')\n",
        "plt.legend()\n",
        "\n",
        "plt.show()"
      ]
    },
    {
      "cell_type": "markdown",
      "source": [
        "Desempenho da rede\n",
        "Após configurar e treinar a rede, realizaremos testes de desempenho para avaliar o funcionamento do modelo."
      ],
      "metadata": {
        "id": "wgrLwFEh6h4D"
      }
    },
    {
      "cell_type": "code",
      "execution_count": 14,
      "metadata": {
        "colab": {
          "base_uri": "https://localhost:8080/"
        },
        "id": "YwqXV5JX765b",
        "outputId": "ec49bd78-16c7-4939-cf37-91a090ebcd3f",
        "tags": []
      },
      "outputs": [
        {
          "output_type": "stream",
          "name": "stdout",
          "text": [
            "7/7 [==============================] - 0s 46ms/step\n",
            "2/2 [==============================] - 0s 33ms/step\n",
            "Acurácia sobre o arquivo de treino = 80.9%\n",
            "Acurácia sobre o arquivo de testes = 80.0%\n",
            "\n",
            "Resultados esperados do arquivo de teste: 1 1 1 1 1 0 1 1 1 1 1 1 1 0 0 1 0 1 1 1 1 0 0 1 1 1 1 0 1 0 1 1 1 1 0 0 0 1 0 0 1 1 1 0 0 0 1 1 1 0\n",
            "Resultados obtidos do arquivo de teste:   1 1 1 1 1 1 0 1 1 1 1 1 1 1 0 1 0 1 0 0 1 0 0 1 1 1 0 0 1 1 1 1 1 1 0 0 0 1 1 0 1 1 1 0 1 0 0 1 1 0\n"
          ]
        }
      ],
      "source": [
        "from sklearn.metrics import accuracy_score\n",
        "\n",
        "y_train_pred = modelo.predict(train_set_x)\n",
        "y_test_pred = modelo.predict(test_set_x)\n",
        "\n",
        "print('Acurácia sobre o arquivo de treino = {:.1f}%'.format(accuracy_score(train_set_y.argmax(axis=1), y_train_pred.argmax(axis=1)) * 100))\n",
        "print('Acurácia sobre o arquivo de testes = {:.1f}%'.format(accuracy_score(test_set_y.argmax(axis=1), y_test_pred.argmax(axis=1)) * 100))\n",
        "\n",
        "print('\\nResultados esperados do arquivo de teste:', *test_set_y_orig)\n",
        "print('Resultados obtidos do arquivo de teste:  ', *[y_test_pred[x].argmax() for x in range(len(y_test_pred))])"
      ]
    },
    {
      "cell_type": "markdown",
      "source": [
        "Matriz de confusão\n",
        "Com base nos resultados obtidos, será possível construir uma matriz de confusão, que mostrará o desempenho do modelo em relação à base de dados de teste."
      ],
      "metadata": {
        "id": "BdxM1gSn6en6"
      }
    },
    {
      "cell_type": "code",
      "execution_count": 15,
      "metadata": {
        "colab": {
          "base_uri": "https://localhost:8080/",
          "height": 466
        },
        "id": "G7mo-MaKW-ac",
        "outputId": "70055662-aded-4370-edd3-ed420507c932",
        "tags": []
      },
      "outputs": [
        {
          "output_type": "execute_result",
          "data": {
            "text/plain": [
              "<sklearn.metrics._plot.confusion_matrix.ConfusionMatrixDisplay at 0x7b48114e3400>"
            ]
          },
          "metadata": {},
          "execution_count": 15
        },
        {
          "output_type": "display_data",
          "data": {
            "text/plain": [
              "<Figure size 640x480 with 2 Axes>"
            ],
            "image/png": "[encoded data removed]"
          },
          "metadata": {}
        }
      ],
      "source": [
        "ConfusionMatrixDisplay.from_predictions(test_set_y.argmax(axis=1), y_test_pred.argmax(axis=1))"
      ]
    },
    {
      "cell_type": "markdown",
      "source": [
        "Rede Convolucional\n",
        "Agora, vamos utilizar um modelo mais robusto para identificação de imagens."
      ],
      "metadata": {
        "id": "4WSmJOnM6asJ"
      }
    },
    {
      "cell_type": "markdown",
      "source": [
        "Criando um conjunto de validação\n",
        "Novamente, faremos uso de um conjunto de validação, desta vez com 21 fotos."
      ],
      "metadata": {
        "id": "oJGRN6do6XdJ"
      }
    },
    {
      "cell_type": "code",
      "execution_count": 16,
      "metadata": {
        "colab": {
          "base_uri": "https://localhost:8080/"
        },
        "id": "5BG_V7aHbU3q",
        "outputId": "1fef191c-dd7f-41d9-ba42-459daa69b046",
        "tags": []
      },
      "outputs": [
        {
          "output_type": "stream",
          "name": "stdout",
          "text": [
            "188\n"
          ]
        }
      ],
      "source": [
        "x_tr,x_val,ytr,y_val = train_test_split(train_set_x_orig,train_set_y,test_size = 0.1)\n",
        "num_train = np.size(x_tr,0)\n",
        "print(num_train)"
      ]
    },
    {
      "cell_type": "markdown",
      "source": [
        "Definindo um novo modelo\n",
        "Para esta abordagem, vamos utilizar uma rede neural com 21 camadas:\n",
        "*   4 camadas de convolução, com ativação *relu*;\n",
        "*   9 camadas de normalização do *batch*\n",
        "*   4 camadas de *pooling*;\n",
        "*   1 camada *flatten*\n",
        "*   1 camada de *dropout*;\n",
        "*   2 camadas NN densas."
      ],
      "metadata": {
        "id": "8opwjiXY6P9s"
      }
    },
    {
      "cell_type": "code",
      "execution_count": 17,
      "metadata": {
        "colab": {
          "base_uri": "https://localhost:8080/"
        },
        "id": "-TZOCrTSdfoU",
        "outputId": "e5f1db41-b5f4-46b7-8da2-7b26bd0abf97",
        "tags": []
      },
      "outputs": [
        {
          "output_type": "stream",
          "name": "stdout",
          "text": [
            "Model: \"sequential_1\"\n",
            "_________________________________________________________________\n",
            " Layer (type)                Output Shape              Param #   \n",
            "=================================================================\n",
            " conv2d (Conv2D)             (None, 62, 62, 32)        896       \n",
            "                                                                 \n",
            " batch_normalization (Batch  (None, 62, 62, 32)        128       \n",
            " Normalization)                                                  \n",
            "                                                                 \n",
            " max_pooling2d (MaxPooling2  (None, 31, 31, 32)        0         \n",
            " D)                                                              \n",
            "                                                                 \n",
            " batch_normalization_1 (Bat  (None, 31, 31, 32)        128       \n",
            " chNormalization)                                                \n",
            "                                                                 \n",
            " conv2d_1 (Conv2D)           (None, 29, 29, 64)        18496     \n",
            "                                                                 \n",
            " batch_normalization_2 (Bat  (None, 29, 29, 64)        256       \n",
            " chNormalization)                                                \n",
            "                                                                 \n",
            " max_pooling2d_1 (MaxPoolin  (None, 14, 14, 64)        0         \n",
            " g2D)                                                            \n",
            "                                                                 \n",
            " batch_normalization_3 (Bat  (None, 14, 14, 64)        256       \n",
            " chNormalization)                                                \n",
            "                                                                 \n",
            " conv2d_2 (Conv2D)           (None, 12, 12, 128)       73856     \n",
            "                                                                 \n",
            " batch_normalization_4 (Bat  (None, 12, 12, 128)       512       \n",
            " chNormalization)                                                \n",
            "                                                                 \n",
            " max_pooling2d_2 (MaxPoolin  (None, 6, 6, 128)         0         \n",
            " g2D)                                                            \n",
            "                                                                 \n",
            " batch_normalization_5 (Bat  (None, 6, 6, 128)         512       \n",
            " chNormalization)                                                \n",
            "                                                                 \n",
            " conv2d_3 (Conv2D)           (None, 4, 4, 128)         147584    \n",
            "                                                                 \n",
            " batch_normalization_6 (Bat  (None, 4, 4, 128)         512       \n",
            " chNormalization)                                                \n",
            "                                                                 \n",
            " max_pooling2d_3 (MaxPoolin  (None, 2, 2, 128)         0         \n",
            " g2D)                                                            \n",
            "                                                                 \n",
            " batch_normalization_7 (Bat  (None, 2, 2, 128)         512       \n",
            " chNormalization)                                                \n",
            "                                                                 \n",
            " flatten_1 (Flatten)         (None, 512)               0         \n",
            "                                                                 \n",
            " dropout (Dropout)           (None, 512)               0         \n",
            "                                                                 \n",
            " dense_2 (Dense)             (None, 512)               262656    \n",
            "                                                                 \n",
            " batch_normalization_8 (Bat  (None, 512)               2048      \n",
            " chNormalization)                                                \n",
            "                                                                 \n",
            " dense_3 (Dense)             (None, 2)                 1026      \n",
            "                                                                 \n",
            "=================================================================\n",
            "Total params: 509378 (1.94 MB)\n",
            "Trainable params: 506946 (1.93 MB)\n",
            "Non-trainable params: 2432 (9.50 KB)\n",
            "_________________________________________________________________\n"
          ]
        }
      ],
      "source": [
        "model_cnn = keras.Sequential(\n",
        "    [\n",
        "        keras.Input(shape=(64,64,3)),\n",
        "        layers.Conv2D(32, (3,3), activation = 'relu'),\n",
        "        layers.BatchNormalization(),\n",
        "        layers.MaxPooling2D((2,2)),\n",
        "        layers.BatchNormalization(),\n",
        "        layers.Conv2D(64, (3,3), activation = 'relu'),\n",
        "        layers.BatchNormalization(),\n",
        "        layers.MaxPooling2D((2,2)),\n",
        "        layers.BatchNormalization(),\n",
        "        layers.Conv2D(128, (3,3), activation = 'relu'),\n",
        "        layers.BatchNormalization(),\n",
        "        layers.MaxPooling2D((2,2)),\n",
        "        layers.BatchNormalization(),\n",
        "        layers.Conv2D(128, (3,3), activation = 'relu'),\n",
        "        layers.BatchNormalization(),\n",
        "        layers.MaxPooling2D((2,2)),\n",
        "        layers.BatchNormalization(),\n",
        "        layers.Flatten(),\n",
        "        layers.Dropout(0.5),\n",
        "        layers.Dense(512,activation='relu'),\n",
        "        layers.BatchNormalization(),\n",
        "        layers.Dense(2,activation='softmax'),\n",
        "    ]\n",
        ")\n",
        "\n",
        "model_cnn.compile(\n",
        "  loss='categorical_crossentropy',\n",
        "  optimizer='adagrad',\n",
        "  metrics=['accuracy'],\n",
        ")\n",
        "model_cnn.summary()"
      ]
    },
    {
      "cell_type": "markdown",
      "source": [
        "Treinando o modelo\n",
        "Agora treinaremos o modelo criado, utilizando um *batch_size* de tamanho 16 e 100 épocas."
      ],
      "metadata": {
        "id": "caenwKxm6L50"
      }
    },
    {
      "cell_type": "code",
      "execution_count": 18,
      "metadata": {
        "colab": {
          "base_uri": "https://localhost:8080/"
        },
        "id": "HXeQBDgxdnpU",
        "outputId": "cf5208e2-826b-4460-af8f-e937e60ed06a",
        "tags": []
      },
      "outputs": [
        {
          "output_type": "stream",
          "name": "stdout",
          "text": [
            "Epoch 1/100\n",
            "12/12 - 4s - loss: 0.9246 - accuracy: 0.5426 - val_loss: 1.0966 - val_accuracy: 0.4286 - 4s/epoch - 301ms/step\n",
            "Epoch 2/100\n",
            "12/12 - 3s - loss: 0.6402 - accuracy: 0.7181 - val_loss: 1.0562 - val_accuracy: 0.4286 - 3s/epoch - 222ms/step\n",
            "Epoch 3/100\n",
            "12/12 - 3s - loss: 0.5104 - accuracy: 0.7340 - val_loss: 0.7404 - val_accuracy: 0.4286 - 3s/epoch - 226ms/step\n",
            "Epoch 4/100\n",
            "12/12 - 2s - loss: 0.6131 - accuracy: 0.7500 - val_loss: 0.7464 - val_accuracy: 0.4286 - 2s/epoch - 137ms/step\n",
            "Epoch 5/100\n",
            "12/12 - 2s - loss: 0.4644 - accuracy: 0.7713 - val_loss: 0.7287 - val_accuracy: 0.4286 - 2s/epoch - 144ms/step\n",
            "Epoch 6/100\n",
            "12/12 - 2s - loss: 0.5329 - accuracy: 0.7766 - val_loss: 0.6889 - val_accuracy: 0.4286 - 2s/epoch - 138ms/step\n",
            "Epoch 7/100\n",
            "12/12 - 2s - loss: 0.4495 - accuracy: 0.7713 - val_loss: 0.5146 - val_accuracy: 0.6667 - 2s/epoch - 138ms/step\n",
            "Epoch 8/100\n",
            "12/12 - 2s - loss: 0.3615 - accuracy: 0.8351 - val_loss: 0.5289 - val_accuracy: 0.6667 - 2s/epoch - 139ms/step\n",
            "Epoch 9/100\n",
            "12/12 - 2s - loss: 0.3228 - accuracy: 0.8457 - val_loss: 0.4854 - val_accuracy: 0.6190 - 2s/epoch - 160ms/step\n",
            "Epoch 10/100\n",
            "12/12 - 3s - loss: 0.3604 - accuracy: 0.8085 - val_loss: 0.4252 - val_accuracy: 0.9048 - 3s/epoch - 235ms/step\n",
            "Epoch 11/100\n",
            "12/12 - 2s - loss: 0.3464 - accuracy: 0.8670 - val_loss: 0.4486 - val_accuracy: 0.7619 - 2s/epoch - 189ms/step\n",
            "Epoch 12/100\n",
            "12/12 - 2s - loss: 0.2949 - accuracy: 0.8670 - val_loss: 0.3643 - val_accuracy: 0.9048 - 2s/epoch - 169ms/step\n",
            "Epoch 13/100\n",
            "12/12 - 3s - loss: 0.2815 - accuracy: 0.8670 - val_loss: 0.3755 - val_accuracy: 0.8571 - 3s/epoch - 288ms/step\n",
            "Epoch 14/100\n",
            "12/12 - 3s - loss: 0.2756 - accuracy: 0.9043 - val_loss: 0.3968 - val_accuracy: 0.8571 - 3s/epoch - 262ms/step\n",
            "Epoch 15/100\n",
            "12/12 - 5s - loss: 0.2099 - accuracy: 0.9149 - val_loss: 0.3311 - val_accuracy: 0.9048 - 5s/epoch - 446ms/step\n",
            "Epoch 16/100\n",
            "12/12 - 3s - loss: 0.2703 - accuracy: 0.8830 - val_loss: 0.3172 - val_accuracy: 0.9048 - 3s/epoch - 291ms/step\n",
            "Epoch 17/100\n",
            "12/12 - 2s - loss: 0.2522 - accuracy: 0.8936 - val_loss: 0.2976 - val_accuracy: 0.9524 - 2s/epoch - 140ms/step\n",
            "Epoch 18/100\n",
            "12/12 - 2s - loss: 0.3073 - accuracy: 0.8777 - val_loss: 0.2938 - val_accuracy: 0.9048 - 2s/epoch - 139ms/step\n",
            "Epoch 19/100\n",
            "12/12 - 2s - loss: 0.1979 - accuracy: 0.9043 - val_loss: 0.3087 - val_accuracy: 0.9048 - 2s/epoch - 140ms/step\n",
            "Epoch 20/100\n",
            "12/12 - 2s - loss: 0.1923 - accuracy: 0.9309 - val_loss: 0.2986 - val_accuracy: 0.9048 - 2s/epoch - 142ms/step\n",
            "Epoch 21/100\n",
            "12/12 - 3s - loss: 0.1485 - accuracy: 0.9574 - val_loss: 0.2719 - val_accuracy: 0.9048 - 3s/epoch - 246ms/step\n",
            "Epoch 22/100\n",
            "12/12 - 2s - loss: 0.2222 - accuracy: 0.9202 - val_loss: 0.2460 - val_accuracy: 0.9048 - 2s/epoch - 197ms/step\n",
            "Epoch 23/100\n",
            "12/12 - 2s - loss: 0.2429 - accuracy: 0.8777 - val_loss: 0.1999 - val_accuracy: 0.9048 - 2s/epoch - 136ms/step\n",
            "Epoch 24/100\n",
            "12/12 - 2s - loss: 0.1727 - accuracy: 0.9309 - val_loss: 0.2401 - val_accuracy: 0.9048 - 2s/epoch - 139ms/step\n",
            "Epoch 25/100\n",
            "12/12 - 2s - loss: 0.1830 - accuracy: 0.9362 - val_loss: 0.1810 - val_accuracy: 0.9048 - 2s/epoch - 138ms/step\n",
            "Epoch 26/100\n",
            "12/12 - 2s - loss: 0.1819 - accuracy: 0.9521 - val_loss: 0.1981 - val_accuracy: 0.9048 - 2s/epoch - 139ms/step\n",
            "Epoch 27/100\n",
            "12/12 - 2s - loss: 0.2329 - accuracy: 0.8989 - val_loss: 0.2701 - val_accuracy: 0.9048 - 2s/epoch - 140ms/step\n",
            "Epoch 28/100\n",
            "12/12 - 2s - loss: 0.2135 - accuracy: 0.9202 - val_loss: 0.2241 - val_accuracy: 0.9048 - 2s/epoch - 191ms/step\n",
            "Epoch 29/100\n",
            "12/12 - 3s - loss: 0.2085 - accuracy: 0.9096 - val_loss: 0.2159 - val_accuracy: 0.8571 - 3s/epoch - 244ms/step\n",
            "Epoch 30/100\n",
            "12/12 - 2s - loss: 0.1666 - accuracy: 0.9362 - val_loss: 0.2271 - val_accuracy: 0.8571 - 2s/epoch - 155ms/step\n",
            "Epoch 31/100\n",
            "12/12 - 2s - loss: 0.1772 - accuracy: 0.9255 - val_loss: 0.2325 - val_accuracy: 0.9048 - 2s/epoch - 138ms/step\n",
            "Epoch 32/100\n",
            "12/12 - 2s - loss: 0.1518 - accuracy: 0.9468 - val_loss: 0.2083 - val_accuracy: 0.8571 - 2s/epoch - 140ms/step\n",
            "Epoch 33/100\n",
            "12/12 - 2s - loss: 0.1638 - accuracy: 0.9521 - val_loss: 0.1664 - val_accuracy: 0.9048 - 2s/epoch - 140ms/step\n",
            "Epoch 34/100\n",
            "12/12 - 2s - loss: 0.1311 - accuracy: 0.9681 - val_loss: 0.1530 - val_accuracy: 0.9048 - 2s/epoch - 138ms/step\n",
            "Epoch 35/100\n",
            "12/12 - 2s - loss: 0.1213 - accuracy: 0.9574 - val_loss: 0.1909 - val_accuracy: 0.8571 - 2s/epoch - 137ms/step\n",
            "Epoch 36/100\n",
            "12/12 - 3s - loss: 0.1150 - accuracy: 0.9681 - val_loss: 0.1350 - val_accuracy: 0.9524 - 3s/epoch - 220ms/step\n",
            "Epoch 37/100\n",
            "12/12 - 3s - loss: 0.1260 - accuracy: 0.9362 - val_loss: 0.1529 - val_accuracy: 0.9048 - 3s/epoch - 220ms/step\n",
            "Epoch 38/100\n",
            "12/12 - 2s - loss: 0.1168 - accuracy: 0.9468 - val_loss: 0.1614 - val_accuracy: 0.9048 - 2s/epoch - 148ms/step\n",
            "Epoch 39/100\n",
            "12/12 - 2s - loss: 0.1517 - accuracy: 0.9521 - val_loss: 0.1847 - val_accuracy: 0.8571 - 2s/epoch - 140ms/step\n",
            "Epoch 40/100\n",
            "12/12 - 2s - loss: 0.1423 - accuracy: 0.9468 - val_loss: 0.2151 - val_accuracy: 0.8571 - 2s/epoch - 136ms/step\n",
            "Epoch 41/100\n",
            "12/12 - 2s - loss: 0.2020 - accuracy: 0.9362 - val_loss: 0.1613 - val_accuracy: 0.9048 - 2s/epoch - 138ms/step\n",
            "Epoch 42/100\n",
            "12/12 - 2s - loss: 0.1166 - accuracy: 0.9628 - val_loss: 0.1617 - val_accuracy: 0.9048 - 2s/epoch - 137ms/step\n",
            "Epoch 43/100\n",
            "12/12 - 2s - loss: 0.1074 - accuracy: 0.9681 - val_loss: 0.1715 - val_accuracy: 0.9048 - 2s/epoch - 145ms/step\n",
            "Epoch 44/100\n",
            "12/12 - 3s - loss: 0.0902 - accuracy: 0.9840 - val_loss: 0.1570 - val_accuracy: 0.9524 - 3s/epoch - 237ms/step\n",
            "Epoch 45/100\n",
            "12/12 - 2s - loss: 0.1457 - accuracy: 0.9521 - val_loss: 0.1414 - val_accuracy: 0.9048 - 2s/epoch - 192ms/step\n",
            "Epoch 46/100\n",
            "12/12 - 2s - loss: 0.1285 - accuracy: 0.9521 - val_loss: 0.2043 - val_accuracy: 0.8571 - 2s/epoch - 138ms/step\n",
            "Epoch 47/100\n",
            "12/12 - 2s - loss: 0.1306 - accuracy: 0.9521 - val_loss: 0.1535 - val_accuracy: 0.9048 - 2s/epoch - 138ms/step\n",
            "Epoch 48/100\n",
            "12/12 - 2s - loss: 0.1737 - accuracy: 0.9362 - val_loss: 0.1510 - val_accuracy: 0.9048 - 2s/epoch - 137ms/step\n",
            "Epoch 49/100\n",
            "12/12 - 2s - loss: 0.0988 - accuracy: 0.9734 - val_loss: 0.1485 - val_accuracy: 0.9048 - 2s/epoch - 136ms/step\n",
            "Epoch 50/100\n",
            "12/12 - 2s - loss: 0.1155 - accuracy: 0.9787 - val_loss: 0.2827 - val_accuracy: 0.9048 - 2s/epoch - 138ms/step\n",
            "Epoch 51/100\n",
            "12/12 - 2s - loss: 0.1104 - accuracy: 0.9574 - val_loss: 0.1868 - val_accuracy: 0.9048 - 2s/epoch - 169ms/step\n",
            "Epoch 52/100\n",
            "12/12 - 3s - loss: 0.0860 - accuracy: 0.9681 - val_loss: 0.1808 - val_accuracy: 0.9048 - 3s/epoch - 242ms/step\n",
            "Epoch 53/100\n",
            "12/12 - 2s - loss: 0.1453 - accuracy: 0.9574 - val_loss: 0.1746 - val_accuracy: 0.9048 - 2s/epoch - 166ms/step\n",
            "Epoch 54/100\n",
            "12/12 - 2s - loss: 0.1054 - accuracy: 0.9574 - val_loss: 0.1912 - val_accuracy: 0.9048 - 2s/epoch - 139ms/step\n",
            "Epoch 55/100\n",
            "12/12 - 2s - loss: 0.0856 - accuracy: 0.9787 - val_loss: 0.1617 - val_accuracy: 0.9048 - 2s/epoch - 138ms/step\n",
            "Epoch 56/100\n",
            "12/12 - 2s - loss: 0.0731 - accuracy: 0.9681 - val_loss: 0.1508 - val_accuracy: 0.9524 - 2s/epoch - 137ms/step\n",
            "Epoch 57/100\n",
            "12/12 - 2s - loss: 0.0753 - accuracy: 0.9734 - val_loss: 0.1506 - val_accuracy: 0.9048 - 2s/epoch - 137ms/step\n",
            "Epoch 58/100\n",
            "12/12 - 2s - loss: 0.0903 - accuracy: 0.9787 - val_loss: 0.1529 - val_accuracy: 0.9048 - 2s/epoch - 137ms/step\n",
            "Epoch 59/100\n",
            "12/12 - 2s - loss: 0.0699 - accuracy: 0.9840 - val_loss: 0.1504 - val_accuracy: 0.9524 - 2s/epoch - 199ms/step\n",
            "Epoch 60/100\n",
            "12/12 - 3s - loss: 0.1091 - accuracy: 0.9521 - val_loss: 0.1326 - val_accuracy: 0.9524 - 3s/epoch - 237ms/step\n",
            "Epoch 61/100\n",
            "12/12 - 2s - loss: 0.1008 - accuracy: 0.9574 - val_loss: 0.1396 - val_accuracy: 0.9524 - 2s/epoch - 142ms/step\n",
            "Epoch 62/100\n",
            "12/12 - 2s - loss: 0.1051 - accuracy: 0.9574 - val_loss: 0.1757 - val_accuracy: 0.8571 - 2s/epoch - 138ms/step\n",
            "Epoch 63/100\n",
            "12/12 - 2s - loss: 0.0693 - accuracy: 0.9840 - val_loss: 0.1829 - val_accuracy: 0.8571 - 2s/epoch - 137ms/step\n",
            "Epoch 64/100\n",
            "12/12 - 2s - loss: 0.0712 - accuracy: 0.9840 - val_loss: 0.1811 - val_accuracy: 0.8571 - 2s/epoch - 137ms/step\n",
            "Epoch 65/100\n",
            "12/12 - 2s - loss: 0.0771 - accuracy: 0.9787 - val_loss: 0.1951 - val_accuracy: 0.8571 - 2s/epoch - 137ms/step\n",
            "Epoch 66/100\n",
            "12/12 - 2s - loss: 0.0807 - accuracy: 0.9840 - val_loss: 0.1838 - val_accuracy: 0.8571 - 2s/epoch - 139ms/step\n",
            "Epoch 67/100\n",
            "12/12 - 3s - loss: 0.0797 - accuracy: 0.9681 - val_loss: 0.1527 - val_accuracy: 0.9048 - 3s/epoch - 220ms/step\n",
            "Epoch 68/100\n",
            "12/12 - 3s - loss: 0.0670 - accuracy: 0.9894 - val_loss: 0.1494 - val_accuracy: 0.9048 - 3s/epoch - 217ms/step\n",
            "Epoch 69/100\n",
            "12/12 - 2s - loss: 0.0594 - accuracy: 0.9840 - val_loss: 0.1398 - val_accuracy: 0.9048 - 2s/epoch - 136ms/step\n",
            "Epoch 70/100\n",
            "12/12 - 2s - loss: 0.0809 - accuracy: 0.9840 - val_loss: 0.1481 - val_accuracy: 0.9048 - 2s/epoch - 139ms/step\n",
            "Epoch 71/100\n",
            "12/12 - 2s - loss: 0.0442 - accuracy: 0.9947 - val_loss: 0.1358 - val_accuracy: 0.9048 - 2s/epoch - 139ms/step\n",
            "Epoch 72/100\n",
            "12/12 - 2s - loss: 0.0594 - accuracy: 0.9840 - val_loss: 0.1266 - val_accuracy: 0.9524 - 2s/epoch - 137ms/step\n",
            "Epoch 73/100\n",
            "12/12 - 2s - loss: 0.0880 - accuracy: 0.9734 - val_loss: 0.1693 - val_accuracy: 0.9048 - 2s/epoch - 137ms/step\n",
            "Epoch 74/100\n",
            "12/12 - 2s - loss: 0.0600 - accuracy: 0.9840 - val_loss: 0.1641 - val_accuracy: 0.9048 - 2s/epoch - 144ms/step\n",
            "Epoch 75/100\n",
            "12/12 - 3s - loss: 0.0675 - accuracy: 0.9734 - val_loss: 0.1580 - val_accuracy: 0.9048 - 3s/epoch - 236ms/step\n",
            "Epoch 76/100\n",
            "12/12 - 2s - loss: 0.0991 - accuracy: 0.9628 - val_loss: 0.1548 - val_accuracy: 0.8571 - 2s/epoch - 201ms/step\n",
            "Epoch 77/100\n",
            "12/12 - 2s - loss: 0.0793 - accuracy: 0.9734 - val_loss: 0.1726 - val_accuracy: 0.9048 - 2s/epoch - 139ms/step\n",
            "Epoch 78/100\n",
            "12/12 - 2s - loss: 0.0620 - accuracy: 0.9734 - val_loss: 0.1582 - val_accuracy: 0.9048 - 2s/epoch - 138ms/step\n",
            "Epoch 79/100\n",
            "12/12 - 2s - loss: 0.0900 - accuracy: 0.9681 - val_loss: 0.1590 - val_accuracy: 0.9048 - 2s/epoch - 141ms/step\n",
            "Epoch 80/100\n",
            "12/12 - 2s - loss: 0.1005 - accuracy: 0.9628 - val_loss: 0.1549 - val_accuracy: 0.9048 - 2s/epoch - 138ms/step\n",
            "Epoch 81/100\n",
            "12/12 - 2s - loss: 0.0374 - accuracy: 0.9947 - val_loss: 0.1490 - val_accuracy: 0.9524 - 2s/epoch - 137ms/step\n",
            "Epoch 82/100\n",
            "12/12 - 2s - loss: 0.0495 - accuracy: 0.9947 - val_loss: 0.1633 - val_accuracy: 0.9048 - 2s/epoch - 173ms/step\n",
            "Epoch 83/100\n",
            "12/12 - 3s - loss: 0.0807 - accuracy: 0.9787 - val_loss: 0.1649 - val_accuracy: 0.9048 - 3s/epoch - 236ms/step\n",
            "Epoch 84/100\n",
            "12/12 - 2s - loss: 0.0804 - accuracy: 0.9681 - val_loss: 0.1562 - val_accuracy: 0.9524 - 2s/epoch - 163ms/step\n",
            "Epoch 85/100\n",
            "12/12 - 2s - loss: 0.0637 - accuracy: 0.9787 - val_loss: 0.1316 - val_accuracy: 0.9524 - 2s/epoch - 139ms/step\n",
            "Epoch 86/100\n",
            "12/12 - 2s - loss: 0.0587 - accuracy: 0.9840 - val_loss: 0.1228 - val_accuracy: 0.9524 - 2s/epoch - 140ms/step\n",
            "Epoch 87/100\n",
            "12/12 - 2s - loss: 0.0536 - accuracy: 0.9787 - val_loss: 0.1408 - val_accuracy: 0.9048 - 2s/epoch - 136ms/step\n",
            "Epoch 88/100\n",
            "12/12 - 2s - loss: 0.0716 - accuracy: 0.9734 - val_loss: 0.1308 - val_accuracy: 0.9524 - 2s/epoch - 141ms/step\n",
            "Epoch 89/100\n",
            "12/12 - 2s - loss: 0.0392 - accuracy: 1.0000 - val_loss: 0.1280 - val_accuracy: 0.9524 - 2s/epoch - 138ms/step\n",
            "Epoch 90/100\n",
            "12/12 - 2s - loss: 0.0668 - accuracy: 0.9734 - val_loss: 0.1251 - val_accuracy: 0.9524 - 2s/epoch - 203ms/step\n",
            "Epoch 91/100\n",
            "12/12 - 3s - loss: 0.0390 - accuracy: 1.0000 - val_loss: 0.1469 - val_accuracy: 0.9048 - 3s/epoch - 234ms/step\n",
            "Epoch 92/100\n",
            "12/12 - 2s - loss: 0.0398 - accuracy: 0.9894 - val_loss: 0.1576 - val_accuracy: 0.9048 - 2s/epoch - 144ms/step\n",
            "Epoch 93/100\n",
            "12/12 - 2s - loss: 0.0786 - accuracy: 0.9734 - val_loss: 0.2353 - val_accuracy: 0.9048 - 2s/epoch - 137ms/step\n",
            "Epoch 94/100\n",
            "12/12 - 2s - loss: 0.0737 - accuracy: 0.9734 - val_loss: 0.1846 - val_accuracy: 0.9048 - 2s/epoch - 136ms/step\n",
            "Epoch 95/100\n",
            "12/12 - 2s - loss: 0.0586 - accuracy: 0.9840 - val_loss: 0.1516 - val_accuracy: 0.9048 - 2s/epoch - 138ms/step\n",
            "Epoch 96/100\n",
            "12/12 - 2s - loss: 0.0594 - accuracy: 0.9840 - val_loss: 0.1405 - val_accuracy: 0.9524 - 2s/epoch - 138ms/step\n",
            "Epoch 97/100\n",
            "12/12 - 2s - loss: 0.0565 - accuracy: 0.9947 - val_loss: 0.1263 - val_accuracy: 0.9524 - 2s/epoch - 137ms/step\n",
            "Epoch 98/100\n",
            "12/12 - 3s - loss: 0.0964 - accuracy: 0.9681 - val_loss: 0.2044 - val_accuracy: 0.8571 - 3s/epoch - 235ms/step\n",
            "Epoch 99/100\n",
            "12/12 - 2s - loss: 0.0610 - accuracy: 0.9840 - val_loss: 0.1760 - val_accuracy: 0.8571 - 2s/epoch - 207ms/step\n",
            "Epoch 100/100\n",
            "12/12 - 2s - loss: 0.0693 - accuracy: 0.9787 - val_loss: 0.1846 - val_accuracy: 0.9048 - 2s/epoch - 138ms/step\n"
          ]
        }
      ],
      "source": [
        "# Callback\n",
        "early_stop = keras.callbacks.EarlyStopping(monitor='val_loss', patience=100)\n",
        "\n",
        "history = model_cnn.fit(\n",
        "  x_tr,\n",
        "  ytr,\n",
        "  epochs=100,\n",
        "  batch_size=16,\n",
        "  validation_data=(x_val, y_val),\n",
        "  verbose = 2,\n",
        "  callbacks=[early_stop]\n",
        ")"
      ]
    },
    {
      "cell_type": "markdown",
      "source": [
        "\n",
        "Desempenho do aprendizado\n",
        "Será possível visualizar o desempenho do aprendizado ao longo das épocas por meio de um gráfico."
      ],
      "metadata": {
        "id": "M0hZVVp-6BEi"
      }
    },
    {
      "cell_type": "code",
      "execution_count": 19,
      "metadata": {
        "colab": {
          "base_uri": "https://localhost:8080/",
          "height": 447
        },
        "id": "T3xOTFtENaEy",
        "outputId": "43b7d7b3-1679-4d42-b45b-08fa93d4ba34",
        "tags": []
      },
      "outputs": [
        {
          "output_type": "execute_result",
          "data": {
            "text/plain": [
              "[<matplotlib.lines.Line2D at 0x7b48110a1360>]"
            ]
          },
          "metadata": {},
          "execution_count": 19
        },
        {
          "output_type": "display_data",
          "data": {
            "text/plain": [
              "<Figure size 640x480 with 1 Axes>"
            ],
            "image/png": "[encoded data removed]"
          },
          "metadata": {}
        }
      ],
      "source": [
        "plt.plot(history.history['loss'], label='train')\n",
        "plt.plot(history.history['val_loss'], label='test')"
      ]
    },
    {
      "cell_type": "markdown",
      "source": [
        "Desempenho da rede\n",
        "Após configurar e treinar a rede, realizaremos testes de desempenho para avaliar o funcionamento do modelo."
      ],
      "metadata": {
        "id": "ay-sRNwE7hlf"
      }
    },
    {
      "cell_type": "code",
      "execution_count": 20,
      "metadata": {
        "colab": {
          "base_uri": "https://localhost:8080/"
        },
        "id": "hQkIorpnNm1m",
        "outputId": "a54a0f15-da0f-4c96-e971-580828a419b9",
        "tags": []
      },
      "outputs": [
        {
          "output_type": "stream",
          "name": "stdout",
          "text": [
            "7/7 [==============================] - 1s 67ms/step\n",
            "2/2 [==============================] - 0s 42ms/step\n",
            "Acurácia sobre o arquivo de treino = 99.0%\n",
            "Acurácia sobre o arquivo de testes = 82.0%\n",
            "\n",
            "Resultados esperados do arquivo de teste: 1 1 1 1 1 0 1 1 1 1 1 1 1 0 0 1 0 1 1 1 1 0 0 1 1 1 1 0 1 0 1 1 1 1 0 0 0 1 0 0 1 1 1 0 0 0 1 1 1 0\n",
            "Resultados obtidos do arquivo de teste:   1 1 1 1 1 0 1 1 1 1 1 1 1 1 0 1 0 1 0 0 1 1 0 1 1 1 1 0 1 0 1 1 1 1 1 0 0 1 1 1 1 0 1 0 1 0 1 1 1 0\n"
          ]
        }
      ],
      "source": [
        "y_train_pred = model_cnn.predict(train_set_x_orig)\n",
        "y_test_pred = model_cnn.predict(test_set_x_orig)\n",
        "\n",
        "print('Acurácia sobre o arquivo de treino = {:.1f}%'.format(accuracy_score(train_set_y.argmax(axis=1), y_train_pred.argmax(axis=1)) * 100))\n",
        "print('Acurácia sobre o arquivo de testes = {:.1f}%'.format(accuracy_score(test_set_y.argmax(axis=1), y_test_pred.argmax(axis=1)) * 100))\n",
        "\n",
        "print('\\nResultados esperados do arquivo de teste:', *test_set_y_orig)\n",
        "print('Resultados obtidos do arquivo de teste:  ', *[y_test_pred[x].argmax() for x in range(len(y_test_pred))])"
      ]
    },
    {
      "cell_type": "markdown",
      "source": [
        "Matriz de confusão\n",
        "Com base nos resultados obtidos, construiremos uma matriz de confusão para analisar o desempenho do modelo em relação aos dados de teste.\n"
      ],
      "metadata": {
        "id": "xLNG_DHz7lpm"
      }
    },
    {
      "cell_type": "code",
      "execution_count": 21,
      "metadata": {
        "colab": {
          "base_uri": "https://localhost:8080/",
          "height": 472
        },
        "id": "pdOBVuJFOKmc",
        "outputId": "708053f7-b642-4361-968b-7e50bf3dbd39",
        "tags": []
      },
      "outputs": [
        {
          "output_type": "execute_result",
          "data": {
            "text/plain": [
              "<sklearn.metrics._plot.confusion_matrix.ConfusionMatrixDisplay at 0x7b48114158a0>"
            ]
          },
          "metadata": {},
          "execution_count": 21
        },
        {
          "output_type": "display_data",
          "data": {
            "text/plain": [
              "<Figure size 640x480 with 2 Axes>"
            ],
            "image/png": "[encoded data removed]"
          },
          "metadata": {}
        }
      ],
      "source": [
        "ConfusionMatrixDisplay.from_predictions(test_set_y.argmax(axis=1), y_test_pred.argmax(axis=1))"
      ]
    }
  ],
  "metadata": {
    "colab": {
      "provenance": []
    },
    "kernelspec": {
      "display_name": "Python 3 (ipykernel)",
      "language": "python",
      "name": "python3"
    },
    "language_info": {
      "codemirror_mode": {
        "name": "ipython",
        "version": 3
      },
      "file_extension": ".py",
      "mimetype": "text/x-python",
      "name": "python",
      "nbconvert_exporter": "python",
      "pygments_lexer": "ipython3",
      "version": "3.9.7"
    }
  },
  "nbformat": 4,
  "nbformat_minor": 0
}