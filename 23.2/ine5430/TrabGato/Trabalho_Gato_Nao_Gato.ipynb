{
 "cells": [
  {
   "cell_type": "code",
   "execution_count": null,
   "metadata": {
    "id": "CfQp_v52QKaD"
   },
   "outputs": [],
   "source": [
    "# **Gatos vs Não-Gatos **\n",
    "\n",
    "### Alunos:\n",
    "    Antonio Silverio Montagner (19203742)\n",
    "    Davi Becker da Silva (18206220)\n",
    "    \n",
    "Neste trabalho, será abordado o reconhecimento de padrões por meio do treinamento de uma rede neural. O objetivo é desenvolver um sistema capaz de identificar e classificar imagens de gatinhos como \"gatos\" ou \"não-gatos\".\n",
    "\n",
    "Para isso, utilizaremos um conjunto de dados contendo imagens RGB, representadas por matrizes de 64x64x3 (4096 pixels coloridos). Essas imagens serão usadas como parâmetros de entrada para a rede neural.\n",
    "\n",
    "O objetivo da rede é atribuir um valor de classificação correto para cada imagem, sendo que o valor 0 corresponderá a \"não-gato\" e o valor 1 corresponderá a \"gato\".\n",
    "\n",
    "Para resolver esse problema, serão explorados três modelos diferentes: um perceptron simples (regressão logística), uma rede neural de camada rasa e uma rede neural convolucional. \n",
    "Cada modelo terá seu próprio processo de treinamento e teste, visando encontrar a melhor abordagem para a classificação precisa das imagens."
   ]
  },
  {
   "cell_type": "code",
   "execution_count": null,
   "metadata": {
    "id": "rwat3vKI3o5g"
   },
   "outputs": [],
   "source": [
    "# **Regressão Logística**\n",
    "Inicialmente, abordaremos o problema utilizando apenas um perceptron, por meio de regressão logística."
   ]
  },
  {
   "cell_type": "code",
   "execution_count": null,
   "metadata": {
    "id": "9mj03Gq95oPQ"
   },
   "outputs": [],
   "source": [
    "## Importando as bibliotecas e lendo os dados"
   ]
  },
  {
   "cell_type": "code",
   "execution_count": 7,
   "metadata": {
    "id": "kdJ0ZgqInKtY",
    "tags": []
   },
   "outputs": [],
   "source": [
    "# Importando bibliotecas\n",
    "import numpy as np\n",
    "import h5py\n",
    "import matplotlib.pyplot as plt\n",
    " \n",
    "# Carregando os dados\n",
    "train_dataset = h5py.File('./train_catvnoncat.h5', \"r\")\n",
    "train_set_x_orig = np.array(train_dataset[\"train_set_x\"][:]) # train set features\n",
    "train_set_y_orig = np.array(train_dataset[\"train_set_y\"][:]) # train set labels\n",
    " \n",
    "test_dataset = h5py.File('./test_catvnoncat.h5', \"r\")\n",
    "test_set_x_orig = np.array(test_dataset[\"test_set_x\"][:]) # test set features\n",
    "test_set_y_orig = np.array(test_dataset[\"test_set_y\"][:]) # test set labels"
   ]
  },
  {
   "cell_type": "code",
   "execution_count": null,
   "metadata": {
    "id": "cUsWKmcs8GR-"
   },
   "outputs": [],
   "source": [
    "Para facilitar a visualização dos dados de treinamento, iremos representá-los em um gráfico. "
   ]
  },
  {
   "cell_type": "code",
   "execution_count": 8,
   "metadata": {
    "colab": {
     "base_uri": "https://localhost:8080/",
     "height": 331
    },
    "id": "E5nLJM9e8Wr5",
    "outputId": "26615d7e-21e8-48ba-f617-499f55d555ad",
    "tags": []
   },
   "outputs": [
    {
     "name": "stdout",
     "output_type": "stream",
     "text": [
      "Tamanho da base de dados de treinamento: 209\n",
      "train set shape: (209, 64, 64, 3)\n"
     ]
    },
    {
     "data": {
      "text/plain": [
       "Text(0, 0.5, 'Classe')"
      ]
     },
     "execution_count": 8,
     "metadata": {},
     "output_type": "execute_result"
    },
    {
     "data": {
      "image/png": "[encoded data removed]",
      "text/plain": [
       "<Figure size 640x480 with 1 Axes>"
      ]
     },
     "metadata": {},
     "output_type": "display_data"
    }
   ],
   "source": [
    "n = len(train_set_x_orig) # número de imagens\n",
    "print('Tamanho da base de dados de treinamento:', n)\n",
    "print('train set shape:', train_set_x_orig.shape)\n",
    "\n",
    "plt.scatter(range(n),train_set_y_orig,c='red')\n",
    "plt.xlabel('Imagem')\n",
    "plt.ylabel('Classe')"
   ]
  },
  {
   "cell_type": "code",
   "execution_count": null,
   "metadata": {
    "id": "ST9BvkSN8nAk"
   },
   "outputs": [],
   "source": [
    "Nosso conjunto de dados consiste em 209 imagens de tamanho 64x64x3, classificadas como gatos (classe 1) ou não-gatos (classe 0)."
   ]
  },
  {
   "cell_type": "code",
   "execution_count": null,
   "metadata": {
    "id": "woWuk6Tf_KcU"
   },
   "outputs": [],
   "source": [
    "## Manipulando os dados\n",
    "Antes de prosseguirmos, faremos um achatamento (flatten) nos vetores de teste e treinamento, além de normalizar os dados de entrada."
   ]
  },
  {
   "cell_type": "code",
   "execution_count": 9,
   "metadata": {
    "id": "IRIjgjh0BOpy",
    "tags": []
   },
   "outputs": [],
   "source": [
    "from sklearn.preprocessing import MinMaxScaler\n",
    "\n",
    "# Transformando os arrays em arrays de 209 x 12288 (209 x (64 . 64 . 3))\n",
    "train_set_x = np.array([array.flatten() for array in train_set_x_orig])\n",
    "test_set_x = np.array([array.flatten() for array in test_set_x_orig])\n",
    "\n",
    "# Normalizando o array de treino\n",
    "norm_train_set_x = MinMaxScaler()\n",
    "norm_train_set_x = norm_train_set_x.fit_transform(train_set_x)"
   ]
  },
  {
   "cell_type": "code",
   "execution_count": 3,
   "metadata": {
    "id": "IRIjgjh0BOpy",
    "tags": []
   },
   "outputs": [],
   "source": [
    "## Modelando a regressão e realizando testes\n",
    "Com as preparações feitas, iremos modelar a regressão logística e realizar alguns testes."
   ]
  },
  {
   "cell_type": "code",
   "execution_count": 10,
   "metadata": {
    "colab": {
     "base_uri": "https://localhost:8080/"
    },
    "id": "Rn4d_uoc6Dhz",
    "outputId": "801863b6-b6b0-4d72-ac7f-0269381c809a",
    "tags": []
   },
   "outputs": [
    {
     "name": "stdout",
     "output_type": "stream",
     "text": [
      "Acurácia sobre o arquivo de treino = 100.0%\n",
      "Acurácia sobre o arquivo de testes = 72.0%\n",
      "\n",
      "Resultados esperados do arquivo de teste: 1 1 1 1 1 0 1 1 1 1 1 1 1 0 0 1 0 1 1 1 1 0 0 1 1 1 1 0 1 0 1 1 1 1 0 0 0 1 0 0 1 1 1 0 0 0 1 1 1 0\n",
      "Resultados obtidos do arquivo de teste:   1 1 1 1 1 0 0 1 1 1 0 0 1 1 0 1 0 1 0 0 1 0 0 1 0 1 1 0 0 1 0 1 1 1 0 0 0 1 0 0 1 0 1 0 1 1 0 1 1 0\n"
     ]
    }
   ],
   "source": [
    "from sklearn.linear_model import LogisticRegression\n",
    "\n",
    "# Treinando o modelo de regressão logística\n",
    "clf = LogisticRegression(random_state=0, max_iter=10000).fit(norm_train_set_x, train_set_y_orig)\n",
    "\n",
    "print(f'Acurácia sobre o arquivo de treino = {clf.score(train_set_x, train_set_y_orig) * 100}%')\n",
    "print(f'Acurácia sobre o arquivo de testes = {clf.score(test_set_x, test_set_y_orig) * 100}%')\n",
    "\n",
    "print('\\nResultados esperados do arquivo de teste:', *test_set_y_orig)\n",
    "print('Resultados obtidos do arquivo de teste:  ', *clf.predict(test_set_x))"
   ]
  },
  {
   "cell_type": "code",
   "execution_count": null,
   "metadata": {
    "id": "S420Ko4hJoOZ"
   },
   "outputs": [],
   "source": [
    "Verificamos que o modelo criado obteve resultados satisfatórios, sendo capaz de identificar com precisão se uma determinada imagem é de um gato ou não em 72% das vezes."
   ]
  },
  {
   "cell_type": "code",
   "execution_count": null,
   "metadata": {
    "id": "HuZV6U-XKQOm"
   },
   "outputs": [],
   "source": [
    "## Matriz de confusão\n",
    "Com base nos resultados obtidos, construímos uma matriz de confusão para avaliar o desempenho do modelo em relação aos dados de teste."
   ]
  },
  {
   "cell_type": "code",
   "execution_count": 11,
   "metadata": {
    "colab": {
     "base_uri": "https://localhost:8080/",
     "height": 296
    },
    "id": "TCTX2F0iJg9D",
    "outputId": "60ce8bbb-9f4c-4101-860b-a0aaa21c3a2f",
    "tags": []
   },
   "outputs": [
    {
     "data": {
      "text/plain": [
       "<sklearn.metrics._plot.confusion_matrix.ConfusionMatrixDisplay at 0x7f9b7ab84910>"
      ]
     },
     "execution_count": 11,
     "metadata": {},
     "output_type": "execute_result"
    },
    {
     "data": {
      "image/png": "[encoded data removed]",
      "text/plain": [
       "<Figure size 640x480 with 2 Axes>"
      ]
     },
     "metadata": {},
     "output_type": "display_data"
    }
   ],
   "source": [
    "from sklearn.metrics import ConfusionMatrixDisplay\n",
    "\n",
    "ConfusionMatrixDisplay.from_estimator(clf, test_set_x, test_set_y_orig)"
   ]
  },
  {
   "cell_type": "code",
   "execution_count": null,
   "metadata": {
    "id": "CDIJthKY2IcL"
   },
   "outputs": [],
   "source": [
    "# **Rede de Camada Rasa**\n",
    "Visando obter um desempenho ainda melhor e resultados mais confiáveis, iremos implementar a classificação de imagens de gatinhos em um modelo mais robusto, com a expectativa de obter respostas mais precisas.\n"
   ]
  },
  {
   "cell_type": "code",
   "execution_count": null,
   "metadata": {
    "id": "1yyNIv26NdHA"
   },
   "outputs": [],
   "source": [
    "## Importando as bibliotecas Keras e Tensorflow"
   ]
  },
  {
   "cell_type": "code",
   "execution_count": 14,
   "metadata": {
    "id": "8kouFEra2UuI",
    "tags": []
   },
   "outputs": [],
   "source": [
    "from tensorflow import keras         # Importa Keras\n",
    "from tensorflow.keras import layers  # Ferramentes do Keras mais usadas para acesso mais rápido\n",
    "from keras.layers import Dense\n",
    "from keras.models import Sequential\n",
    "from tensorflow.keras.utils import to_categorical"
   ]
  },
  {
   "cell_type": "code",
   "execution_count": null,
   "metadata": {
    "id": "q15e_VthNpQ5"
   },
   "outputs": [],
   "source": [
    "## Definindo as classes de classificação\n",
    "Vamos utilizar duas classes:\n",
    "\n",
    "*   0 - não-gatos\n",
    "*   1 - gatos\n",
    "\n"
   ]
  },
  {
   "cell_type": "code",
   "execution_count": 15,
   "metadata": {
    "id": "kXtKFR0E7iPf",
    "tags": []
   },
   "outputs": [],
   "source": [
    "train_set_y = to_categorical(train_set_y_orig, 2)\n",
    "test_set_y = to_categorical(test_set_y_orig, 2)"
   ]
  },
  {
   "cell_type": "code",
   "execution_count": null,
   "metadata": {
    "id": "FB8cyoDYOXOT"
   },
   "outputs": [],
   "source": [
    "## Definindo um novo modelo\n",
    "Para esta abordagem, vamos utilizar uma rede neural com apenas 3 camadas:\n",
    "*   uma camada de entrada (*flatten*);\n",
    "*   uma camada intermediária, composta por 1000 neurônios (com função de ativação sigmóide)\n",
    "*   uma camada de saída, composta por 2 neurônios (com função de ativação *softmax*).\n",
    "\n",
    "\n",
    "A rede utilizará o decaimento exponencial da taxa de aprendizado, além de pesos e *bias* aleatórios."
   ]
  },
  {
   "cell_type": "code",
   "execution_count": 16,
   "metadata": {
    "colab": {
     "base_uri": "https://localhost:8080/"
    },
    "id": "nq8QBLwm7rKe",
    "outputId": "2d3cd325-6f3c-4cc7-9808-aa0863331325",
    "tags": []
   },
   "outputs": [
    {
     "name": "stdout",
     "output_type": "stream",
     "text": [
      "Model: \"sequential\"\n",
      "_________________________________________________________________\n",
      " Layer (type)                Output Shape              Param #   \n",
      "=================================================================\n",
      " flatten (Flatten)           (209, 12288)              0         \n",
      "                                                                 \n",
      " dense (Dense)               (209, 1000)               12289000  \n",
      "                                                                 \n",
      " dense_1 (Dense)             (209, 2)                  2002      \n",
      "                                                                 \n",
      "=================================================================\n",
      "Total params: 12,291,002\n",
      "Trainable params: 12,291,002\n",
      "Non-trainable params: 0\n",
      "_________________________________________________________________\n"
     ]
    }
   ],
   "source": [
    "# Decaimento exponencial da taxa de aprendizado\n",
    "def exp_decay(epoch):\n",
    "   initial_lrate = 1.0\n",
    "   k = 0.05\n",
    "   lrate = initial_lrate * np.exp(-k*epoch)\n",
    "   return lrate\n",
    "\n",
    "lrate = keras.callbacks.LearningRateScheduler(exp_decay)\n",
    "callback = keras.callbacks.EarlyStopping(monitor='val_loss', mode='min', verbose=1, patience=50)\n",
    "\n",
    "# Definindo a rede\n",
    "modelo = keras.Sequential()\n",
    "modelo.add(layers.Flatten())\n",
    "modelo.add(layers.Dense(1000, kernel_initializer=\"random_uniform\", bias_initializer=\"random_uniform\", activation=\"sigmoid\"))\n",
    "modelo.add(layers.Dense(2, kernel_initializer=\"random_uniform\", bias_initializer=\"random_uniform\", activation=\"softmax\"))\n",
    "\n",
    "opt = keras.optimizers.SGD()\n",
    "modelo.compile(optimizer=opt, loss=\"categorical_crossentropy\", metrics=[\"accuracy\"])\n",
    "\n",
    "input_shape = train_set_x.shape\n",
    "modelo.build(input_shape)\n",
    "\n",
    "modelo.summary()"
   ]
  },
  {
   "cell_type": "code",
   "execution_count": null,
   "metadata": {
    "id": "kP1JHJ3FTMPc"
   },
   "outputs": [],
   "source": [
    "## Criando um conjunto de validação\n",
    "A fim de acompanhar o progresso da rede, faremos uso de um conjunto de validação composto por 63 fotos."
   ]
  },
  {
   "cell_type": "code",
   "execution_count": 17,
   "metadata": {
    "colab": {
     "base_uri": "https://localhost:8080/"
    },
    "id": "wd_ec_Fk7xw0",
    "outputId": "26b541cb-bbdf-4edf-d4d5-db187725d629",
    "tags": []
   },
   "outputs": [
    {
     "name": "stdout",
     "output_type": "stream",
     "text": [
      "146\n"
     ]
    }
   ],
   "source": [
    "from sklearn.model_selection import train_test_split\n",
    "\n",
    "Xtr,Xval,ytr,yval = train_test_split(norm_train_set_x,train_set_y,test_size = 0.3)\n",
    "num_train = np.size(Xtr,0)\n",
    "print(num_train)"
   ]
  },
  {
   "cell_type": "code",
   "execution_count": null,
   "metadata": {
    "id": "6dviPQ12TtIb"
   },
   "outputs": [],
   "source": [
    "## Treinando o modelo\n",
    "Agora, iremos treinar o modelo que foi criado, utilizando um tamanho de lote (batch size) de 30 e realizando 2000 épocas."
   ]
  },
  {
   "cell_type": "code",
   "execution_count": 19,
   "metadata": {
    "colab": {
     "base_uri": "https://localhost:8080/"
    },
    "id": "0Wgq8d_472c4",
    "outputId": "41e6459f-ccb8-4d11-942a-d5e56b1c7967",
    "tags": []
   },
   "outputs": [
    {
     "name": "stdout",
     "output_type": "stream",
     "text": [
      "Epoch 1/2000\n",
      "5/5 - 1s - loss: 5.8668 - accuracy: 0.6575 - val_loss: 14.1048 - val_accuracy: 0.6825 - lr: 1.0000 - 596ms/epoch - 119ms/step\n",
      "Epoch 2/2000\n",
      "5/5 - 0s - loss: 10.5108 - accuracy: 0.5548 - val_loss: 18.7739 - val_accuracy: 0.3175 - lr: 0.9512 - 465ms/epoch - 93ms/step\n",
      "Epoch 3/2000\n",
      "5/5 - 0s - loss: 9.1147 - accuracy: 0.5411 - val_loss: 13.7885 - val_accuracy: 0.3175 - lr: 0.9048 - 457ms/epoch - 91ms/step\n",
      "Epoch 4/2000\n",
      "5/5 - 0s - loss: 9.0811 - accuracy: 0.5342 - val_loss: 2.7697 - val_accuracy: 0.3016 - lr: 0.8607 - 466ms/epoch - 93ms/step\n",
      "Epoch 5/2000\n",
      "5/5 - 0s - loss: 7.7188 - accuracy: 0.5342 - val_loss: 2.9836 - val_accuracy: 0.6825 - lr: 0.8187 - 469ms/epoch - 94ms/step\n",
      "Epoch 6/2000\n",
      "5/5 - 0s - loss: 7.3719 - accuracy: 0.5068 - val_loss: 7.8240 - val_accuracy: 0.6825 - lr: 0.7788 - 461ms/epoch - 92ms/step\n",
      "Epoch 7/2000\n",
      "5/5 - 1s - loss: 4.5361 - accuracy: 0.5959 - val_loss: 8.5230 - val_accuracy: 0.6825 - lr: 0.7408 - 523ms/epoch - 105ms/step\n",
      "Epoch 8/2000\n",
      "5/5 - 0s - loss: 6.4005 - accuracy: 0.5479 - val_loss: 8.2829 - val_accuracy: 0.3175 - lr: 0.7047 - 498ms/epoch - 100ms/step\n",
      "Epoch 9/2000\n",
      "5/5 - 0s - loss: 5.9708 - accuracy: 0.5274 - val_loss: 2.9454 - val_accuracy: 0.3175 - lr: 0.6703 - 474ms/epoch - 95ms/step\n",
      "Epoch 10/2000\n",
      "5/5 - 0s - loss: 5.4576 - accuracy: 0.5068 - val_loss: 1.4133 - val_accuracy: 0.6825 - lr: 0.6376 - 492ms/epoch - 98ms/step\n",
      "Epoch 11/2000\n",
      "5/5 - 1s - loss: 4.4021 - accuracy: 0.5068 - val_loss: 7.1116 - val_accuracy: 0.6825 - lr: 0.6065 - 514ms/epoch - 103ms/step\n",
      "Epoch 12/2000\n",
      "5/5 - 1s - loss: 5.4454 - accuracy: 0.5000 - val_loss: 7.4105 - val_accuracy: 0.6825 - lr: 0.5769 - 518ms/epoch - 104ms/step\n",
      "Epoch 13/2000\n",
      "5/5 - 0s - loss: 4.3719 - accuracy: 0.6027 - val_loss: 3.4601 - val_accuracy: 0.6825 - lr: 0.5488 - 462ms/epoch - 92ms/step\n",
      "Epoch 14/2000\n",
      "5/5 - 0s - loss: 2.5947 - accuracy: 0.5822 - val_loss: 5.2047 - val_accuracy: 0.3175 - lr: 0.5220 - 482ms/epoch - 96ms/step\n",
      "Epoch 15/2000\n",
      "5/5 - 0s - loss: 3.8297 - accuracy: 0.5616 - val_loss: 0.8873 - val_accuracy: 0.4444 - lr: 0.4966 - 490ms/epoch - 98ms/step\n",
      "Epoch 16/2000\n",
      "5/5 - 0s - loss: 2.6242 - accuracy: 0.5890 - val_loss: 0.8713 - val_accuracy: 0.3968 - lr: 0.4724 - 455ms/epoch - 91ms/step\n",
      "Epoch 17/2000\n",
      "5/5 - 0s - loss: 2.6626 - accuracy: 0.5342 - val_loss: 6.0314 - val_accuracy: 0.3175 - lr: 0.4493 - 487ms/epoch - 97ms/step\n",
      "Epoch 18/2000\n",
      "5/5 - 1s - loss: 3.3653 - accuracy: 0.5479 - val_loss: 2.6588 - val_accuracy: 0.3016 - lr: 0.4274 - 507ms/epoch - 101ms/step\n",
      "Epoch 19/2000\n",
      "5/5 - 0s - loss: 2.4287 - accuracy: 0.5753 - val_loss: 1.0470 - val_accuracy: 0.6825 - lr: 0.4066 - 450ms/epoch - 90ms/step\n",
      "Epoch 20/2000\n",
      "5/5 - 1s - loss: 2.1697 - accuracy: 0.5685 - val_loss: 4.3449 - val_accuracy: 0.6825 - lr: 0.3867 - 502ms/epoch - 100ms/step\n",
      "Epoch 21/2000\n",
      "5/5 - 0s - loss: 2.0564 - accuracy: 0.6370 - val_loss: 2.6625 - val_accuracy: 0.6825 - lr: 0.3679 - 496ms/epoch - 99ms/step\n",
      "Epoch 22/2000\n",
      "5/5 - 1s - loss: 2.3376 - accuracy: 0.5753 - val_loss: 3.9462 - val_accuracy: 0.3016 - lr: 0.3499 - 514ms/epoch - 103ms/step\n",
      "Epoch 23/2000\n",
      "5/5 - 0s - loss: 3.1145 - accuracy: 0.5000 - val_loss: 2.9101 - val_accuracy: 0.3016 - lr: 0.3329 - 457ms/epoch - 91ms/step\n",
      "Epoch 24/2000\n",
      "5/5 - 0s - loss: 1.6561 - accuracy: 0.5685 - val_loss: 3.1131 - val_accuracy: 0.6825 - lr: 0.3166 - 457ms/epoch - 91ms/step\n",
      "Epoch 25/2000\n",
      "5/5 - 0s - loss: 1.7793 - accuracy: 0.5685 - val_loss: 3.6287 - val_accuracy: 0.6825 - lr: 0.3012 - 422ms/epoch - 84ms/step\n",
      "Epoch 26/2000\n",
      "5/5 - 1s - loss: 2.0079 - accuracy: 0.6027 - val_loss: 1.0303 - val_accuracy: 0.6825 - lr: 0.2865 - 518ms/epoch - 104ms/step\n",
      "Epoch 27/2000\n",
      "5/5 - 0s - loss: 1.5671 - accuracy: 0.6027 - val_loss: 0.8734 - val_accuracy: 0.6825 - lr: 0.2725 - 476ms/epoch - 95ms/step\n",
      "Epoch 28/2000\n",
      "5/5 - 1s - loss: 0.5298 - accuracy: 0.7123 - val_loss: 2.9829 - val_accuracy: 0.3651 - lr: 0.2592 - 508ms/epoch - 102ms/step\n",
      "Epoch 29/2000\n",
      "5/5 - 0s - loss: 1.7746 - accuracy: 0.5411 - val_loss: 1.9676 - val_accuracy: 0.3810 - lr: 0.2466 - 498ms/epoch - 100ms/step\n",
      "Epoch 30/2000\n",
      "5/5 - 1s - loss: 1.2682 - accuracy: 0.5685 - val_loss: 1.9172 - val_accuracy: 0.6825 - lr: 0.2346 - 531ms/epoch - 106ms/step\n",
      "Epoch 31/2000\n",
      "5/5 - 0s - loss: 1.1115 - accuracy: 0.6301 - val_loss: 0.9130 - val_accuracy: 0.6825 - lr: 0.2231 - 447ms/epoch - 89ms/step\n",
      "Epoch 32/2000\n",
      "5/5 - 0s - loss: 1.0565 - accuracy: 0.6027 - val_loss: 1.0542 - val_accuracy: 0.4444 - lr: 0.2122 - 479ms/epoch - 96ms/step\n",
      "Epoch 33/2000\n",
      "5/5 - 0s - loss: 0.8173 - accuracy: 0.6233 - val_loss: 1.1488 - val_accuracy: 0.6825 - lr: 0.2019 - 467ms/epoch - 93ms/step\n",
      "Epoch 34/2000\n",
      "5/5 - 1s - loss: 0.7482 - accuracy: 0.6301 - val_loss: 1.4937 - val_accuracy: 0.3968 - lr: 0.1920 - 507ms/epoch - 101ms/step\n",
      "Epoch 35/2000\n",
      "5/5 - 0s - loss: 0.7141 - accuracy: 0.6438 - val_loss: 1.2382 - val_accuracy: 0.6825 - lr: 0.1827 - 474ms/epoch - 95ms/step\n",
      "Epoch 36/2000\n",
      "5/5 - 1s - loss: 0.6455 - accuracy: 0.6986 - val_loss: 1.0298 - val_accuracy: 0.6667 - lr: 0.1738 - 531ms/epoch - 106ms/step\n",
      "Epoch 37/2000\n",
      "5/5 - 0s - loss: 0.5616 - accuracy: 0.6849 - val_loss: 0.8728 - val_accuracy: 0.7143 - lr: 0.1653 - 471ms/epoch - 94ms/step\n",
      "Epoch 38/2000\n",
      "5/5 - 1s - loss: 0.5464 - accuracy: 0.6986 - val_loss: 1.1365 - val_accuracy: 0.4762 - lr: 0.1572 - 526ms/epoch - 105ms/step\n",
      "Epoch 39/2000\n",
      "5/5 - 1s - loss: 0.7437 - accuracy: 0.6164 - val_loss: 1.0756 - val_accuracy: 0.6825 - lr: 0.1496 - 568ms/epoch - 114ms/step\n",
      "Epoch 40/2000\n",
      "5/5 - 1s - loss: 0.4811 - accuracy: 0.7123 - val_loss: 0.8882 - val_accuracy: 0.6984 - lr: 0.1423 - 530ms/epoch - 106ms/step\n",
      "Epoch 41/2000\n",
      "5/5 - 1s - loss: 0.4636 - accuracy: 0.7397 - val_loss: 1.0212 - val_accuracy: 0.6825 - lr: 0.1353 - 544ms/epoch - 109ms/step\n",
      "Epoch 42/2000\n",
      "5/5 - 1s - loss: 0.5212 - accuracy: 0.6712 - val_loss: 0.9332 - val_accuracy: 0.6667 - lr: 0.1287 - 526ms/epoch - 105ms/step\n",
      "Epoch 43/2000\n",
      "5/5 - 0s - loss: 0.3780 - accuracy: 0.7808 - val_loss: 0.9589 - val_accuracy: 0.6508 - lr: 0.1225 - 465ms/epoch - 93ms/step\n",
      "Epoch 44/2000\n",
      "5/5 - 0s - loss: 0.3983 - accuracy: 0.7945 - val_loss: 0.9260 - val_accuracy: 0.6825 - lr: 0.1165 - 487ms/epoch - 97ms/step\n",
      "Epoch 45/2000\n",
      "5/5 - 1s - loss: 0.3579 - accuracy: 0.8356 - val_loss: 0.9669 - val_accuracy: 0.6667 - lr: 0.1108 - 519ms/epoch - 104ms/step\n",
      "Epoch 46/2000\n",
      "5/5 - 0s - loss: 0.3950 - accuracy: 0.7808 - val_loss: 1.0813 - val_accuracy: 0.5714 - lr: 0.1054 - 497ms/epoch - 99ms/step\n",
      "Epoch 47/2000\n",
      "5/5 - 1s - loss: 0.3654 - accuracy: 0.8356 - val_loss: 0.9972 - val_accuracy: 0.6825 - lr: 0.1003 - 512ms/epoch - 102ms/step\n",
      "Epoch 48/2000\n",
      "5/5 - 0s - loss: 0.3703 - accuracy: 0.8014 - val_loss: 1.0535 - val_accuracy: 0.6825 - lr: 0.0954 - 496ms/epoch - 99ms/step\n",
      "Epoch 49/2000\n",
      "5/5 - 1s - loss: 0.3701 - accuracy: 0.8493 - val_loss: 0.9798 - val_accuracy: 0.6984 - lr: 0.0907 - 560ms/epoch - 112ms/step\n",
      "Epoch 50/2000\n",
      "5/5 - 0s - loss: 0.3396 - accuracy: 0.8425 - val_loss: 0.9852 - val_accuracy: 0.6825 - lr: 0.0863 - 492ms/epoch - 98ms/step\n",
      "Epoch 51/2000\n",
      "5/5 - 0s - loss: 0.3483 - accuracy: 0.8219 - val_loss: 0.9980 - val_accuracy: 0.6825 - lr: 0.0821 - 478ms/epoch - 96ms/step\n",
      "Epoch 52/2000\n",
      "5/5 - 0s - loss: 0.3074 - accuracy: 0.8493 - val_loss: 0.9666 - val_accuracy: 0.6984 - lr: 0.0781 - 474ms/epoch - 95ms/step\n",
      "Epoch 53/2000\n",
      "5/5 - 0s - loss: 0.2804 - accuracy: 0.8836 - val_loss: 1.0521 - val_accuracy: 0.6825 - lr: 0.0743 - 449ms/epoch - 90ms/step\n",
      "Epoch 54/2000\n",
      "5/5 - 0s - loss: 0.2949 - accuracy: 0.8493 - val_loss: 1.0505 - val_accuracy: 0.6825 - lr: 0.0707 - 476ms/epoch - 95ms/step\n",
      "Epoch 55/2000\n",
      "5/5 - 0s - loss: 0.2959 - accuracy: 0.8425 - val_loss: 1.0176 - val_accuracy: 0.6667 - lr: 0.0672 - 468ms/epoch - 94ms/step\n",
      "Epoch 56/2000\n",
      "5/5 - 1s - loss: 0.2786 - accuracy: 0.8836 - val_loss: 1.1549 - val_accuracy: 0.6825 - lr: 0.0639 - 507ms/epoch - 101ms/step\n",
      "Epoch 57/2000\n",
      "5/5 - 0s - loss: 0.3509 - accuracy: 0.8288 - val_loss: 1.0024 - val_accuracy: 0.6984 - lr: 0.0608 - 453ms/epoch - 91ms/step\n",
      "Epoch 58/2000\n",
      "5/5 - 1s - loss: 0.2768 - accuracy: 0.8699 - val_loss: 0.9680 - val_accuracy: 0.7460 - lr: 0.0578 - 514ms/epoch - 103ms/step\n",
      "Epoch 59/2000\n",
      "5/5 - 1s - loss: 0.2604 - accuracy: 0.9110 - val_loss: 1.0276 - val_accuracy: 0.7143 - lr: 0.0550 - 517ms/epoch - 103ms/step\n",
      "Epoch 60/2000\n",
      "5/5 - 0s - loss: 0.3033 - accuracy: 0.8425 - val_loss: 1.0434 - val_accuracy: 0.7302 - lr: 0.0523 - 499ms/epoch - 100ms/step\n",
      "Epoch 61/2000\n",
      "5/5 - 1s - loss: 0.2767 - accuracy: 0.8562 - val_loss: 0.9844 - val_accuracy: 0.7460 - lr: 0.0498 - 535ms/epoch - 107ms/step\n",
      "Epoch 62/2000\n",
      "5/5 - 1s - loss: 0.2401 - accuracy: 0.9315 - val_loss: 1.0034 - val_accuracy: 0.7460 - lr: 0.0474 - 531ms/epoch - 106ms/step\n",
      "Epoch 63/2000\n",
      "5/5 - 0s - loss: 0.2744 - accuracy: 0.8699 - val_loss: 1.0253 - val_accuracy: 0.6984 - lr: 0.0450 - 448ms/epoch - 90ms/step\n",
      "Epoch 64/2000\n",
      "5/5 - 1s - loss: 0.2320 - accuracy: 0.9247 - val_loss: 1.0330 - val_accuracy: 0.6825 - lr: 0.0429 - 501ms/epoch - 100ms/step\n",
      "Epoch 65/2000\n",
      "5/5 - 0s - loss: 0.2227 - accuracy: 0.9452 - val_loss: 1.0187 - val_accuracy: 0.7143 - lr: 0.0408 - 469ms/epoch - 94ms/step\n",
      "Epoch 66/2000\n",
      "5/5 - 1s - loss: 0.2246 - accuracy: 0.9452 - val_loss: 1.0367 - val_accuracy: 0.6667 - lr: 0.0388 - 510ms/epoch - 102ms/step\n",
      "Epoch 66: early stopping\n"
     ]
    }
   ],
   "source": [
    "results = modelo.fit(Xtr, ytr, validation_data = (Xval, yval), batch_size = 30, epochs=2000, callbacks=[callback, lrate], verbose=2)"
   ]
  },
  {
   "cell_type": "code",
   "execution_count": null,
   "metadata": {
    "id": "JsGTTLr9VEbs"
   },
   "outputs": [],
   "source": [
    "## Desempenho do aprendizado\n",
    "Podemos observar, por meio de um gráfico, o desempenho do aprendizado ao longo das épocas, representando a acurácia do modelo para os conjuntos de treinamento e validação, bem como o valor da função de custo."
   ]
  },
  {
   "cell_type": "code",
   "execution_count": 20,
   "metadata": {
    "colab": {
     "base_uri": "https://localhost:8080/",
     "height": 545
    },
    "id": "B_poW5KS74j_",
    "outputId": "fa2b6ee7-98d9-46f5-f30a-579a73e3df00",
    "tags": []
   },
   "outputs": [
    {
     "data": {
      "image/png": "[encoded data removed]",
      "text/plain": [
       "<Figure size 640x480 with 1 Axes>"
      ]
     },
     "metadata": {},
     "output_type": "display_data"
    },
    {
     "data": {
      "image/png": "[encoded data removed]",
      "text/plain": [
       "<Figure size 640x480 with 1 Axes>"
      ]
     },
     "metadata": {},
     "output_type": "display_data"
    }
   ],
   "source": [
    "acc = results.history['accuracy']\n",
    "val_acc = results.history['val_accuracy']\n",
    "loss = results.history['loss']\n",
    "val_loss = results.history['val_loss']\n",
    "epochs = range(1, len(acc) + 1)\n",
    "\n",
    "plt.plot(epochs, acc, 'b', label= 'Training accuracy')\n",
    "plt.plot(epochs, val_acc, 'r', label= 'Validation accuracy')\n",
    "plt.title('Training and Validation accuracy')\n",
    "plt.legend()\n",
    "\n",
    "plt.figure()\n",
    "plt.plot(epochs, loss, 'b', label= 'Training loss')\n",
    "plt.plot(epochs, val_loss, 'r', label= 'Validation loss')\n",
    "plt.title('Training and Validation loss')\n",
    "plt.legend()\n",
    "\n",
    "plt.show()"
   ]
  },
  {
   "cell_type": "code",
   "execution_count": null,
   "metadata": {
    "id": "M0ZBE8WFWOH8"
   },
   "outputs": [],
   "source": [
    "## Desempenho da rede\n",
    "Após configurar e treinar a rede, realizaremos testes de desempenho para avaliar o funcionamento do modelo."
   ]
  },
  {
   "cell_type": "code",
   "execution_count": 21,
   "metadata": {
    "colab": {
     "base_uri": "https://localhost:8080/"
    },
    "id": "YwqXV5JX765b",
    "outputId": "553c4a0f-0bbf-4a0e-bf82-a318de342575",
    "tags": []
   },
   "outputs": [
    {
     "name": "stdout",
     "output_type": "stream",
     "text": [
      "7/7 [==============================] - 0s 22ms/step\n",
      "2/2 [==============================] - 0s 19ms/step\n",
      "Acurácia sobre o arquivo de treino = 88.5%\n",
      "Acurácia sobre o arquivo de testes = 74.0%\n",
      "\n",
      "Resultados esperados do arquivo de teste: 1 1 1 1 1 0 1 1 1 1 1 1 1 0 0 1 0 1 1 1 1 0 0 1 1 1 1 0 1 0 1 1 1 1 0 0 0 1 0 0 1 1 1 0 0 0 1 1 1 0\n",
      "Resultados obtidos do arquivo de teste:   1 1 1 0 1 0 1 1 1 1 1 1 1 1 0 1 0 1 0 0 1 0 0 0 1 1 0 1 1 0 1 1 1 1 1 0 0 1 1 0 0 0 1 0 1 0 0 1 1 0\n"
     ]
    }
   ],
   "source": [
    "from sklearn.metrics import accuracy_score\n",
    "\n",
    "ytrainpred = modelo.predict(train_set_x)\n",
    "ytestpred = modelo.predict(test_set_x)\n",
    "\n",
    "print('Acurácia sobre o arquivo de treino = {:.1f}%'.format(accuracy_score(train_set_y.argmax(axis=1), ytrainpred.argmax(axis=1)) * 100))\n",
    "print('Acurácia sobre o arquivo de testes = {:.1f}%'.format(accuracy_score(test_set_y.argmax(axis=1), ytestpred.argmax(axis=1)) * 100))\n",
    "\n",
    "print('\\nResultados esperados do arquivo de teste:', *test_set_y_orig)\n",
    "print('Resultados obtidos do arquivo de teste:  ', *[ytestpred[x].argmax() for x in range(len(ytestpred))])"
   ]
  },
  {
   "cell_type": "code",
   "execution_count": null,
   "metadata": {
    "id": "P3gnr18BYn8c"
   },
   "outputs": [],
   "source": [
    "## Matriz de confusão\n",
    "Com base nos resultados obtidos, será possível construir uma matriz de confusão, que mostrará o desempenho do modelo em relação à base de dados de teste."
   ]
  },
  {
   "cell_type": "code",
   "execution_count": 22,
   "metadata": {
    "colab": {
     "base_uri": "https://localhost:8080/",
     "height": 300
    },
    "id": "G7mo-MaKW-ac",
    "outputId": "34a9061a-797a-4bf7-bec9-62b3a4e7543b",
    "tags": []
   },
   "outputs": [
    {
     "data": {
      "text/plain": [
       "<sklearn.metrics._plot.confusion_matrix.ConfusionMatrixDisplay at 0x7f9b1c1bbeb0>"
      ]
     },
     "execution_count": 22,
     "metadata": {},
     "output_type": "execute_result"
    },
    {
     "data": {
      "image/png": "[encoded data removed]",
      "text/plain": [
       "<Figure size 640x480 with 2 Axes>"
      ]
     },
     "metadata": {},
     "output_type": "display_data"
    }
   ],
   "source": [
    "ConfusionMatrixDisplay.from_predictions(test_set_y.argmax(axis=1), ytestpred.argmax(axis=1))"
   ]
  },
  {
   "cell_type": "code",
   "execution_count": null,
   "metadata": {
    "id": "xN_8WU3nY5L2"
   },
   "outputs": [],
   "source": [
    "# **Rede Convolucional**\n",
    "Agora, vamos utilizar um modelo mais robusto para identificação de imagens."
   ]
  },
  {
   "cell_type": "code",
   "execution_count": null,
   "metadata": {
    "id": "EoGb8LsPKlyd"
   },
   "outputs": [],
   "source": [
    "## Criando um conjunto de validação\n",
    "Novamente, faremos uso de um conjunto de validação, desta vez com 21 fotos."
   ]
  },
  {
   "cell_type": "code",
   "execution_count": 23,
   "metadata": {
    "colab": {
     "base_uri": "https://localhost:8080/"
    },
    "id": "5BG_V7aHbU3q",
    "outputId": "8992528e-4730-4f07-e703-2699cf85d084",
    "tags": []
   },
   "outputs": [
    {
     "name": "stdout",
     "output_type": "stream",
     "text": [
      "188\n"
     ]
    }
   ],
   "source": [
    "Xtr,Xval,ytr,yval = train_test_split(train_set_x_orig,train_set_y,test_size = 0.1)\n",
    "num_train = np.size(Xtr,0)\n",
    "print(num_train)"
   ]
  },
  {
   "cell_type": "code",
   "execution_count": null,
   "metadata": {
    "id": "j89XwZFcKyYU"
   },
   "outputs": [],
   "source": [
    "## Definindo um novo modelo\n",
    "Para esta abordagem, vamos utilizar uma rede neural com 21 camadas:\n",
    "*   4 camadas de convolução, com ativação *relu*;\n",
    "*   9 camadas de normalização do *batch*\n",
    "*   4 camadas de *pooling*;\n",
    "*   1 camada *flatten*\n",
    "*   1 camada de *dropout*;\n",
    "*   2 camadas NN densas."
   ]
  },
  {
   "cell_type": "code",
   "execution_count": 24,
   "metadata": {
    "colab": {
     "base_uri": "https://localhost:8080/"
    },
    "id": "-TZOCrTSdfoU",
    "outputId": "6617318d-05db-4049-edcb-a255ab4f9abd",
    "tags": []
   },
   "outputs": [
    {
     "name": "stdout",
     "output_type": "stream",
     "text": [
      "Model: \"sequential_1\"\n",
      "_________________________________________________________________\n",
      " Layer (type)                Output Shape              Param #   \n",
      "=================================================================\n",
      " conv2d (Conv2D)             (None, 62, 62, 32)        896       \n",
      "                                                                 \n",
      " batch_normalization (BatchN  (None, 62, 62, 32)       128       \n",
      " ormalization)                                                   \n",
      "                                                                 \n",
      " max_pooling2d (MaxPooling2D  (None, 31, 31, 32)       0         \n",
      " )                                                               \n",
      "                                                                 \n",
      " batch_normalization_1 (Batc  (None, 31, 31, 32)       128       \n",
      " hNormalization)                                                 \n",
      "                                                                 \n",
      " conv2d_1 (Conv2D)           (None, 29, 29, 64)        18496     \n",
      "                                                                 \n",
      " batch_normalization_2 (Batc  (None, 29, 29, 64)       256       \n",
      " hNormalization)                                                 \n",
      "                                                                 \n",
      " max_pooling2d_1 (MaxPooling  (None, 14, 14, 64)       0         \n",
      " 2D)                                                             \n",
      "                                                                 \n",
      " batch_normalization_3 (Batc  (None, 14, 14, 64)       256       \n",
      " hNormalization)                                                 \n",
      "                                                                 \n",
      " conv2d_2 (Conv2D)           (None, 12, 12, 128)       73856     \n",
      "                                                                 \n",
      " batch_normalization_4 (Batc  (None, 12, 12, 128)      512       \n",
      " hNormalization)                                                 \n",
      "                                                                 \n",
      " max_pooling2d_2 (MaxPooling  (None, 6, 6, 128)        0         \n",
      " 2D)                                                             \n",
      "                                                                 \n",
      " batch_normalization_5 (Batc  (None, 6, 6, 128)        512       \n",
      " hNormalization)                                                 \n",
      "                                                                 \n",
      " conv2d_3 (Conv2D)           (None, 4, 4, 128)         147584    \n",
      "                                                                 \n",
      " batch_normalization_6 (Batc  (None, 4, 4, 128)        512       \n",
      " hNormalization)                                                 \n",
      "                                                                 \n",
      " max_pooling2d_3 (MaxPooling  (None, 2, 2, 128)        0         \n",
      " 2D)                                                             \n",
      "                                                                 \n",
      " batch_normalization_7 (Batc  (None, 2, 2, 128)        512       \n",
      " hNormalization)                                                 \n",
      "                                                                 \n",
      " flatten_1 (Flatten)         (None, 512)               0         \n",
      "                                                                 \n",
      " dropout (Dropout)           (None, 512)               0         \n",
      "                                                                 \n",
      " dense_2 (Dense)             (None, 512)               262656    \n",
      "                                                                 \n",
      " batch_normalization_8 (Batc  (None, 512)              2048      \n",
      " hNormalization)                                                 \n",
      "                                                                 \n",
      " dense_3 (Dense)             (None, 2)                 1026      \n",
      "                                                                 \n",
      "=================================================================\n",
      "Total params: 509,378\n",
      "Trainable params: 506,946\n",
      "Non-trainable params: 2,432\n",
      "_________________________________________________________________\n"
     ]
    }
   ],
   "source": [
    "model_cnn = keras.Sequential(\n",
    "    [\n",
    "        keras.Input(shape=(64,64,3)),\n",
    "        layers.Conv2D(32, (3,3), activation = 'relu'),\n",
    "        layers.BatchNormalization(),\n",
    "        layers.MaxPooling2D((2,2)),\n",
    "        layers.BatchNormalization(),\n",
    "        layers.Conv2D(64, (3,3), activation = 'relu'),\n",
    "        layers.BatchNormalization(),\n",
    "        layers.MaxPooling2D((2,2)),\n",
    "        layers.BatchNormalization(),\n",
    "        layers.Conv2D(128, (3,3), activation = 'relu'),\n",
    "        layers.BatchNormalization(),\n",
    "        layers.MaxPooling2D((2,2)),\n",
    "        layers.BatchNormalization(),\n",
    "        layers.Conv2D(128, (3,3), activation = 'relu'),\n",
    "        layers.BatchNormalization(),\n",
    "        layers.MaxPooling2D((2,2)),\n",
    "        layers.BatchNormalization(),\n",
    "        layers.Flatten(),\n",
    "        layers.Dropout(0.5),\n",
    "        layers.Dense(512,activation='relu'),\n",
    "        layers.BatchNormalization(),\n",
    "        layers.Dense(2,activation='softmax'),\n",
    "    ]\n",
    ")\n",
    "\n",
    "model_cnn.compile(\n",
    "  loss='categorical_crossentropy',\n",
    "  optimizer='adagrad',\n",
    "  metrics=['accuracy'],\n",
    ")\n",
    "model_cnn.summary()"
   ]
  },
  {
   "cell_type": "code",
   "execution_count": null,
   "metadata": {
    "id": "vRpnBG1QM90_"
   },
   "outputs": [],
   "source": [
    "## Treinando o modelo\n",
    "Agora treinaremos o modelo criado, utilizando um *batch_size* de tamanho 16 e 100 épocas."
   ]
  },
  {
   "cell_type": "code",
   "execution_count": 25,
   "metadata": {
    "colab": {
     "base_uri": "https://localhost:8080/"
    },
    "id": "HXeQBDgxdnpU",
    "outputId": "2da070d4-82f5-4d79-9208-e9b9cf1ab2b0",
    "tags": []
   },
   "outputs": [
    {
     "name": "stdout",
     "output_type": "stream",
     "text": [
      "Epoch 1/100\n",
      "12/12 - 5s - loss: 0.8450 - accuracy: 0.5745 - val_loss: 0.6738 - val_accuracy: 0.5714 - 5s/epoch - 386ms/step\n",
      "Epoch 2/100\n",
      "12/12 - 2s - loss: 0.6400 - accuracy: 0.7181 - val_loss: 0.6738 - val_accuracy: 0.5714 - 2s/epoch - 128ms/step\n",
      "Epoch 3/100\n",
      "12/12 - 2s - loss: 0.6590 - accuracy: 0.6702 - val_loss: 0.6316 - val_accuracy: 0.5714 - 2s/epoch - 130ms/step\n",
      "Epoch 4/100\n",
      "12/12 - 1s - loss: 0.6297 - accuracy: 0.7394 - val_loss: 0.6401 - val_accuracy: 0.5714 - 1s/epoch - 117ms/step\n",
      "Epoch 5/100\n",
      "12/12 - 1s - loss: 0.5895 - accuracy: 0.7128 - val_loss: 0.6206 - val_accuracy: 0.5714 - 1s/epoch - 118ms/step\n",
      "Epoch 6/100\n",
      "12/12 - 2s - loss: 0.4083 - accuracy: 0.8138 - val_loss: 0.6003 - val_accuracy: 0.5238 - 2s/epoch - 130ms/step\n",
      "Epoch 7/100\n",
      "12/12 - 2s - loss: 0.4781 - accuracy: 0.7766 - val_loss: 0.5559 - val_accuracy: 0.6190 - 2s/epoch - 131ms/step\n",
      "Epoch 8/100\n",
      "12/12 - 2s - loss: 0.4242 - accuracy: 0.8032 - val_loss: 0.5590 - val_accuracy: 0.6667 - 2s/epoch - 141ms/step\n",
      "Epoch 9/100\n",
      "12/12 - 2s - loss: 0.3678 - accuracy: 0.8511 - val_loss: 0.5473 - val_accuracy: 0.6667 - 2s/epoch - 131ms/step\n",
      "Epoch 10/100\n",
      "12/12 - 2s - loss: 0.3522 - accuracy: 0.8457 - val_loss: 0.5464 - val_accuracy: 0.7143 - 2s/epoch - 128ms/step\n",
      "Epoch 11/100\n",
      "12/12 - 1s - loss: 0.3389 - accuracy: 0.8457 - val_loss: 0.5548 - val_accuracy: 0.6667 - 1s/epoch - 114ms/step\n",
      "Epoch 12/100\n",
      "12/12 - 2s - loss: 0.3272 - accuracy: 0.8457 - val_loss: 0.5506 - val_accuracy: 0.7143 - 2s/epoch - 132ms/step\n",
      "Epoch 13/100\n",
      "12/12 - 2s - loss: 0.3315 - accuracy: 0.8564 - val_loss: 0.5329 - val_accuracy: 0.6190 - 2s/epoch - 126ms/step\n",
      "Epoch 14/100\n",
      "12/12 - 1s - loss: 0.3672 - accuracy: 0.8298 - val_loss: 0.5153 - val_accuracy: 0.6667 - 1s/epoch - 123ms/step\n",
      "Epoch 15/100\n",
      "12/12 - 1s - loss: 0.3185 - accuracy: 0.8404 - val_loss: 0.5118 - val_accuracy: 0.6667 - 1s/epoch - 120ms/step\n",
      "Epoch 16/100\n",
      "12/12 - 2s - loss: 0.2371 - accuracy: 0.8830 - val_loss: 0.5098 - val_accuracy: 0.7143 - 2s/epoch - 132ms/step\n",
      "Epoch 17/100\n",
      "12/12 - 1s - loss: 0.2374 - accuracy: 0.8777 - val_loss: 0.5135 - val_accuracy: 0.6667 - 1s/epoch - 120ms/step\n",
      "Epoch 18/100\n",
      "12/12 - 1s - loss: 0.2231 - accuracy: 0.9149 - val_loss: 0.5074 - val_accuracy: 0.6667 - 1s/epoch - 113ms/step\n",
      "Epoch 19/100\n",
      "12/12 - 1s - loss: 0.2263 - accuracy: 0.9096 - val_loss: 0.5143 - val_accuracy: 0.7143 - 1s/epoch - 120ms/step\n",
      "Epoch 20/100\n",
      "12/12 - 1s - loss: 0.1935 - accuracy: 0.9096 - val_loss: 0.5126 - val_accuracy: 0.7619 - 1s/epoch - 121ms/step\n",
      "Epoch 21/100\n",
      "12/12 - 1s - loss: 0.2462 - accuracy: 0.8777 - val_loss: 0.5276 - val_accuracy: 0.6667 - 1s/epoch - 112ms/step\n",
      "Epoch 22/100\n",
      "12/12 - 1s - loss: 0.2199 - accuracy: 0.9043 - val_loss: 0.5178 - val_accuracy: 0.6667 - 1s/epoch - 120ms/step\n",
      "Epoch 23/100\n",
      "12/12 - 2s - loss: 0.2495 - accuracy: 0.9043 - val_loss: 0.5169 - val_accuracy: 0.6667 - 2s/epoch - 132ms/step\n",
      "Epoch 24/100\n",
      "12/12 - 1s - loss: 0.2114 - accuracy: 0.8989 - val_loss: 0.5141 - val_accuracy: 0.7619 - 1s/epoch - 120ms/step\n",
      "Epoch 25/100\n",
      "12/12 - 1s - loss: 0.2239 - accuracy: 0.8883 - val_loss: 0.5321 - val_accuracy: 0.7143 - 1s/epoch - 112ms/step\n",
      "Epoch 26/100\n",
      "12/12 - 1s - loss: 0.1681 - accuracy: 0.9362 - val_loss: 0.5359 - val_accuracy: 0.7619 - 1s/epoch - 124ms/step\n",
      "Epoch 27/100\n",
      "12/12 - 1s - loss: 0.1882 - accuracy: 0.9202 - val_loss: 0.4944 - val_accuracy: 0.7619 - 1s/epoch - 120ms/step\n",
      "Epoch 28/100\n",
      "12/12 - 2s - loss: 0.1649 - accuracy: 0.9255 - val_loss: 0.4805 - val_accuracy: 0.7619 - 2s/epoch - 131ms/step\n",
      "Epoch 29/100\n",
      "12/12 - 1s - loss: 0.2017 - accuracy: 0.9096 - val_loss: 0.4775 - val_accuracy: 0.8095 - 1s/epoch - 125ms/step\n",
      "Epoch 30/100\n",
      "12/12 - 2s - loss: 0.1342 - accuracy: 0.9681 - val_loss: 0.4980 - val_accuracy: 0.7143 - 2s/epoch - 131ms/step\n",
      "Epoch 31/100\n",
      "12/12 - 2s - loss: 0.1555 - accuracy: 0.9362 - val_loss: 0.4813 - val_accuracy: 0.7143 - 2s/epoch - 129ms/step\n",
      "Epoch 32/100\n",
      "12/12 - 2s - loss: 0.1531 - accuracy: 0.9468 - val_loss: 0.4750 - val_accuracy: 0.7143 - 2s/epoch - 130ms/step\n",
      "Epoch 33/100\n",
      "12/12 - 2s - loss: 0.1390 - accuracy: 0.9415 - val_loss: 0.4834 - val_accuracy: 0.7143 - 2s/epoch - 128ms/step\n",
      "Epoch 34/100\n",
      "12/12 - 1s - loss: 0.1227 - accuracy: 0.9628 - val_loss: 0.4960 - val_accuracy: 0.7143 - 1s/epoch - 118ms/step\n",
      "Epoch 35/100\n",
      "12/12 - 1s - loss: 0.1253 - accuracy: 0.9521 - val_loss: 0.5204 - val_accuracy: 0.7143 - 1s/epoch - 123ms/step\n",
      "Epoch 36/100\n",
      "12/12 - 1s - loss: 0.1330 - accuracy: 0.9468 - val_loss: 0.5035 - val_accuracy: 0.7143 - 1s/epoch - 124ms/step\n",
      "Epoch 37/100\n",
      "12/12 - 2s - loss: 0.1416 - accuracy: 0.9574 - val_loss: 0.4945 - val_accuracy: 0.7143 - 2s/epoch - 131ms/step\n",
      "Epoch 38/100\n",
      "12/12 - 1s - loss: 0.1492 - accuracy: 0.9468 - val_loss: 0.4953 - val_accuracy: 0.7143 - 1s/epoch - 119ms/step\n",
      "Epoch 39/100\n",
      "12/12 - 2s - loss: 0.1616 - accuracy: 0.9362 - val_loss: 0.5117 - val_accuracy: 0.7143 - 2s/epoch - 128ms/step\n",
      "Epoch 40/100\n",
      "12/12 - 2s - loss: 0.1188 - accuracy: 0.9628 - val_loss: 0.5203 - val_accuracy: 0.7143 - 2s/epoch - 128ms/step\n",
      "Epoch 41/100\n",
      "12/12 - 1s - loss: 0.1007 - accuracy: 0.9734 - val_loss: 0.5202 - val_accuracy: 0.7143 - 1s/epoch - 118ms/step\n",
      "Epoch 42/100\n",
      "12/12 - 2s - loss: 0.0992 - accuracy: 0.9787 - val_loss: 0.5624 - val_accuracy: 0.7619 - 2s/epoch - 152ms/step\n",
      "Epoch 43/100\n",
      "12/12 - 1s - loss: 0.1342 - accuracy: 0.9521 - val_loss: 0.5912 - val_accuracy: 0.6667 - 1s/epoch - 121ms/step\n",
      "Epoch 44/100\n",
      "12/12 - 1s - loss: 0.1737 - accuracy: 0.9149 - val_loss: 0.5637 - val_accuracy: 0.7143 - 1s/epoch - 124ms/step\n",
      "Epoch 45/100\n",
      "12/12 - 1s - loss: 0.0951 - accuracy: 0.9734 - val_loss: 0.5191 - val_accuracy: 0.7619 - 1s/epoch - 122ms/step\n",
      "Epoch 46/100\n",
      "12/12 - 1s - loss: 0.1178 - accuracy: 0.9628 - val_loss: 0.5059 - val_accuracy: 0.7619 - 1s/epoch - 125ms/step\n",
      "Epoch 47/100\n",
      "12/12 - 1s - loss: 0.0819 - accuracy: 0.9787 - val_loss: 0.5151 - val_accuracy: 0.7619 - 1s/epoch - 122ms/step\n",
      "Epoch 48/100\n",
      "12/12 - 1s - loss: 0.1390 - accuracy: 0.9309 - val_loss: 0.4912 - val_accuracy: 0.7619 - 1s/epoch - 119ms/step\n",
      "Epoch 49/100\n",
      "12/12 - 2s - loss: 0.1217 - accuracy: 0.9681 - val_loss: 0.5182 - val_accuracy: 0.7619 - 2s/epoch - 125ms/step\n",
      "Epoch 50/100\n",
      "12/12 - 2s - loss: 0.1175 - accuracy: 0.9681 - val_loss: 0.4860 - val_accuracy: 0.7619 - 2s/epoch - 127ms/step\n",
      "Epoch 51/100\n",
      "12/12 - 1s - loss: 0.1031 - accuracy: 0.9734 - val_loss: 0.5119 - val_accuracy: 0.7619 - 1s/epoch - 120ms/step\n",
      "Epoch 52/100\n",
      "12/12 - 1s - loss: 0.1045 - accuracy: 0.9840 - val_loss: 0.4746 - val_accuracy: 0.8095 - 1s/epoch - 120ms/step\n",
      "Epoch 53/100\n",
      "12/12 - 1s - loss: 0.0546 - accuracy: 0.9894 - val_loss: 0.5029 - val_accuracy: 0.8095 - 1s/epoch - 119ms/step\n",
      "Epoch 54/100\n",
      "12/12 - 1s - loss: 0.0688 - accuracy: 0.9787 - val_loss: 0.5189 - val_accuracy: 0.8095 - 1s/epoch - 119ms/step\n",
      "Epoch 55/100\n",
      "12/12 - 1s - loss: 0.1575 - accuracy: 0.9309 - val_loss: 0.4945 - val_accuracy: 0.8095 - 1s/epoch - 121ms/step\n",
      "Epoch 56/100\n",
      "12/12 - 2s - loss: 0.0935 - accuracy: 0.9787 - val_loss: 0.5191 - val_accuracy: 0.8095 - 2s/epoch - 133ms/step\n",
      "Epoch 57/100\n",
      "12/12 - 2s - loss: 0.0514 - accuracy: 0.9894 - val_loss: 0.5759 - val_accuracy: 0.8095 - 2s/epoch - 130ms/step\n",
      "Epoch 58/100\n",
      "12/12 - 1s - loss: 0.0721 - accuracy: 0.9734 - val_loss: 0.5277 - val_accuracy: 0.8095 - 1s/epoch - 112ms/step\n",
      "Epoch 59/100\n",
      "12/12 - 1s - loss: 0.0764 - accuracy: 0.9840 - val_loss: 0.5027 - val_accuracy: 0.8095 - 1s/epoch - 118ms/step\n",
      "Epoch 60/100\n",
      "12/12 - 1s - loss: 0.0957 - accuracy: 0.9734 - val_loss: 0.5239 - val_accuracy: 0.8095 - 1s/epoch - 118ms/step\n",
      "Epoch 61/100\n",
      "12/12 - 1s - loss: 0.1039 - accuracy: 0.9681 - val_loss: 0.4757 - val_accuracy: 0.8095 - 1s/epoch - 118ms/step\n",
      "Epoch 62/100\n",
      "12/12 - 1s - loss: 0.0695 - accuracy: 0.9787 - val_loss: 0.4889 - val_accuracy: 0.8095 - 1s/epoch - 115ms/step\n",
      "Epoch 63/100\n",
      "12/12 - 2s - loss: 0.0777 - accuracy: 0.9734 - val_loss: 0.5305 - val_accuracy: 0.8095 - 2s/epoch - 132ms/step\n",
      "Epoch 64/100\n",
      "12/12 - 2s - loss: 0.1169 - accuracy: 0.9681 - val_loss: 0.5146 - val_accuracy: 0.8095 - 2s/epoch - 129ms/step\n",
      "Epoch 65/100\n",
      "12/12 - 1s - loss: 0.0924 - accuracy: 0.9681 - val_loss: 0.4818 - val_accuracy: 0.8571 - 1s/epoch - 122ms/step\n",
      "Epoch 66/100\n",
      "12/12 - 1s - loss: 0.1061 - accuracy: 0.9681 - val_loss: 0.4902 - val_accuracy: 0.8095 - 1s/epoch - 116ms/step\n",
      "Epoch 67/100\n",
      "12/12 - 1s - loss: 0.0747 - accuracy: 0.9681 - val_loss: 0.5148 - val_accuracy: 0.8095 - 1s/epoch - 120ms/step\n",
      "Epoch 68/100\n",
      "12/12 - 1s - loss: 0.0537 - accuracy: 0.9894 - val_loss: 0.5029 - val_accuracy: 0.8571 - 1s/epoch - 115ms/step\n",
      "Epoch 69/100\n",
      "12/12 - 1s - loss: 0.0599 - accuracy: 0.9894 - val_loss: 0.5353 - val_accuracy: 0.8095 - 1s/epoch - 125ms/step\n",
      "Epoch 70/100\n",
      "12/12 - 2s - loss: 0.0475 - accuracy: 1.0000 - val_loss: 0.4909 - val_accuracy: 0.8571 - 2s/epoch - 126ms/step\n",
      "Epoch 71/100\n",
      "12/12 - 2s - loss: 0.0684 - accuracy: 0.9947 - val_loss: 0.5454 - val_accuracy: 0.8095 - 2s/epoch - 131ms/step\n",
      "Epoch 72/100\n",
      "12/12 - 1s - loss: 0.0682 - accuracy: 0.9840 - val_loss: 0.4679 - val_accuracy: 0.8571 - 1s/epoch - 121ms/step\n",
      "Epoch 73/100\n",
      "12/12 - 2s - loss: 0.0808 - accuracy: 0.9894 - val_loss: 0.4628 - val_accuracy: 0.8571 - 2s/epoch - 137ms/step\n",
      "Epoch 74/100\n",
      "12/12 - 2s - loss: 0.0939 - accuracy: 0.9681 - val_loss: 0.5551 - val_accuracy: 0.8095 - 2s/epoch - 126ms/step\n",
      "Epoch 75/100\n",
      "12/12 - 1s - loss: 0.0694 - accuracy: 0.9840 - val_loss: 0.5071 - val_accuracy: 0.8095 - 1s/epoch - 121ms/step\n",
      "Epoch 76/100\n",
      "12/12 - 2s - loss: 0.1378 - accuracy: 0.9309 - val_loss: 0.4803 - val_accuracy: 0.8571 - 2s/epoch - 127ms/step\n",
      "Epoch 77/100\n",
      "12/12 - 1s - loss: 0.0657 - accuracy: 0.9787 - val_loss: 0.4622 - val_accuracy: 0.8095 - 1s/epoch - 124ms/step\n",
      "Epoch 78/100\n",
      "12/12 - 2s - loss: 0.0682 - accuracy: 0.9734 - val_loss: 0.4938 - val_accuracy: 0.8571 - 2s/epoch - 130ms/step\n",
      "Epoch 79/100\n",
      "12/12 - 1s - loss: 0.0646 - accuracy: 0.9840 - val_loss: 0.5248 - val_accuracy: 0.8095 - 1s/epoch - 119ms/step\n",
      "Epoch 80/100\n",
      "12/12 - 1s - loss: 0.0474 - accuracy: 0.9894 - val_loss: 0.5607 - val_accuracy: 0.8095 - 1s/epoch - 125ms/step\n",
      "Epoch 81/100\n",
      "12/12 - 1s - loss: 0.0647 - accuracy: 0.9787 - val_loss: 0.5343 - val_accuracy: 0.7619 - 1s/epoch - 119ms/step\n",
      "Epoch 82/100\n",
      "12/12 - 2s - loss: 0.0568 - accuracy: 0.9840 - val_loss: 0.5170 - val_accuracy: 0.7619 - 2s/epoch - 129ms/step\n",
      "Epoch 83/100\n",
      "12/12 - 2s - loss: 0.0849 - accuracy: 0.9734 - val_loss: 0.5720 - val_accuracy: 0.8095 - 2s/epoch - 129ms/step\n",
      "Epoch 84/100\n",
      "12/12 - 1s - loss: 0.0496 - accuracy: 0.9840 - val_loss: 0.5731 - val_accuracy: 0.7619 - 1s/epoch - 116ms/step\n",
      "Epoch 85/100\n",
      "12/12 - 1s - loss: 0.0574 - accuracy: 0.9840 - val_loss: 0.5435 - val_accuracy: 0.7619 - 1s/epoch - 123ms/step\n",
      "Epoch 86/100\n",
      "12/12 - 2s - loss: 0.0702 - accuracy: 0.9787 - val_loss: 0.5816 - val_accuracy: 0.8095 - 2s/epoch - 127ms/step\n",
      "Epoch 87/100\n",
      "12/12 - 1s - loss: 0.0439 - accuracy: 0.9894 - val_loss: 0.5720 - val_accuracy: 0.7619 - 1s/epoch - 119ms/step\n",
      "Epoch 88/100\n",
      "12/12 - 2s - loss: 0.0954 - accuracy: 0.9734 - val_loss: 0.5362 - val_accuracy: 0.8095 - 2s/epoch - 127ms/step\n",
      "Epoch 89/100\n",
      "12/12 - 2s - loss: 0.0389 - accuracy: 1.0000 - val_loss: 0.5470 - val_accuracy: 0.7619 - 2s/epoch - 140ms/step\n",
      "Epoch 90/100\n",
      "12/12 - 2s - loss: 0.0557 - accuracy: 0.9734 - val_loss: 0.5455 - val_accuracy: 0.8095 - 2s/epoch - 147ms/step\n",
      "Epoch 91/100\n",
      "12/12 - 2s - loss: 0.0620 - accuracy: 0.9787 - val_loss: 0.5453 - val_accuracy: 0.8095 - 2s/epoch - 126ms/step\n",
      "Epoch 92/100\n",
      "12/12 - 2s - loss: 0.0517 - accuracy: 0.9947 - val_loss: 0.5219 - val_accuracy: 0.8095 - 2s/epoch - 129ms/step\n",
      "Epoch 93/100\n",
      "12/12 - 2s - loss: 0.0667 - accuracy: 0.9787 - val_loss: 0.5288 - val_accuracy: 0.8571 - 2s/epoch - 127ms/step\n",
      "Epoch 94/100\n",
      "12/12 - 1s - loss: 0.0501 - accuracy: 0.9894 - val_loss: 0.5513 - val_accuracy: 0.8095 - 1s/epoch - 118ms/step\n",
      "Epoch 95/100\n",
      "12/12 - 2s - loss: 0.0737 - accuracy: 0.9840 - val_loss: 0.5220 - val_accuracy: 0.8571 - 2s/epoch - 132ms/step\n",
      "Epoch 96/100\n",
      "12/12 - 2s - loss: 0.0738 - accuracy: 0.9734 - val_loss: 0.5125 - val_accuracy: 0.8571 - 2s/epoch - 158ms/step\n",
      "Epoch 97/100\n",
      "12/12 - 2s - loss: 0.0752 - accuracy: 0.9734 - val_loss: 0.4815 - val_accuracy: 0.8095 - 2s/epoch - 126ms/step\n",
      "Epoch 98/100\n",
      "12/12 - 1s - loss: 0.0445 - accuracy: 0.9947 - val_loss: 0.4974 - val_accuracy: 0.8571 - 1s/epoch - 123ms/step\n",
      "Epoch 99/100\n",
      "12/12 - 2s - loss: 0.0826 - accuracy: 0.9628 - val_loss: 0.4925 - val_accuracy: 0.8095 - 2s/epoch - 133ms/step\n",
      "Epoch 100/100\n",
      "12/12 - 1s - loss: 0.0604 - accuracy: 0.9894 - val_loss: 0.4993 - val_accuracy: 0.7619 - 1s/epoch - 119ms/step\n"
     ]
    }
   ],
   "source": [
    "# Callback\n",
    "early_stop = keras.callbacks.EarlyStopping(monitor='val_loss', patience=100)\n",
    "\n",
    "history = model_cnn.fit(\n",
    "  Xtr,\n",
    "  ytr,\n",
    "  epochs=100,\n",
    "  batch_size=16,\n",
    "  validation_data=(Xval, yval),\n",
    "  verbose = 2,\n",
    "  callbacks=[early_stop]\n",
    ")"
   ]
  },
  {
   "cell_type": "code",
   "execution_count": null,
   "metadata": {
    "id": "FZUlOFSINbX0"
   },
   "outputs": [],
   "source": [
    "## Desempenho do aprendizado\n",
    "Será possível visualizar o desempenho do aprendizado ao longo das épocas por meio de um gráfico."
   ]
  },
  {
   "cell_type": "code",
   "execution_count": 27,
   "metadata": {
    "colab": {
     "base_uri": "https://localhost:8080/",
     "height": 282
    },
    "id": "T3xOTFtENaEy",
    "outputId": "d9c813d1-b592-44fd-d571-cab1ff3d929a",
    "tags": []
   },
   "outputs": [
    {
     "data": {
      "text/plain": [
       "[<matplotlib.lines.Line2D at 0x7f9b1e79e6a0>]"
      ]
     },
     "execution_count": 27,
     "metadata": {},
     "output_type": "execute_result"
    },
    {
     "data": {
      "image/png": "[encoded data removed]",
      "text/plain": [
       "<Figure size 640x480 with 1 Axes>"
      ]
     },
     "metadata": {},
     "output_type": "display_data"
    }
   ],
   "source": [
    "plt.plot(history.history['loss'], label='train')\n",
    "plt.plot(history.history['val_loss'], label='test')"
   ]
  },
  {
   "cell_type": "code",
   "execution_count": null,
   "metadata": {},
   "outputs": [],
   "source": [
    "## Desempenho da rede\n",
    "Após configurar e treinar a rede, realizaremos testes de desempenho para avaliar o funcionamento do modelo."
   ]
  },
  {
   "cell_type": "code",
   "execution_count": 29,
   "metadata": {
    "colab": {
     "base_uri": "https://localhost:8080/"
    },
    "id": "hQkIorpnNm1m",
    "outputId": "6d092d4b-3fc9-4cdb-96ea-7c56f9548e18",
    "tags": []
   },
   "outputs": [
    {
     "name": "stdout",
     "output_type": "stream",
     "text": [
      "7/7 [==============================] - 1s 50ms/step\n",
      "2/2 [==============================] - 0s 34ms/step\n",
      "Acurácia sobre o arquivo de treino = 97.6%\n",
      "Acurácia sobre o arquivo de testes = 88.0%\n",
      "\n",
      "Resultados esperados do arquivo de teste: 1 1 1 1 1 0 1 1 1 1 1 1 1 0 0 1 0 1 1 1 1 0 0 1 1 1 1 0 1 0 1 1 1 1 0 0 0 1 0 0 1 1 1 0 0 0 1 1 1 0\n",
      "Resultados obtidos do arquivo de teste:   1 1 1 1 1 0 1 1 1 1 1 1 1 1 0 1 0 1 0 0 1 1 0 1 1 1 0 0 1 0 1 1 1 1 0 0 0 1 0 0 1 0 1 0 0 0 1 1 1 0\n"
     ]
    }
   ],
   "source": [
    "ytrainpred = model_cnn.predict(train_set_x_orig)\n",
    "ytestpred = model_cnn.predict(test_set_x_orig)\n",
    "\n",
    "print('Acurácia sobre o arquivo de treino = {:.1f}%'.format(accuracy_score(train_set_y.argmax(axis=1), ytrainpred.argmax(axis=1)) * 100))\n",
    "print('Acurácia sobre o arquivo de testes = {:.1f}%'.format(accuracy_score(test_set_y.argmax(axis=1), ytestpred.argmax(axis=1)) * 100))\n",
    "\n",
    "print('\\nResultados esperados do arquivo de teste:', *test_set_y_orig)\n",
    "print('Resultados obtidos do arquivo de teste:  ', *[ytestpred[x].argmax() for x in range(len(ytestpred))])"
   ]
  },
  {
   "cell_type": "code",
   "execution_count": null,
   "metadata": {
    "id": "YJaBlOfyOMlF"
   },
   "outputs": [],
   "source": [
    "## Matriz de confusão\n",
    "Com base nos resultados obtidos, construiremos uma matriz de confusão para analisar o desempenho do modelo em relação aos dados de teste.\n"
   ]
  },
  {
   "cell_type": "code",
   "execution_count": 30,
   "metadata": {
    "colab": {
     "base_uri": "https://localhost:8080/",
     "height": 296
    },
    "id": "pdOBVuJFOKmc",
    "outputId": "b444c8dd-ccc4-47c7-a6ed-2fd852828083",
    "tags": []
   },
   "outputs": [
    {
     "data": {
      "text/plain": [
       "<sklearn.metrics._plot.confusion_matrix.ConfusionMatrixDisplay at 0x7f9b1e768eb0>"
      ]
     },
     "execution_count": 30,
     "metadata": {},
     "output_type": "execute_result"
    },
    {
     "data": {
      "image/png": "[encoded data removed]",
      "text/plain": [
       "<Figure size 640x480 with 2 Axes>"
      ]
     },
     "metadata": {},
     "output_type": "display_data"
    }
   ],
   "source": [
    "ConfusionMatrixDisplay.from_predictions(test_set_y.argmax(axis=1), ytestpred.argmax(axis=1))"
   ]
  }
 ],
 "metadata": {
  "colab": {
   "name": "Gato vs Não-Gato - Brendon Vicente.ipynb",
   "provenance": []
  },
  "kernelspec": {
   "display_name": "Python 3 (ipykernel)",
   "language": "python",
   "name": "python3"
  },
  "language_info": {
   "codemirror_mode": {
    "name": "ipython",
    "version": 3
   },
   "file_extension": ".py",
   "mimetype": "text/x-python",
   "name": "python",
   "nbconvert_exporter": "python",
   "pygments_lexer": "ipython3",
   "version": "3.9.7"
  }
 },
 "nbformat": 4,
 "nbformat_minor": 4
}
