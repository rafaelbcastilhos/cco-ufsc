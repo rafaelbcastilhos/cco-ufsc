{
  "nbformat": 4,
  "nbformat_minor": 0,
  "metadata": {
    "kernelspec": {
      "display_name": "Python 3",
      "language": "python",
      "name": "python3"
    },
    "language_info": {
      "codemirror_mode": {
        "name": "ipython",
        "version": 3
      },
      "file_extension": ".py",
      "mimetype": "text/x-python",
      "name": "python",
      "nbconvert_exporter": "python",
      "pygments_lexer": "ipython3",
      "version": "3.8.5"
    },
    "colab": {
      "name": "INE5410 - Concorrência em Python.ipynb",
      "provenance": []
    }
  },
  "cells": [
    {
      "cell_type": "markdown",
      "metadata": {
        "id": "GwmEV6zJl8oD"
      },
      "source": [
        "# Exemplos de uso de Threads"
      ]
    },
    {
      "cell_type": "code",
      "metadata": {
        "id": "kcscsEXvl8oI"
      },
      "source": [
        "from threading import Thread\n",
        "\n",
        "def le_nome():\n",
        "    nome = input('Informe o seu nome: ')\n",
        "    print('Olá', nome, '! Obrigado por testar o programa.')\n",
        "\n",
        "def calcula():\n",
        "    print('Cálculo iniciado...\\n', end='') \n",
        "    [(x**2) for x in range(10000000)]\n",
        "    print('Cálculo concluído.\\n', end='') "
      ],
      "execution_count": null,
      "outputs": []
    },
    {
      "cell_type": "markdown",
      "metadata": {
        "id": "33EAMZpql8oK"
      },
      "source": [
        "## Execução Sequencial do Exemplo"
      ]
    },
    {
      "cell_type": "code",
      "metadata": {
        "colab": {
          "base_uri": "https://localhost:8080/"
        },
        "id": "7dz7ojvBl8oL",
        "outputId": "b954d18f-5eea-4d40-9378-2000c4fd7deb"
      },
      "source": [
        "le_nome()\n",
        "calcula()"
      ],
      "execution_count": null,
      "outputs": [
        {
          "output_type": "stream",
          "name": "stdout",
          "text": [
            "Informe o seu nome: Frank\n",
            "Olá Frank ! Obrigado por testar o programa.\n",
            "Cálculo iniciado...\n",
            "Cálculo concluído.\n"
          ]
        }
      ]
    },
    {
      "cell_type": "markdown",
      "metadata": {
        "id": "LtTGY1qwl8oM"
      },
      "source": [
        "## Execução Concorrente do Exemplo"
      ]
    },
    {
      "cell_type": "code",
      "metadata": {
        "colab": {
          "base_uri": "https://localhost:8080/"
        },
        "id": "slHdhq-kl8oN",
        "outputId": "8bb83944-424b-4dd9-f411-adf055694d3e"
      },
      "source": [
        "thread1 = Thread(target=le_nome)\n",
        "thread2 = Thread(target=calcula)\n",
        "thread1.start()\t\t# inicia a thread1\n",
        "thread2.start()\t\t# inicia a thread2\n",
        "thread1.join()\t\t# aguarda fim da thread1\n",
        "thread2.join()\t\t # aguarda fim da thread2 "
      ],
      "execution_count": null,
      "outputs": [
        {
          "output_type": "stream",
          "name": "stdout",
          "text": [
            "Cálculo iniciado...\n",
            "Informe o seu nome: Frank\n",
            "Cálculo concluído.\n",
            "Olá Frank ! Obrigado por testar o programa.\n"
          ]
        }
      ]
    },
    {
      "cell_type": "markdown",
      "metadata": {
        "id": "STx--vNzx2o1"
      },
      "source": [
        "## Medindo o Tempo da Execução Sequencial\n"
      ]
    },
    {
      "cell_type": "code",
      "metadata": {
        "colab": {
          "base_uri": "https://localhost:8080/"
        },
        "id": "2M3ZrTGdl8oN",
        "outputId": "c9460925-e1f2-4c65-f800-c2ad84b28d64"
      },
      "source": [
        "import time\n",
        "t = time.time()\n",
        "le_nome()\n",
        "calcula()\n",
        "print('Tempo total:', time.time() - t)"
      ],
      "execution_count": null,
      "outputs": [
        {
          "output_type": "stream",
          "text": [
            "Informe o seu nome: Frank\n",
            "Olá Frank ! Obrigado por testar o programa.\n",
            "Cálculo iniciado...\n",
            "Cálculo concluído.\n",
            "Tempo total: 7.383760929107666\n"
          ],
          "name": "stdout"
        }
      ]
    },
    {
      "cell_type": "markdown",
      "metadata": {
        "id": "rLxLLSvlyFbM"
      },
      "source": [
        "## Medindo o Tempo da Execução Concorrente"
      ]
    },
    {
      "cell_type": "code",
      "metadata": {
        "colab": {
          "base_uri": "https://localhost:8080/"
        },
        "id": "kJWOtfKjxqVo",
        "outputId": "9ce3d2c0-44c3-48b5-9d9c-f4ecace7ef43"
      },
      "source": [
        "t = time.time()\n",
        "thread1 = Thread(target=le_nome)\n",
        "thread2 = Thread(target=calcula)\n",
        "thread1.start()\t\t# inicia a thread1\n",
        "thread2.start()\t\t# inicia a thread2\n",
        "thread1.join()\t\t# aguarda fim da thread1\n",
        "thread2.join()\t\t # aguarda fim da thread2 \n",
        "print('Tempo total:', time.time() - t)"
      ],
      "execution_count": null,
      "outputs": [
        {
          "output_type": "stream",
          "text": [
            "Cálculo iniciado...\n",
            "Cálculo concluído.\n",
            "Informe o seu nome: Frank\n",
            "Olá Frank ! Obrigado por testar o programa.\n",
            "Tempo total: 4.517071962356567\n"
          ],
          "name": "stdout"
        }
      ]
    },
    {
      "cell_type": "markdown",
      "metadata": {
        "id": "Cxp7AYqXro30"
      },
      "source": [
        "## Criação de Threads em um Laço"
      ]
    },
    {
      "cell_type": "code",
      "metadata": {
        "colab": {
          "base_uri": "https://localhost:8080/"
        },
        "id": "y-VLTWVSP4I1",
        "outputId": "4b093fd5-e4ad-4d2a-c704-07745a4d8fae"
      },
      "source": [
        "t = []\t\t\t\t\t    # Lista de threads                         \n",
        "for i in range(3): \n",
        "  t.append(Thread(target=calcula))\n",
        "  t[i].start()\n",
        "\n",
        "for i in range(3): \n",
        "  t[i].join()  "
      ],
      "execution_count": null,
      "outputs": [
        {
          "output_type": "stream",
          "text": [
            "Cálculo iniciado...\n",
            "Cálculo iniciado...\n",
            "Cálculo iniciado...\n",
            "Cálculo concluído.\n",
            "Cálculo concluído.\n",
            "Cálculo concluído.\n"
          ],
          "name": "stdout"
        }
      ]
    },
    {
      "cell_type": "markdown",
      "metadata": {
        "id": "iORyuoNmOQHU"
      },
      "source": [
        "## Passagem de Parâmetro para Função"
      ]
    },
    {
      "cell_type": "code",
      "metadata": {
        "colab": {
          "base_uri": "https://localhost:8080/"
        },
        "id": "Td4LJnQBN4PY",
        "outputId": "b9880369-2233-4113-f844-090559bd60b4"
      },
      "source": [
        "def calcula_exp(i):\n",
        "   print('Cálculo iniciado para o valor %d\\n' % i, end='') \n",
        "   [(x**i) for x in range(10000000)]\n",
        "   print('Cálculo concluído para o valor %d\\n' % i, end='') \n",
        "\n",
        "t = []\n",
        "for i in range(3): \n",
        "  # Causará execução sequencial\n",
        "  t.append(Thread(target=calcula_exp(i))) \n",
        "  t[i].start() \n",
        "\n",
        "for i in range(3): \n",
        "  t[i].join() "
      ],
      "execution_count": null,
      "outputs": [
        {
          "output_type": "stream",
          "text": [
            "Cálculo iniciado para o valor 0\n",
            "Cálculo concluído para o valor 0\n",
            "Cálculo iniciado para o valor 1\n",
            "Cálculo concluído para o valor 1\n",
            "Cálculo iniciado para o valor 2\n",
            "Cálculo concluído para o valor 2\n"
          ],
          "name": "stdout"
        }
      ]
    },
    {
      "cell_type": "code",
      "metadata": {
        "colab": {
          "base_uri": "https://localhost:8080/"
        },
        "id": "OGMtRUlweqY5",
        "outputId": "0f92736c-8342-402c-8dc0-680b3a06989c"
      },
      "source": [
        "t = []\n",
        "for i in range(3): \n",
        "  # Causará execução concorrente\n",
        "  t.append(Thread(target=calcula_exp, args=(i,)))\n",
        "  t[i].start() \n",
        "\n",
        "for i in range(3): \n",
        "  t[i].join() "
      ],
      "execution_count": null,
      "outputs": [
        {
          "output_type": "stream",
          "text": [
            "Cálculo iniciado para o valor 0\n",
            "Cálculo iniciado para o valor 1\n",
            "Cálculo iniciado para o valor 2\n",
            "Cálculo concluído para o valor 0\n",
            "Cálculo concluído para o valor 1\n",
            "Cálculo concluído para o valor 2\n"
          ],
          "name": "stdout"
        }
      ]
    },
    {
      "cell_type": "code",
      "metadata": {
        "colab": {
          "base_uri": "https://localhost:8080/"
        },
        "id": "tEyAFP11WFX0",
        "outputId": "5560d178-38a8-4a22-9078-d4a00026520b"
      },
      "source": [
        "t = []\n",
        "for i in range(3): \n",
        "  # Causará execução concorrente\n",
        "  t.append(Thread(target=lambda: calcula_exp(i)))\n",
        "  t[i].start() \n",
        "\n",
        "for i in range(3): \n",
        "  t[i].join() "
      ],
      "execution_count": null,
      "outputs": [
        {
          "output_type": "stream",
          "text": [
            "Cálculo iniciado para o valor 0\n",
            "Cálculo iniciado para o valor 1\n",
            "Cálculo iniciado para o valor 2\n",
            "Cálculo concluído para o valor 0\n",
            "Cálculo concluído para o valor 1\n",
            "Cálculo concluído para o valor 2\n"
          ],
          "name": "stdout"
        }
      ]
    },
    {
      "cell_type": "markdown",
      "metadata": {
        "id": "gnMnIz0ugGo5"
      },
      "source": [
        "## Exemplo usando Herança"
      ]
    },
    {
      "cell_type": "code",
      "metadata": {
        "colab": {
          "base_uri": "https://localhost:8080/"
        },
        "id": "rSTL08SEgQzy",
        "outputId": "3cf8dc85-6d4b-46cf-dafb-e4b5b3f0f6c4"
      },
      "source": [
        "from threading import Thread \n",
        "from time import sleep \n",
        "\n",
        "class MyThread(Thread):\t\t       \t      # subclasse de Thread \n",
        "  def __init__(self, name, sleep_time):\t# construtor recebe sleep_time \n",
        "    self.sleep_time = sleep_time\t\t    # tempo que a thread irá dormir \n",
        "    super().__init__(name=name)\t\t      # chama construtor da superclasse \n",
        "\n",
        "  def run(self):\t\t\t\t                # método executado pela thread \n",
        "    print(self.name + ' iniciada...\\n', end='') \n",
        "    sleep(self.sleep_time) \n",
        "    print(self.name + ' concluída.\\n', end='') \n",
        "\n",
        "t = []\t\t\t\t\t                        # lista com instâncias de MyThread \n",
        "for i in range(3): \n",
        "  t.append(MyThread(name='MyThread-'+str(i), sleep_time=i+3)) \n",
        "  t[i].start() \n",
        "  if t[i].is_alive(): \t\t\t            # verifica se a thread está viva \n",
        "    print(t[i].name + ' está ativa.\\n', end='') \n",
        "\n",
        "for i in range(3): \n",
        "  t[i].join() \n",
        "  print(t[i].name + ' terminou.\\n', end='')"
      ],
      "execution_count": null,
      "outputs": [
        {
          "output_type": "stream",
          "text": [
            "MyThread-0 iniciada...\n",
            "MyThread-0 está ativa.\n",
            "MyThread-1 iniciada...\n",
            "MyThread-1 está ativa.\n",
            "MyThread-2 iniciada...\n",
            "MyThread-2 está ativa.\n",
            "MyThread-0 concluída.\n",
            "MyThread-0 terminou.\n",
            "MyThread-1 concluída.\n",
            "MyThread-1 terminou.\n",
            "MyThread-2 concluída.\n",
            "MyThread-2 terminou.\n"
          ],
          "name": "stdout"
        }
      ]
    },
    {
      "cell_type": "markdown",
      "metadata": {
        "id": "LTBnSeQGPpmH"
      },
      "source": [
        "# Exemplos de uso de Processos"
      ]
    },
    {
      "cell_type": "code",
      "metadata": {
        "colab": {
          "base_uri": "https://localhost:8080/"
        },
        "id": "7GE2p-_QQ3QC",
        "outputId": "b9557edb-98d0-434c-ca09-deb7b78e455f"
      },
      "source": [
        "from multiprocessing import Process\n",
        "from time import sleep\n",
        "\n",
        "def temporizador(proc, tempo):\n",
        "  print('[%s] Iniciada contagem de %i segundos' % (proc, tempo))\n",
        "  while tempo:\n",
        "    print('[%s] Tempo restante: %i segundo(s)' % (proc, tempo))\n",
        "    sleep(1)\n",
        "    tempo-=1\n",
        "  print('[%s] Tempo esgotado.' % proc)\n",
        "\n",
        "if __name__ == '__main__': # caso for o programa principal \n",
        "  proc1 = Process(target=temporizador, args=('Proc1', 10))\n",
        "  proc2 = Process(target=temporizador, args=('Proc2', 5))\n",
        "  proc1.start()\n",
        "  proc2.start()\n",
        "  proc1.join()\n",
        "  proc2.join()  "
      ],
      "execution_count": null,
      "outputs": [
        {
          "output_type": "stream",
          "text": [
            "[Proc1] Iniciada contagem de 10 segundos\n",
            "[Proc1] Tempo restante: 10 segundo(s)\n",
            "[Proc2] Iniciada contagem de 5 segundos\n",
            "[Proc2] Tempo restante: 5 segundo(s)\n",
            "[Proc1] Tempo restante: 9 segundo(s)\n",
            "[Proc2] Tempo restante: 4 segundo(s)\n",
            "[Proc1] Tempo restante: 8 segundo(s)\n",
            "[Proc2] Tempo restante: 3 segundo(s)\n",
            "[Proc1] Tempo restante: 7 segundo(s)\n",
            "[Proc2] Tempo restante: 2 segundo(s)\n",
            "[Proc1] Tempo restante: 6 segundo(s)\n",
            "[Proc2] Tempo restante: 1 segundo(s)\n",
            "[Proc1] Tempo restante: 5 segundo(s)\n",
            "[Proc2] Tempo esgotado.\n",
            "[Proc1] Tempo restante: 4 segundo(s)\n",
            "[Proc1] Tempo restante: 3 segundo(s)\n",
            "[Proc1] Tempo restante: 2 segundo(s)\n",
            "[Proc1] Tempo restante: 1 segundo(s)\n",
            "[Proc1] Tempo esgotado.\n"
          ],
          "name": "stdout"
        }
      ]
    },
    {
      "cell_type": "code",
      "metadata": {
        "colab": {
          "base_uri": "https://localhost:8080/"
        },
        "id": "-ugrNxvFingS",
        "outputId": "b2cbd604-106f-46fd-8ed0-a7a2c5d736e9"
      },
      "source": [
        "from multiprocessing import Process\n",
        "from time import sleep\n",
        "\n",
        "def temporizador(proc, tempo):\n",
        "  print('[%s] Iniciada contagem de %i segundos' % (proc, tempo))\n",
        "  while tempo:\n",
        "    print('[%s] Tempo restante: %i segundo(s)' % (proc, tempo))\n",
        "    sleep(1)\n",
        "    tempo-=1\n",
        "  print('[%s] Tempo esgotado.' % proc)\n",
        "\n",
        "if __name__ == '__main__': # caso for o programa principal \n",
        "  proc = Process(target=temporizador, args=('Temporizador', 10))\n",
        "  proc.start()\n",
        "\n",
        "  resp = input('Digite qualquer tecla para finalizar a execução: ')\n",
        "\n",
        "  if proc.is_alive():\n",
        "    proc.terminate()\n"
      ],
      "execution_count": null,
      "outputs": [
        {
          "output_type": "stream",
          "text": [
            "[Temporizador] Iniciada contagem de 10 segundos\n",
            "[Temporizador] Tempo restante: 10 segundo(s)\n",
            "[Temporizador] Tempo restante: 9 segundo(s)\n",
            "[Temporizador] Tempo restante: 8 segundo(s)\n",
            "[Temporizador] Tempo restante: 7 segundo(s)\n",
            "Digite qualquer tecla para finalizar a execução: \n"
          ],
          "name": "stdout"
        }
      ]
    },
    {
      "cell_type": "markdown",
      "metadata": {
        "id": "qd3g1nACuLht"
      },
      "source": [
        "# Exemplos de uso de Executores"
      ]
    },
    {
      "cell_type": "code",
      "metadata": {
        "colab": {
          "base_uri": "https://localhost:8080/"
        },
        "id": "kP1yu-4dUUlH",
        "outputId": "ca64a616-b166-4dbb-bf7e-0e06dfbb04da"
      },
      "source": [
        "from concurrent.futures import ThreadPoolExecutor\n",
        "\n",
        "executor = ThreadPoolExecutor(max_workers=2)\n",
        "for i in range(3):\n",
        "  executor.submit(calcula)\n",
        "executor.shutdown()"
      ],
      "execution_count": null,
      "outputs": [
        {
          "output_type": "stream",
          "text": [
            "Cálculo iniciado...\n",
            "Cálculo iniciado...\n",
            "Cálculo iniciado...\n",
            "Cálculo iniciado...\n",
            "Cálculo iniciado...\n",
            "Cálculo concluído.\n",
            "Cálculo concluído.\n",
            "Cálculo concluído.\n",
            "Cálculo concluído.\n",
            "Cálculo concluído.\n"
          ],
          "name": "stdout"
        }
      ]
    },
    {
      "cell_type": "code",
      "metadata": {
        "colab": {
          "base_uri": "https://localhost:8080/"
        },
        "id": "9Fjx_n6fuE46",
        "outputId": "a3937106-87c3-49c2-e245-7bac557f320d"
      },
      "source": [
        "from concurrent.futures import ThreadPoolExecutor\n",
        "\n",
        "with ThreadPoolExecutor(max_workers=2) as executor:\n",
        "  for i in range(3):\n",
        "    executor.submit(calcula)"
      ],
      "execution_count": null,
      "outputs": [
        {
          "output_type": "stream",
          "text": [
            "Cálculo iniciado...\n",
            "Cálculo iniciado...\n",
            "Cálculo concluído.\n",
            "Cálculo iniciado...\n",
            "Cálculo concluído.\n",
            "Cálculo concluído.\n"
          ],
          "name": "stdout"
        }
      ]
    },
    {
      "cell_type": "markdown",
      "metadata": {
        "id": "zl0r1Kjrryb6"
      },
      "source": [
        "## Usando Future e Executor"
      ]
    },
    {
      "cell_type": "code",
      "metadata": {
        "colab": {
          "base_uri": "https://localhost:8080/"
        },
        "id": "lL2cfzHBsI9w",
        "outputId": "8475eba7-14d1-44ac-b17a-eb7598083403"
      },
      "source": [
        "from math import factorial \n",
        "from concurrent.futures import ThreadPoolExecutor\n",
        "\n",
        "futs = []\n",
        "with ThreadPoolExecutor(max_workers=5) as executor:\n",
        "  for i in range(20):\n",
        "    futs.append(executor.submit(factorial,100+i))\n",
        "    \n",
        "for j in range(20):\n",
        "  try:\n",
        "    result = futs[j].result()\n",
        "  except Exception as exc:\n",
        "    print('Exceção calculando o fatorial de', 100+j)  \n",
        "  else:\n",
        "    print('Fatorial de', 100+j, '=', result)"
      ],
      "execution_count": null,
      "outputs": [
        {
          "output_type": "stream",
          "text": [
            "Fatorial de 100 = 93326215443944152681699238856266700490715968264381621468592963895217599993229915608941463976156518286253697920827223758251185210916864000000000000000000000000\n",
            "Fatorial de 101 = 9425947759838359420851623124482936749562312794702543768327889353416977599316221476503087861591808346911623490003549599583369706302603264000000000000000000000000\n",
            "Fatorial de 102 = 961446671503512660926865558697259548455355905059659464369444714048531715130254590603314961882364451384985595980362059157503710042865532928000000000000000000000000\n",
            "Fatorial de 103 = 99029007164861804075467152545817733490901658221144924830052805546998766658416222832141441073883538492653516385977292093222882134415149891584000000000000000000000000\n",
            "Fatorial de 104 = 10299016745145627623848583864765044283053772454999072182325491776887871732475287174542709871683888003235965704141638377695179741979175588724736000000000000000000000000\n",
            "Fatorial de 105 = 1081396758240290900504101305800329649720646107774902579144176636573226531909905153326984536526808240339776398934872029657993872907813436816097280000000000000000000000000\n",
            "Fatorial de 106 = 114628056373470835453434738414834942870388487424139673389282723476762012382449946252660360871841673476016298287096435143747350528228224302506311680000000000000000000000000\n",
            "Fatorial de 107 = 12265202031961379393517517010387338887131568154382945052653251412013535324922144249034658613287059061933743916719318560380966506520420000368175349760000000000000000000000000\n",
            "Fatorial de 108 = 1324641819451828974499891837121832599810209360673358065686551152497461815091591578895743130235002378688844343005686404521144382704205360039762937774080000000000000000000000000\n",
            "Fatorial de 109 = 144385958320249358220488210246279753379312820313396029159834075622223337844983482099636001195615259277084033387619818092804737714758384244334160217374720000000000000000000000000\n",
            "Fatorial de 110 = 15882455415227429404253703127090772871724410234473563207581748318444567162948183030959960131517678520479243672638179990208521148623422266876757623911219200000000000000000000000000\n",
            "Fatorial de 111 = 1762952551090244663872161047107075788761409536026565516041574063347346955087248316436555574598462315773196047662837978913145847497199871623320096254145331200000000000000000000000000\n",
            "Fatorial de 112 = 197450685722107402353682037275992488341277868034975337796656295094902858969771811440894224355027779366597957338237853638272334919686385621811850780464277094400000000000000000000000000\n",
            "Fatorial de 113 = 22311927486598136465966070212187151182564399087952213171022161345724023063584214692821047352118139068425569179220877461124773845924561575264739138192463311667200000000000000000000000000\n",
            "Fatorial de 114 = 2543559733472187557120132004189335234812341496026552301496526393412538629248600474981599398141467853800514886431180030568224218435400019580180261753940817530060800000000000000000000000000\n",
            "Fatorial de 115 = 292509369349301569068815180481773552003419272043053514672100535242441942363589054622883930786268803187059211939585703515345785120071002251720730101703194015956992000000000000000000000000000\n",
            "Fatorial de 116 = 33931086844518982011982560935885732032396635556994207701963662088123265314176330336254535971207181169698868584991941607780111073928236261199604691797570505851011072000000000000000000000000000\n",
            "Fatorial de 117 = 3969937160808720895401959629498630647790406360168322301129748464310422041758630649341780708631240196854767624444057168110272995649603642560353748940315749184568295424000000000000000000000000000\n",
            "Fatorial de 118 = 468452584975429065657431236280838416439267950499862031533310318788629800927518416622330123618486343228862579684398745837012213486653229822121742374957258403779058860032000000000000000000000000000\n",
            "Fatorial de 119 = 55745857612076058813234317117419771556272886109483581752463927935846946310374691578057284710599874844234646982443450754604453404911734348832487342619913750049708004343808000000000000000000000000000\n"
          ],
          "name": "stdout"
        }
      ]
    },
    {
      "cell_type": "code",
      "metadata": {
        "colab": {
          "base_uri": "https://localhost:8080/"
        },
        "id": "sbg82CFMz4b6",
        "outputId": "7f666aeb-fc55-4800-dd93-482f3052687f"
      },
      "source": [
        "from concurrent.futures import as_completed\n",
        "\n",
        "def calc_fat(n):\n",
        "  return (n, factorial(n))\n",
        "\n",
        "with ThreadPoolExecutor(max_workers=5) as exec:\n",
        "  futs = {exec.submit(calc_fat, i): i for i in range(100,120)}\n",
        "  \n",
        "for fut in as_completed(futs):\n",
        "  try:\n",
        "    (n, fat) = fut.result()\n",
        "  except Exception as exc:\n",
        "    print('Exceção calculando o fatorial:', exc)  \n",
        "  else:\n",
        "    print('Fatorial de', n, '=', fat)"
      ],
      "execution_count": null,
      "outputs": [
        {
          "output_type": "stream",
          "text": [
            "Fatorial de 117 = 3969937160808720895401959629498630647790406360168322301129748464310422041758630649341780708631240196854767624444057168110272995649603642560353748940315749184568295424000000000000000000000000000\n",
            "Fatorial de 106 = 114628056373470835453434738414834942870388487424139673389282723476762012382449946252660360871841673476016298287096435143747350528228224302506311680000000000000000000000000\n",
            "Fatorial de 116 = 33931086844518982011982560935885732032396635556994207701963662088123265314176330336254535971207181169698868584991941607780111073928236261199604691797570505851011072000000000000000000000000000\n",
            "Fatorial de 115 = 292509369349301569068815180481773552003419272043053514672100535242441942363589054622883930786268803187059211939585703515345785120071002251720730101703194015956992000000000000000000000000000\n",
            "Fatorial de 103 = 99029007164861804075467152545817733490901658221144924830052805546998766658416222832141441073883538492653516385977292093222882134415149891584000000000000000000000000\n",
            "Fatorial de 113 = 22311927486598136465966070212187151182564399087952213171022161345724023063584214692821047352118139068425569179220877461124773845924561575264739138192463311667200000000000000000000000000\n",
            "Fatorial de 112 = 197450685722107402353682037275992488341277868034975337796656295094902858969771811440894224355027779366597957338237853638272334919686385621811850780464277094400000000000000000000000000\n",
            "Fatorial de 111 = 1762952551090244663872161047107075788761409536026565516041574063347346955087248316436555574598462315773196047662837978913145847497199871623320096254145331200000000000000000000000000\n",
            "Fatorial de 110 = 15882455415227429404253703127090772871724410234473563207581748318444567162948183030959960131517678520479243672638179990208521148623422266876757623911219200000000000000000000000000\n",
            "Fatorial de 104 = 10299016745145627623848583864765044283053772454999072182325491776887871732475287174542709871683888003235965704141638377695179741979175588724736000000000000000000000000\n",
            "Fatorial de 114 = 2543559733472187557120132004189335234812341496026552301496526393412538629248600474981599398141467853800514886431180030568224218435400019580180261753940817530060800000000000000000000000000\n",
            "Fatorial de 109 = 144385958320249358220488210246279753379312820313396029159834075622223337844983482099636001195615259277084033387619818092804737714758384244334160217374720000000000000000000000000\n",
            "Fatorial de 102 = 961446671503512660926865558697259548455355905059659464369444714048531715130254590603314961882364451384985595980362059157503710042865532928000000000000000000000000\n",
            "Fatorial de 119 = 55745857612076058813234317117419771556272886109483581752463927935846946310374691578057284710599874844234646982443450754604453404911734348832487342619913750049708004343808000000000000000000000000000\n",
            "Fatorial de 108 = 1324641819451828974499891837121832599810209360673358065686551152497461815091591578895743130235002378688844343005686404521144382704205360039762937774080000000000000000000000000\n",
            "Fatorial de 105 = 1081396758240290900504101305800329649720646107774902579144176636573226531909905153326984536526808240339776398934872029657993872907813436816097280000000000000000000000000\n",
            "Fatorial de 118 = 468452584975429065657431236280838416439267950499862031533310318788629800927518416622330123618486343228862579684398745837012213486653229822121742374957258403779058860032000000000000000000000000000\n",
            "Fatorial de 101 = 9425947759838359420851623124482936749562312794702543768327889353416977599316221476503087861591808346911623490003549599583369706302603264000000000000000000000000\n",
            "Fatorial de 107 = 12265202031961379393517517010387338887131568154382945052653251412013535324922144249034658613287059061933743916719318560380966506520420000368175349760000000000000000000000000\n",
            "Fatorial de 100 = 93326215443944152681699238856266700490715968264381621468592963895217599993229915608941463976156518286253697920827223758251185210916864000000000000000000000000\n"
          ],
          "name": "stdout"
        }
      ]
    }
  ]
}