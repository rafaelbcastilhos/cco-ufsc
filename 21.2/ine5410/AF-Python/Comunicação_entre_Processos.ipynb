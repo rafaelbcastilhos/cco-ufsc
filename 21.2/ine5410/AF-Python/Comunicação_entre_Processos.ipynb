{
  "nbformat": 4,
  "nbformat_minor": 0,
  "metadata": {
    "colab": {
      "name": "Comunicação entre Processos.ipynb",
      "provenance": []
    },
    "kernelspec": {
      "name": "python3",
      "display_name": "Python 3"
    },
    "language_info": {
      "name": "python"
    }
  },
  "cells": [
    {
      "cell_type": "markdown",
      "metadata": {
        "id": "p2k7QZAa9kol"
      },
      "source": [
        "# Exemplo de uso de Pipes"
      ]
    },
    {
      "cell_type": "code",
      "source": [
        ""
      ],
      "metadata": {
        "id": "dgJjUOINmq1v"
      },
      "execution_count": null,
      "outputs": []
    },
    {
      "cell_type": "code",
      "metadata": {
        "colab": {
          "base_uri": "https://localhost:8080/"
        },
        "id": "uhGydYXr9ex_",
        "outputId": "ed4c4109-9d80-4ca4-8a76-b4bb96f1464c"
      },
      "source": [
        "from multiprocessing import Process, Pipe\n",
        "\n",
        "def calc(conn):\n",
        "  (op, i, j) = conn.recv()\n",
        "  if op == 'soma':\n",
        "    print('Executando operação:', op)\n",
        "    conn.send(i + j)\n",
        "  else:\n",
        "    conn.send('Operação desconhecida.')\n",
        "  conn.close()\n",
        "\n",
        "if __name__ == '__main__':\n",
        "  conn1, conn2 = Pipe(duplex=True)\n",
        "  p = Process(target=calc, args=(conn2,))\n",
        "  p.start()\n",
        "  conn1.send(['soma', 100, 200])\n",
        "  res = conn1.recv()\n",
        "  print('Resultado:', res)\n",
        "  p.join()"
      ],
      "execution_count": null,
      "outputs": [
        {
          "output_type": "stream",
          "text": [
            "Executando operação: soma\n",
            "Resultado: 300\n"
          ],
          "name": "stdout"
        }
      ]
    },
    {
      "cell_type": "markdown",
      "metadata": {
        "id": "GT-dQZCbMvYs"
      },
      "source": [
        "# Exemplo de uso de fila de mensagens"
      ]
    },
    {
      "cell_type": "code",
      "metadata": {
        "colab": {
          "base_uri": "https://localhost:8080/"
        },
        "id": "xa76nlNaM0fk",
        "outputId": "c08830c9-4900-4d41-eb1a-2d32a6019f33"
      },
      "source": [
        "from multiprocessing import Process, Queue\n",
        "\n",
        "def consumidor(fila):\n",
        "  while fila.empty() == False:\n",
        "    msg = fila.get()\n",
        "    print('Mensagem recebida:', msg)\n",
        "\n",
        "if __name__ == '__main__':\n",
        "  fila = Queue()\n",
        "  cons = Process(target=consumidor, args=(fila,))\n",
        "  for i in range (1,10):\n",
        "    msg = 'Teste ' + str(i)\n",
        "    print('Enviando mensagem: %s' % msg)\n",
        "    fila.put(msg)\n",
        "  cons.start()\n",
        "  cons.join()\n",
        "  fila.close()\n",
        "  fila.join_thread()"
      ],
      "execution_count": null,
      "outputs": [
        {
          "output_type": "stream",
          "text": [
            "Enviando mensagem: Teste 1\n",
            "Enviando mensagem: Teste 2\n",
            "Enviando mensagem: Teste 3\n",
            "Enviando mensagem: Teste 4\n",
            "Enviando mensagem: Teste 5\n",
            "Enviando mensagem: Teste 6\n",
            "Enviando mensagem: Teste 7\n",
            "Enviando mensagem: Teste 8\n",
            "Enviando mensagem: Teste 9\n",
            "Mensagem recebida: Teste 1\n",
            "Mensagem recebida: Teste 2\n",
            "Mensagem recebida: Teste 3\n",
            "Mensagem recebida: Teste 4\n",
            "Mensagem recebida: Teste 5\n",
            "Mensagem recebida: Teste 6\n",
            "Mensagem recebida: Teste 7\n",
            "Mensagem recebida: Teste 8\n",
            "Mensagem recebida: Teste 9\n"
          ],
          "name": "stdout"
        }
      ]
    },
    {
      "cell_type": "markdown",
      "metadata": {
        "id": "IB4Hfu9qdXyA"
      },
      "source": [
        "# Exemplo de uso de memória compartilhada"
      ]
    },
    {
      "cell_type": "code",
      "metadata": {
        "colab": {
          "base_uri": "https://localhost:8080/"
        },
        "id": "UebbrwQadcMq",
        "outputId": "06db8619-a3b8-496f-bc27-c7e431390d20"
      },
      "source": [
        "from multiprocessing import Process, Value, Array\n",
        "\n",
        "def double(v, a):\n",
        "  v.value = v.value * 2\n",
        "  for i in range(len(a)):\n",
        "    a[i] = a[i] * 2\n",
        "\n",
        "if __name__ == '__main__':\n",
        "  val = Value('d', 1.99)\n",
        "  arr = Array('i', range(5))\n",
        "  print('Valor Inicial:', val.value)\n",
        "  print('Array Inicial:', arr[:])\n",
        "  p = Process(target=double, args=(val, arr))\n",
        "  p.start()\n",
        "  p.join()\n",
        "  print('Valor Final:', val.value)\n",
        "  print('Array Final:', arr[:])"
      ],
      "execution_count": null,
      "outputs": [
        {
          "output_type": "stream",
          "text": [
            "Valor Inicial: 1.99\n",
            "Array Inicial: [0, 1, 2, 3, 4]\n",
            "Valor Final: 3.98\n",
            "Array Final: [0, 2, 4, 6, 8]\n"
          ],
          "name": "stdout"
        }
      ]
    }
  ]
}