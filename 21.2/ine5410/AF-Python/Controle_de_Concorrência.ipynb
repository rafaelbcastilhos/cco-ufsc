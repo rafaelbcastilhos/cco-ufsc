{
  "nbformat": 4,
  "nbformat_minor": 0,
  "metadata": {
    "colab": {
      "name": "Controle de Concorrência.ipynb",
      "provenance": []
    },
    "kernelspec": {
      "name": "python3",
      "display_name": "Python 3"
    },
    "language_info": {
      "name": "python"
    }
  },
  "cells": [
    {
      "cell_type": "markdown",
      "metadata": {
        "id": "YXueGQT8uS-2"
      },
      "source": [
        "# Condição de Corrida\n",
        "\n",
        "\n",
        "\n",
        "\n"
      ]
    },
    {
      "cell_type": "code",
      "metadata": {
        "colab": {
          "base_uri": "https://localhost:8080/"
        },
        "id": "vu2SP_hvuLh4",
        "outputId": "ca3119be-65fe-4eb4-fbf2-fe90d3cc60ec"
      },
      "source": [
        "from threading import Thread\n",
        "\n",
        "def gera_nf():\n",
        "  global cont_nf\n",
        "  prox_nf = cont_nf       # calcula o numero da NF\n",
        "  print('Gerando NF no. ' + str(prox_nf) +'\\n', end='')\n",
        "  cont_nf += 1            # atualiza o contador de NFs\n",
        "\n",
        "cont_nf = 1\n",
        "threads = [Thread(target=gera_nf) for i in range(10)]\n",
        "for thread in threads:\n",
        "  thread.start()\n",
        "for thread in threads:\n",
        "  thread.join()"
      ],
      "execution_count": null,
      "outputs": [
        {
          "output_type": "stream",
          "text": [
            "Gerando NF no. 1\n",
            "Gerando NF no. 2\n",
            "Gerando NF no. 3\n",
            "Gerando NF no. 4\n",
            "Gerando NF no. 4\n",
            "Gerando NF no. 6\n",
            "Gerando NF no. 6\n",
            "Gerando NF no. 7\n",
            "Gerando NF no. 8\n",
            "Gerando NF no. 10\n"
          ],
          "name": "stdout"
        }
      ]
    },
    {
      "cell_type": "markdown",
      "metadata": {
        "id": "BJRcLKt_3KR9"
      },
      "source": [
        "# Exemplo de uso do Lock"
      ]
    },
    {
      "cell_type": "code",
      "metadata": {
        "colab": {
          "base_uri": "https://localhost:8080/"
        },
        "id": "IFQ46GtK3NvD",
        "outputId": "eac59be3-e892-4350-ac0d-2cbf9cebd642"
      },
      "source": [
        "from threading import Thread, Lock\n",
        "\n",
        "def gera_nf_com_lock():\n",
        "  global cont_nf\n",
        "  lock.acquire()\n",
        "  prox_nf = cont_nf + 1   # calcula o numero da NF\n",
        "  print('Gerando NF no. %i' % prox_nf)\n",
        "  cont_nf += 1            # atualiza o contador de NFs\n",
        "  lock.release()\n",
        "\n",
        "cont_nf = 0\n",
        "lock = Lock()\n",
        "threads = [Thread(target=gera_nf_com_lock) for i in range(10)]\n",
        "for thread in threads:\n",
        "  thread.start()\n",
        "for thread in threads:\n",
        "  thread.join()"
      ],
      "execution_count": null,
      "outputs": [
        {
          "output_type": "stream",
          "text": [
            "Gerando NF no. 1\n",
            "Gerando NF no. 2\n",
            "Gerando NF no. 3\n",
            "Gerando NF no. 4\n",
            "Gerando NF no. 5\n",
            "Gerando NF no. 6\n",
            "Gerando NF no. 7\n",
            "Gerando NF no. 8\n",
            "Gerando NF no. 9\n",
            "Gerando NF no. 10\n"
          ],
          "name": "stdout"
        }
      ]
    },
    {
      "cell_type": "code",
      "metadata": {
        "colab": {
          "base_uri": "https://localhost:8080/"
        },
        "id": "VVQXbFZ65Ky0",
        "outputId": "7c2db740-9094-4e4a-e08c-3237743c8484"
      },
      "source": [
        "from threading import Thread, Lock\n",
        "\n",
        "def gera_nf_com_with():\n",
        "  global cont_nf\n",
        "  with lock:\n",
        "    prox_nf = cont_nf + 1   # calcula o numero da NF\n",
        "    print('Gerando NF no. %i' % prox_nf)\n",
        "    cont_nf += 1            # atualiza o contador de NFs\n",
        "\n",
        "cont_nf = 0\n",
        "lock = Lock()\n",
        "threads = [Thread(target=gera_nf_com_with) for i in range(10)]\n",
        "for thread in threads:\n",
        "  thread.start()\n",
        "for thread in threads:\n",
        "  thread.join()"
      ],
      "execution_count": null,
      "outputs": [
        {
          "output_type": "stream",
          "text": [
            "Gerando NF no. 1\n",
            "Gerando NF no. 2\n",
            "Gerando NF no. 3\n",
            "Gerando NF no. 4\n",
            "Gerando NF no. 5\n",
            "Gerando NF no. 6\n",
            "Gerando NF no. 7\n",
            "Gerando NF no. 8\n",
            "Gerando NF no. 9\n",
            "Gerando NF no. 10\n"
          ],
          "name": "stdout"
        }
      ]
    },
    {
      "cell_type": "markdown",
      "metadata": {
        "id": "Fq00ZP1sUfQy"
      },
      "source": [
        "# Exemplo de uso de Condition"
      ]
    },
    {
      "cell_type": "code",
      "metadata": {
        "colab": {
          "base_uri": "https://localhost:8080/"
        },
        "id": "K_tWe8WkUkem",
        "outputId": "8bc040a0-ec1f-4ea3-e59c-7797de3f4915"
      },
      "source": [
        "from time import sleep\n",
        "from random import randint\n",
        "from threading import Thread, Lock, Condition\n",
        "\n",
        "def produtor():\n",
        "  global buffer\n",
        "  for i in range(10):\n",
        "    sleep(randint(0,2))           # fica um tempo produzindo...\n",
        "    item = 'item ' + str(i)\n",
        "    with lock:\n",
        "      if len(buffer) == tam_buffer:\n",
        "        print('>>> Buffer cheio. Produtor irá aguardar.')\n",
        "        lugar_no_buffer.wait()    # aguarda que haja lugar no buffer\n",
        "      buffer.append(item)\n",
        "      print('Produzido %s (há %i itens no buffer)' % (item,len(buffer)))\n",
        "      item_no_buffer.notify()\n",
        "\n",
        "def consumidor():\n",
        "  global buffer\n",
        "  for i in range(10):\n",
        "    with lock:\n",
        "      if len(buffer) == 0:\n",
        "        print('>>> Buffer vazio. Consumidor irá aguardar.')\n",
        "        item_no_buffer.wait()   # aguarda que haja um item para consumir \n",
        "      item = buffer.pop(0)\n",
        "      print('Consumido %s (há %i itens no buffer)' % (item,len(buffer)))\n",
        "      lugar_no_buffer.notify()\n",
        "    sleep(randint(0,2))         # fica um tempo consumindo...\n",
        "\n",
        "buffer = []\n",
        "tam_buffer = 3\n",
        "lock = Lock()\n",
        "lugar_no_buffer = Condition(lock)\n",
        "item_no_buffer = Condition(lock)\n",
        "produtor = Thread(target=produtor) \n",
        "consumidor = Thread(target=consumidor) \n",
        "produtor.start()\n",
        "consumidor.start()\n",
        "produtor.join()\n",
        "consumidor.join() "
      ],
      "execution_count": null,
      "outputs": [
        {
          "output_type": "stream",
          "text": [
            ">>> Buffer vazio. Consumidor irá aguardar.\n",
            "Produzido item 0 (há 1 itens no buffer)\n",
            "Consumido item 0 (há 0 itens no buffer)\n",
            "Produzido item 1 (há 1 itens no buffer)\n",
            "Consumido item 1 (há 0 itens no buffer)\n",
            ">>> Buffer vazio. Consumidor irá aguardar.\n",
            "Produzido item 2 (há 1 itens no buffer)\n",
            "Produzido item 3 (há 2 itens no buffer)\n",
            "Consumido item 2 (há 1 itens no buffer)\n",
            "Consumido item 3 (há 0 itens no buffer)\n",
            "Produzido item 4 (há 1 itens no buffer)\n",
            "Consumido item 4 (há 0 itens no buffer)\n",
            "Produzido item 5 (há 1 itens no buffer)\n",
            "Consumido item 5 (há 0 itens no buffer)\n",
            ">>> Buffer vazio. Consumidor irá aguardar.\n",
            "Produzido item 6 (há 1 itens no buffer)\n",
            "Consumido item 6 (há 0 itens no buffer)\n",
            "Produzido item 7 (há 1 itens no buffer)\n",
            "Produzido item 8 (há 2 itens no buffer)\n",
            "Consumido item 7 (há 1 itens no buffer)\n",
            "Consumido item 8 (há 0 itens no buffer)\n",
            "Produzido item 9 (há 1 itens no buffer)\n",
            "Consumido item 9 (há 0 itens no buffer)\n"
          ],
          "name": "stdout"
        }
      ]
    },
    {
      "cell_type": "markdown",
      "metadata": {
        "id": "5qlF8JC20U2D"
      },
      "source": [
        "# Exemplo de uso da classe Semaphore"
      ]
    },
    {
      "cell_type": "code",
      "metadata": {
        "colab": {
          "base_uri": "https://localhost:8080/"
        },
        "id": "Mj18_vj80ZyS",
        "outputId": "93727f7e-0137-4e8a-e7b7-abc6ac90cdca"
      },
      "source": [
        "from time import sleep\n",
        "from threading import Thread, Semaphore\n",
        "\n",
        "def usa_licenca(i):\n",
        "  sem.acquire()\n",
        "  print('Thread %i está usando uma licença\\n' % i, end='' )\n",
        "  sleep(2)   # usa a licença durante um tempo...\n",
        "  print('Thread %i acabou de usar uma licença\\n' % i, end='' )\n",
        "  sem.release()\n",
        "\n",
        "num_licencas = 2\n",
        "sem = Semaphore(num_licencas)\n",
        "threads = [Thread(target=usa_licenca,args=(i,)) for i in range(10)]\n",
        "for thread in threads:\n",
        "  thread.start()\n",
        "for thread in threads:\n",
        "  thread.join()"
      ],
      "execution_count": null,
      "outputs": [
        {
          "output_type": "stream",
          "text": [
            "Thread 0 está usando uma licença\n",
            "Thread 1 está usando uma licença\n",
            "Thread 2 está usando uma licença\n",
            "Thread 3 está usando uma licença\n",
            "Thread 0 acabou de usar uma licença\n",
            "Thread 4 está usando uma licença\n",
            "Thread 2 acabou de usar uma licença\n",
            "Thread 5 está usando uma licença\n",
            "Thread 1 acabou de usar uma licença\n",
            "Thread 6 está usando uma licença\n",
            "Thread 3 acabou de usar uma licença\n",
            "Thread 7 está usando uma licença\n",
            "Thread 4 acabou de usar uma licença\n",
            "Thread 8 está usando uma licença\n",
            "Thread 5 acabou de usar uma licença\n",
            "Thread 6 acabou de usar uma licença\n",
            "Thread 9 está usando uma licença\n",
            "Thread 7 acabou de usar uma licença\n",
            "Thread 8 acabou de usar uma licença\n",
            "Thread 9 acabou de usar uma licença\n"
          ],
          "name": "stdout"
        }
      ]
    }
  ]
}